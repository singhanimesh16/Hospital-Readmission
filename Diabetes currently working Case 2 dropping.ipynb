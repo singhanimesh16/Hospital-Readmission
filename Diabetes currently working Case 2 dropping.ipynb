{
 "cells": [
  {
   "cell_type": "markdown",
   "metadata": {},
   "source": [
    "https://archive.ics.uci.edu/ml/datasets/Diabetes+130-US+hospitals+for+years+1999-2008"
   ]
  },
  {
   "cell_type": "code",
   "execution_count": 1,
   "metadata": {},
   "outputs": [
    {
     "name": "stderr",
     "output_type": "stream",
     "text": [
      "Using TensorFlow backend.\n"
     ]
    }
   ],
   "source": [
    "import numpy as np\n",
    "import pandas as pd\n",
    "import seaborn as sns\n",
    "import matplotlib.pyplot as plt\n",
    "pd.set_option('display.max_columns', 500)\n",
    "from sklearn.cluster import KMeans\n",
    "from sklearn.model_selection import train_test_split\n",
    "\n",
    "from sklearn.model_selection import train_test_split\n",
    "from sklearn.linear_model import LogisticRegression\n",
    "from sklearn.model_selection import cross_val_score\n",
    "\n",
    "from imblearn.over_sampling import SMOTE\n",
    "from collections import Counter\n",
    "from scipy.stats import stats"
   ]
  },
  {
   "cell_type": "markdown",
   "metadata": {},
   "source": [
    "### Dealing with missing values\n",
    "First we have to see how many missing values are (which were coded as “?” for most variables in the data):"
   ]
  },
  {
   "cell_type": "code",
   "execution_count": 2,
   "metadata": {},
   "outputs": [],
   "source": [
    "df = pd.read_csv('diabetic_data.csv')\n",
    "df = df.replace(['?', 'Unknown/Invalid'], [np.nan,np.nan])"
   ]
  },
  {
   "cell_type": "code",
   "execution_count": 5,
   "metadata": {},
   "outputs": [
    {
     "data": {
      "text/html": [
       "<div>\n",
       "<style scoped>\n",
       "    .dataframe tbody tr th:only-of-type {\n",
       "        vertical-align: middle;\n",
       "    }\n",
       "\n",
       "    .dataframe tbody tr th {\n",
       "        vertical-align: top;\n",
       "    }\n",
       "\n",
       "    .dataframe thead th {\n",
       "        text-align: right;\n",
       "    }\n",
       "</style>\n",
       "<table border=\"1\" class=\"dataframe\">\n",
       "  <thead>\n",
       "    <tr style=\"text-align: right;\">\n",
       "      <th></th>\n",
       "      <th>encounter_id</th>\n",
       "      <th>patient_nbr</th>\n",
       "      <th>race</th>\n",
       "      <th>gender</th>\n",
       "      <th>age</th>\n",
       "      <th>weight</th>\n",
       "      <th>admission_type_id</th>\n",
       "      <th>discharge_disposition_id</th>\n",
       "      <th>admission_source_id</th>\n",
       "      <th>time_in_hospital</th>\n",
       "      <th>payer_code</th>\n",
       "      <th>medical_specialty</th>\n",
       "      <th>num_lab_procedures</th>\n",
       "      <th>num_procedures</th>\n",
       "      <th>num_medications</th>\n",
       "      <th>number_outpatient</th>\n",
       "      <th>number_emergency</th>\n",
       "      <th>number_inpatient</th>\n",
       "      <th>diag_1</th>\n",
       "      <th>diag_2</th>\n",
       "      <th>diag_3</th>\n",
       "      <th>number_diagnoses</th>\n",
       "      <th>max_glu_serum</th>\n",
       "      <th>A1Cresult</th>\n",
       "      <th>metformin</th>\n",
       "      <th>repaglinide</th>\n",
       "      <th>nateglinide</th>\n",
       "      <th>chlorpropamide</th>\n",
       "      <th>glimepiride</th>\n",
       "      <th>acetohexamide</th>\n",
       "      <th>glipizide</th>\n",
       "      <th>glyburide</th>\n",
       "      <th>tolbutamide</th>\n",
       "      <th>pioglitazone</th>\n",
       "      <th>rosiglitazone</th>\n",
       "      <th>acarbose</th>\n",
       "      <th>miglitol</th>\n",
       "      <th>troglitazone</th>\n",
       "      <th>tolazamide</th>\n",
       "      <th>examide</th>\n",
       "      <th>citoglipton</th>\n",
       "      <th>insulin</th>\n",
       "      <th>glyburide-metformin</th>\n",
       "      <th>glipizide-metformin</th>\n",
       "      <th>glimepiride-pioglitazone</th>\n",
       "      <th>metformin-rosiglitazone</th>\n",
       "      <th>metformin-pioglitazone</th>\n",
       "      <th>change</th>\n",
       "      <th>diabetesMed</th>\n",
       "      <th>readmitted</th>\n",
       "    </tr>\n",
       "  </thead>\n",
       "  <tbody>\n",
       "    <tr>\n",
       "      <th>0</th>\n",
       "      <td>2278392</td>\n",
       "      <td>8222157</td>\n",
       "      <td>Caucasian</td>\n",
       "      <td>Female</td>\n",
       "      <td>[0-10)</td>\n",
       "      <td>NaN</td>\n",
       "      <td>6</td>\n",
       "      <td>25</td>\n",
       "      <td>1</td>\n",
       "      <td>1</td>\n",
       "      <td>NaN</td>\n",
       "      <td>Pediatrics-Endocrinology</td>\n",
       "      <td>41</td>\n",
       "      <td>0</td>\n",
       "      <td>1</td>\n",
       "      <td>0</td>\n",
       "      <td>0</td>\n",
       "      <td>0</td>\n",
       "      <td>250.83</td>\n",
       "      <td>NaN</td>\n",
       "      <td>NaN</td>\n",
       "      <td>1</td>\n",
       "      <td>None</td>\n",
       "      <td>None</td>\n",
       "      <td>No</td>\n",
       "      <td>No</td>\n",
       "      <td>No</td>\n",
       "      <td>No</td>\n",
       "      <td>No</td>\n",
       "      <td>No</td>\n",
       "      <td>No</td>\n",
       "      <td>No</td>\n",
       "      <td>No</td>\n",
       "      <td>No</td>\n",
       "      <td>No</td>\n",
       "      <td>No</td>\n",
       "      <td>No</td>\n",
       "      <td>No</td>\n",
       "      <td>No</td>\n",
       "      <td>No</td>\n",
       "      <td>No</td>\n",
       "      <td>No</td>\n",
       "      <td>No</td>\n",
       "      <td>No</td>\n",
       "      <td>No</td>\n",
       "      <td>No</td>\n",
       "      <td>No</td>\n",
       "      <td>No</td>\n",
       "      <td>No</td>\n",
       "      <td>NO</td>\n",
       "    </tr>\n",
       "    <tr>\n",
       "      <th>1</th>\n",
       "      <td>149190</td>\n",
       "      <td>55629189</td>\n",
       "      <td>Caucasian</td>\n",
       "      <td>Female</td>\n",
       "      <td>[10-20)</td>\n",
       "      <td>NaN</td>\n",
       "      <td>1</td>\n",
       "      <td>1</td>\n",
       "      <td>7</td>\n",
       "      <td>3</td>\n",
       "      <td>NaN</td>\n",
       "      <td>NaN</td>\n",
       "      <td>59</td>\n",
       "      <td>0</td>\n",
       "      <td>18</td>\n",
       "      <td>0</td>\n",
       "      <td>0</td>\n",
       "      <td>0</td>\n",
       "      <td>276</td>\n",
       "      <td>250.01</td>\n",
       "      <td>255</td>\n",
       "      <td>9</td>\n",
       "      <td>None</td>\n",
       "      <td>None</td>\n",
       "      <td>No</td>\n",
       "      <td>No</td>\n",
       "      <td>No</td>\n",
       "      <td>No</td>\n",
       "      <td>No</td>\n",
       "      <td>No</td>\n",
       "      <td>No</td>\n",
       "      <td>No</td>\n",
       "      <td>No</td>\n",
       "      <td>No</td>\n",
       "      <td>No</td>\n",
       "      <td>No</td>\n",
       "      <td>No</td>\n",
       "      <td>No</td>\n",
       "      <td>No</td>\n",
       "      <td>No</td>\n",
       "      <td>No</td>\n",
       "      <td>Up</td>\n",
       "      <td>No</td>\n",
       "      <td>No</td>\n",
       "      <td>No</td>\n",
       "      <td>No</td>\n",
       "      <td>No</td>\n",
       "      <td>Ch</td>\n",
       "      <td>Yes</td>\n",
       "      <td>&gt;30</td>\n",
       "    </tr>\n",
       "    <tr>\n",
       "      <th>2</th>\n",
       "      <td>64410</td>\n",
       "      <td>86047875</td>\n",
       "      <td>AfricanAmerican</td>\n",
       "      <td>Female</td>\n",
       "      <td>[20-30)</td>\n",
       "      <td>NaN</td>\n",
       "      <td>1</td>\n",
       "      <td>1</td>\n",
       "      <td>7</td>\n",
       "      <td>2</td>\n",
       "      <td>NaN</td>\n",
       "      <td>NaN</td>\n",
       "      <td>11</td>\n",
       "      <td>5</td>\n",
       "      <td>13</td>\n",
       "      <td>2</td>\n",
       "      <td>0</td>\n",
       "      <td>1</td>\n",
       "      <td>648</td>\n",
       "      <td>250</td>\n",
       "      <td>V27</td>\n",
       "      <td>6</td>\n",
       "      <td>None</td>\n",
       "      <td>None</td>\n",
       "      <td>No</td>\n",
       "      <td>No</td>\n",
       "      <td>No</td>\n",
       "      <td>No</td>\n",
       "      <td>No</td>\n",
       "      <td>No</td>\n",
       "      <td>Steady</td>\n",
       "      <td>No</td>\n",
       "      <td>No</td>\n",
       "      <td>No</td>\n",
       "      <td>No</td>\n",
       "      <td>No</td>\n",
       "      <td>No</td>\n",
       "      <td>No</td>\n",
       "      <td>No</td>\n",
       "      <td>No</td>\n",
       "      <td>No</td>\n",
       "      <td>No</td>\n",
       "      <td>No</td>\n",
       "      <td>No</td>\n",
       "      <td>No</td>\n",
       "      <td>No</td>\n",
       "      <td>No</td>\n",
       "      <td>No</td>\n",
       "      <td>Yes</td>\n",
       "      <td>NO</td>\n",
       "    </tr>\n",
       "    <tr>\n",
       "      <th>3</th>\n",
       "      <td>500364</td>\n",
       "      <td>82442376</td>\n",
       "      <td>Caucasian</td>\n",
       "      <td>Male</td>\n",
       "      <td>[30-40)</td>\n",
       "      <td>NaN</td>\n",
       "      <td>1</td>\n",
       "      <td>1</td>\n",
       "      <td>7</td>\n",
       "      <td>2</td>\n",
       "      <td>NaN</td>\n",
       "      <td>NaN</td>\n",
       "      <td>44</td>\n",
       "      <td>1</td>\n",
       "      <td>16</td>\n",
       "      <td>0</td>\n",
       "      <td>0</td>\n",
       "      <td>0</td>\n",
       "      <td>8</td>\n",
       "      <td>250.43</td>\n",
       "      <td>403</td>\n",
       "      <td>7</td>\n",
       "      <td>None</td>\n",
       "      <td>None</td>\n",
       "      <td>No</td>\n",
       "      <td>No</td>\n",
       "      <td>No</td>\n",
       "      <td>No</td>\n",
       "      <td>No</td>\n",
       "      <td>No</td>\n",
       "      <td>No</td>\n",
       "      <td>No</td>\n",
       "      <td>No</td>\n",
       "      <td>No</td>\n",
       "      <td>No</td>\n",
       "      <td>No</td>\n",
       "      <td>No</td>\n",
       "      <td>No</td>\n",
       "      <td>No</td>\n",
       "      <td>No</td>\n",
       "      <td>No</td>\n",
       "      <td>Up</td>\n",
       "      <td>No</td>\n",
       "      <td>No</td>\n",
       "      <td>No</td>\n",
       "      <td>No</td>\n",
       "      <td>No</td>\n",
       "      <td>Ch</td>\n",
       "      <td>Yes</td>\n",
       "      <td>NO</td>\n",
       "    </tr>\n",
       "    <tr>\n",
       "      <th>4</th>\n",
       "      <td>16680</td>\n",
       "      <td>42519267</td>\n",
       "      <td>Caucasian</td>\n",
       "      <td>Male</td>\n",
       "      <td>[40-50)</td>\n",
       "      <td>NaN</td>\n",
       "      <td>1</td>\n",
       "      <td>1</td>\n",
       "      <td>7</td>\n",
       "      <td>1</td>\n",
       "      <td>NaN</td>\n",
       "      <td>NaN</td>\n",
       "      <td>51</td>\n",
       "      <td>0</td>\n",
       "      <td>8</td>\n",
       "      <td>0</td>\n",
       "      <td>0</td>\n",
       "      <td>0</td>\n",
       "      <td>197</td>\n",
       "      <td>157</td>\n",
       "      <td>250</td>\n",
       "      <td>5</td>\n",
       "      <td>None</td>\n",
       "      <td>None</td>\n",
       "      <td>No</td>\n",
       "      <td>No</td>\n",
       "      <td>No</td>\n",
       "      <td>No</td>\n",
       "      <td>No</td>\n",
       "      <td>No</td>\n",
       "      <td>Steady</td>\n",
       "      <td>No</td>\n",
       "      <td>No</td>\n",
       "      <td>No</td>\n",
       "      <td>No</td>\n",
       "      <td>No</td>\n",
       "      <td>No</td>\n",
       "      <td>No</td>\n",
       "      <td>No</td>\n",
       "      <td>No</td>\n",
       "      <td>No</td>\n",
       "      <td>Steady</td>\n",
       "      <td>No</td>\n",
       "      <td>No</td>\n",
       "      <td>No</td>\n",
       "      <td>No</td>\n",
       "      <td>No</td>\n",
       "      <td>Ch</td>\n",
       "      <td>Yes</td>\n",
       "      <td>NO</td>\n",
       "    </tr>\n",
       "  </tbody>\n",
       "</table>\n",
       "</div>"
      ],
      "text/plain": [
       "   encounter_id  patient_nbr             race  gender      age weight  \\\n",
       "0       2278392      8222157        Caucasian  Female   [0-10)    NaN   \n",
       "1        149190     55629189        Caucasian  Female  [10-20)    NaN   \n",
       "2         64410     86047875  AfricanAmerican  Female  [20-30)    NaN   \n",
       "3        500364     82442376        Caucasian    Male  [30-40)    NaN   \n",
       "4         16680     42519267        Caucasian    Male  [40-50)    NaN   \n",
       "\n",
       "   admission_type_id  discharge_disposition_id  admission_source_id  \\\n",
       "0                  6                        25                    1   \n",
       "1                  1                         1                    7   \n",
       "2                  1                         1                    7   \n",
       "3                  1                         1                    7   \n",
       "4                  1                         1                    7   \n",
       "\n",
       "   time_in_hospital payer_code         medical_specialty  num_lab_procedures  \\\n",
       "0                 1        NaN  Pediatrics-Endocrinology                  41   \n",
       "1                 3        NaN                       NaN                  59   \n",
       "2                 2        NaN                       NaN                  11   \n",
       "3                 2        NaN                       NaN                  44   \n",
       "4                 1        NaN                       NaN                  51   \n",
       "\n",
       "   num_procedures  num_medications  number_outpatient  number_emergency  \\\n",
       "0               0                1                  0                 0   \n",
       "1               0               18                  0                 0   \n",
       "2               5               13                  2                 0   \n",
       "3               1               16                  0                 0   \n",
       "4               0                8                  0                 0   \n",
       "\n",
       "   number_inpatient  diag_1  diag_2 diag_3  number_diagnoses max_glu_serum  \\\n",
       "0                 0  250.83     NaN    NaN                 1          None   \n",
       "1                 0     276  250.01    255                 9          None   \n",
       "2                 1     648     250    V27                 6          None   \n",
       "3                 0       8  250.43    403                 7          None   \n",
       "4                 0     197     157    250                 5          None   \n",
       "\n",
       "  A1Cresult metformin repaglinide nateglinide chlorpropamide glimepiride  \\\n",
       "0      None        No          No          No             No          No   \n",
       "1      None        No          No          No             No          No   \n",
       "2      None        No          No          No             No          No   \n",
       "3      None        No          No          No             No          No   \n",
       "4      None        No          No          No             No          No   \n",
       "\n",
       "  acetohexamide glipizide glyburide tolbutamide pioglitazone rosiglitazone  \\\n",
       "0            No        No        No          No           No            No   \n",
       "1            No        No        No          No           No            No   \n",
       "2            No    Steady        No          No           No            No   \n",
       "3            No        No        No          No           No            No   \n",
       "4            No    Steady        No          No           No            No   \n",
       "\n",
       "  acarbose miglitol troglitazone tolazamide examide citoglipton insulin  \\\n",
       "0       No       No           No         No      No          No      No   \n",
       "1       No       No           No         No      No          No      Up   \n",
       "2       No       No           No         No      No          No      No   \n",
       "3       No       No           No         No      No          No      Up   \n",
       "4       No       No           No         No      No          No  Steady   \n",
       "\n",
       "  glyburide-metformin glipizide-metformin glimepiride-pioglitazone  \\\n",
       "0                  No                  No                       No   \n",
       "1                  No                  No                       No   \n",
       "2                  No                  No                       No   \n",
       "3                  No                  No                       No   \n",
       "4                  No                  No                       No   \n",
       "\n",
       "  metformin-rosiglitazone metformin-pioglitazone change diabetesMed readmitted  \n",
       "0                      No                     No     No          No         NO  \n",
       "1                      No                     No     Ch         Yes        >30  \n",
       "2                      No                     No     No         Yes         NO  \n",
       "3                      No                     No     Ch         Yes         NO  \n",
       "4                      No                     No     Ch         Yes         NO  "
      ]
     },
     "execution_count": 5,
     "metadata": {},
     "output_type": "execute_result"
    }
   ],
   "source": [
    "df.head()"
   ]
  },
  {
   "cell_type": "code",
   "execution_count": 17,
   "metadata": {
    "scrolled": true
   },
   "outputs": [
    {
     "data": {
      "text/html": [
       "<div>\n",
       "<style scoped>\n",
       "    .dataframe tbody tr th:only-of-type {\n",
       "        vertical-align: middle;\n",
       "    }\n",
       "\n",
       "    .dataframe tbody tr th {\n",
       "        vertical-align: top;\n",
       "    }\n",
       "\n",
       "    .dataframe thead th {\n",
       "        text-align: right;\n",
       "    }\n",
       "</style>\n",
       "<table border=\"1\" class=\"dataframe\">\n",
       "  <thead>\n",
       "    <tr style=\"text-align: right;\">\n",
       "      <th></th>\n",
       "      <th>missing</th>\n",
       "      <th>percent_missing</th>\n",
       "    </tr>\n",
       "  </thead>\n",
       "  <tbody>\n",
       "    <tr>\n",
       "      <th>race</th>\n",
       "      <td>2273</td>\n",
       "      <td>2.234</td>\n",
       "    </tr>\n",
       "    <tr>\n",
       "      <th>gender</th>\n",
       "      <td>3</td>\n",
       "      <td>0.003</td>\n",
       "    </tr>\n",
       "    <tr>\n",
       "      <th>weight</th>\n",
       "      <td>98569</td>\n",
       "      <td>96.858</td>\n",
       "    </tr>\n",
       "    <tr>\n",
       "      <th>payer_code</th>\n",
       "      <td>40256</td>\n",
       "      <td>39.557</td>\n",
       "    </tr>\n",
       "    <tr>\n",
       "      <th>medical_specialty</th>\n",
       "      <td>49949</td>\n",
       "      <td>49.082</td>\n",
       "    </tr>\n",
       "    <tr>\n",
       "      <th>diag_1</th>\n",
       "      <td>21</td>\n",
       "      <td>0.021</td>\n",
       "    </tr>\n",
       "    <tr>\n",
       "      <th>diag_2</th>\n",
       "      <td>358</td>\n",
       "      <td>0.352</td>\n",
       "    </tr>\n",
       "    <tr>\n",
       "      <th>diag_3</th>\n",
       "      <td>1423</td>\n",
       "      <td>1.398</td>\n",
       "    </tr>\n",
       "  </tbody>\n",
       "</table>\n",
       "</div>"
      ],
      "text/plain": [
       "                   missing  percent_missing\n",
       "race                  2273            2.234\n",
       "gender                   3            0.003\n",
       "weight               98569           96.858\n",
       "payer_code           40256           39.557\n",
       "medical_specialty    49949           49.082\n",
       "diag_1                  21            0.021\n",
       "diag_2                 358            0.352\n",
       "diag_3                1423            1.398"
      ]
     },
     "execution_count": 17,
     "metadata": {},
     "output_type": "execute_result"
    }
   ],
   "source": [
    "#Total Missing vales and percentage respective percentage per column\n",
    "missing = df.isnull().sum()\n",
    "percent_missing = round((df.isnull().sum() * 100 / len(df)),3)\n",
    "missing_df = pd.DataFrame({'missing': missing,'percent_missing': percent_missing })\n",
    "missing_df[(missing_df['missing'] > 0) & (missing_df['percent_missing']>0)]"
   ]
  },
  {
   "cell_type": "markdown",
   "metadata": {},
   "source": [
    "#### Preprocessing"
   ]
  },
  {
   "cell_type": "markdown",
   "metadata": {},
   "source": [
    "1. Weight and payer code is missing in over 98% and 40% records. Owing to the poor interpretability of missing values and little predictive generalizability to other patients, best thing is to just drop it. We also noticed that for two variables (drugs named citoglipton and examide), all records have the same value. So essentially these cannot provide any interpretive or discriminatory information for predicting readmission, and we dropped these columns as well. \n",
    "2. We found that 3 values from gender is having 'Invalid/Unknown', so we only drop those records.\n",
    "3. Primary (diag_1), Secondary (diag_2) and Additional (diag_3) diagnoses were have very few missing values. Technically, if all three are missing, that’s bad data. So we only drop those records where all three diagnoses are missing.\n",
    "4. since we are trying to predict readmissions, those patients who died during this hospital admission, have zero probability of readmission. So we should remove those records (discharge_disposition = 11)."
   ]
  },
  {
   "cell_type": "code",
   "execution_count": 18,
   "metadata": {
    "scrolled": true
   },
   "outputs": [],
   "source": [
    "#1. Dropping ['weight',,'citoglipton','examide', payer_code ]\n",
    "df = df.drop(['weight','citoglipton' ,'examide', 'payer_code', 'medical_specialty','diag_2','diag_3'], axis = 1)\n",
    "\n",
    "#2. Dropping 3 null valued rows from gender (where 'Invalid/Unknown')\n",
    "df = df[~(df['gender'].isnull())]\n",
    "\n",
    "#3. Taking only that rows which donot contained diag_1, diag_2,diag_3 all null(i.e. 1 row in total dropped)\n",
    "df1 = df[~(df['encounter_id']== 277875756)]\n",
    "\n",
    "#4. Dropping records where discharge_disposition_id is 11\n",
    "df1 = df1[~(df1['discharge_disposition_id'] == 11)]"
   ]
  },
  {
   "cell_type": "markdown",
   "metadata": {},
   "source": [
    "Dealing with age:\n",
    "\n",
    "The dataset only gives us age as 10 year categories, so we don’t know the exact age of each patient. The previous study on this dataset used age categories as nominal variables, but we wanted to be able to see the effect of increasing age on readmission, even if in a crude way. To do that, we assume that age of the patient on average lies at the midpoint of the age category. For example, if the patient’s age category is 20–30 years, then we assume the age = 25 years. So we converted age categories to midpoints, resulting in a numeric variable:"
   ]
  },
  {
   "cell_type": "code",
   "execution_count": 19,
   "metadata": {
    "scrolled": true
   },
   "outputs": [],
   "source": [
    "#changed age bins to their median\n",
    "l = [5,15,25,35,45,55,65,75,85,95]\n",
    "\n",
    "for i in range(len(df1.age.unique())):\n",
    "    df1.age.replace(df1.age.unique()[i],l[i], inplace = True)"
   ]
  },
  {
   "cell_type": "markdown",
   "metadata": {},
   "source": [
    "### Creating and/or Recoding New Features\n",
    "\n",
    "Service utilization: \n",
    "\n",
    "The data contains variables for number of inpatient (admissions), emergency room visits and outpatient visits for a given patient in the previous one year. These are (crude) measures of how much hospital/clinic services a person has used in the past year. We added these three to create a new variable called service utilization (see figure below). The idea was to see which version gives us better results. Granted, we did not apply any special weighting to the three ingredients of service utilization but we wanted to try something simple at this stage."
   ]
  },
  {
   "cell_type": "code",
   "execution_count": 20,
   "metadata": {},
   "outputs": [],
   "source": [
    "df1['service_utilization'] = df1['number_outpatient'] + df1['number_emergency'] + df1['number_inpatient']\n",
    "df1 = df1.drop(['number_outpatient','number_emergency','number_inpatient'], axis =1)"
   ]
  },
  {
   "cell_type": "markdown",
   "metadata": {},
   "source": [
    "Admission_type_id:\n",
    "\n",
    "1, 2 and 7 correspond to Emergency, Urgent Care and Trauma, and thus were combined into a single category as these are all non-elective situations."
   ]
  },
  {
   "cell_type": "code",
   "execution_count": 21,
   "metadata": {},
   "outputs": [],
   "source": [
    "df1['admission_type_id'] = df1['admission_type_id'].replace(2,1)\n",
    "df1['admission_type_id'] = df1['admission_type_id'].replace(7,1)\n",
    "df1['admission_type_id'] = df1['admission_type_id'].replace(6,5)\n",
    "df1['admission_type_id'] = df1['admission_type_id'].replace(8,5)"
   ]
  },
  {
   "cell_type": "markdown",
   "metadata": {},
   "source": [
    "Label Encoding some variables"
   ]
  },
  {
   "cell_type": "code",
   "execution_count": 22,
   "metadata": {},
   "outputs": [],
   "source": [
    "keys = ['metformin', 'repaglinide', 'nateglinide', 'chlorpropamide', 'glimepiride', 'glipizide', 'glyburide', 'pioglitazone', 'rosiglitazone', 'acarbose', 'miglitol', 'insulin', 'glyburide-metformin', 'tolazamide', 'metformin-pioglitazone','metformin-rosiglitazone', 'glimepiride-pioglitazone', 'glipizide-metformin', 'troglitazone', 'tolbutamide', 'acetohexamide']\n",
    "for col in keys:\n",
    "    df1[col] = df1[col].apply(lambda x: 0 if x == 'No' else 1 if x == 'Steady' else 2 if x == 'Down' else 3)\n",
    "\n",
    "df1.change = df1.change.apply(lambda x: 0 if x=='No' else 1)\n",
    "df1.diabetesMed = df1.diabetesMed.apply(lambda x: 0 if x=='No' else 1)"
   ]
  },
  {
   "cell_type": "markdown",
   "metadata": {},
   "source": [
    "Recoding the outcome variable: \n",
    "\n",
    "The outcome we are looking at is whether the patient gets readmitted to the hospital within 30 days or not. The variable actually has < 30, > 30 and No Readmission categories. To reduce our problem to a binary classification, we combined the readmission after 30 days and no readmission into a single category:"
   ]
  },
  {
   "cell_type": "code",
   "execution_count": 23,
   "metadata": {},
   "outputs": [],
   "source": [
    "df1.readmitted = df1.readmitted.apply(lambda x: 1 if x=='<30' else 0)"
   ]
  },
  {
   "cell_type": "markdown",
   "metadata": {},
   "source": [
    "Categorization of diagnoses:\n",
    "\n",
    "The dataset contained upto three diagnoses for a given patient (primary, secondary and additional). However, each of these had 700–900 unique ICD codes and it is extremely difficult to include them in the model and interpret meaningfully. Therefore, we collapsed these diagnosis codes into 9 disease categories in an almost similar fashion to that done in the original publication using this dataset. These 9 categories include Circulatory, Respiratory, Digestive, Diabetes, Injury, Musculoskeletal, Genitourinary, Neoplasms, and Others.\n",
    "\n",
    "#Circulatory 390–459, 785 \n",
    "#Respiratory 460–519, 786 \n",
    "#Digestive 520–579, 787 \n",
    "#Diabetes 250.xx \n",
    "#Injury 800–999 \n",
    "#Musculoskeletal 710–739 \n",
    "#Genitourinary 580–629, 788 \n",
    "#Neoplasms 140–239 ,780, 781, 784, 790–799,240–279,680–709, 782\n",
    "#Others---: 001–139 ,290–319 ,E–V 918 ,280–289 ,320–359,630–679 ,360–389 ,740–759"
   ]
  },
  {
   "cell_type": "markdown",
   "metadata": {},
   "source": [
    "Treating Diagnosis 1:"
   ]
  },
  {
   "cell_type": "code",
   "execution_count": 24,
   "metadata": {},
   "outputs": [],
   "source": [
    "#Replacing E and V values in dataset first\n",
    "listi=df1[df1['diag_1'].str.startswith(\"V\",na=False)].index\n",
    "df1.loc[listi,'diag_1'] = \"9999\"\n",
    "listii=df1[df1['diag_1'].str.startswith(\"E\",na=False)].index\n",
    "df1.loc[listii,'diag_1'] = \"9999\"\n",
    "df1.diag_1 = df1.diag_1.fillna(-1)\n",
    "df1['diag_1'] = df1['diag_1'].astype('float64')\n",
    "\n",
    "Circulatory_index = []\n",
    "Respiratory_index = []\n",
    "Digestive_index = []\n",
    "Diabetes_index = []\n",
    "Injury_index = []\n",
    "Musculoskeletal_index = []\n",
    "Genitourinary_index = []\n",
    "Neoplasms_values = []\n",
    "Neoplasms_index = []\n",
    "Other_values = []\n",
    "Other_index = []\n",
    "\n",
    "Circulatory_index = df1[(df1['diag_1']>=390) & (df1['diag_1']<=459)].index\n",
    "\n",
    "Circulatory_index.append(df1[df1['diag_1']==785].index)\n",
    "\n",
    "Respiratory_index = df1[(df1['diag_1']>=460) & (df1['diag_1']<=519)].index\n",
    "\n",
    "Digestive_index = df1[(df1['diag_1']>=520) & (df1['diag_1']<=579)].index\n",
    "\n",
    "Diabetes_index = df1[(df1['diag_1']>=250.00) & (df1['diag_1']<251)].index\n",
    "Injury_index = df1[(df1['diag_1']>=800) & (df1['diag_1']<=999.00)].index\n",
    "Musculoskeletal_index = df1[(df1['diag_1']>=710) & (df1['diag_1']<=739)].index\n",
    "\n",
    "Genitourinary_index = df1[(df1['diag_1']>=580) & (df1['diag_1']<=629)].index\n",
    "\n",
    "for i in df1['diag_1']:\n",
    "    if ((i>=1) & (i<250)) or ((i>250) & (i<=279)) or ((i>=680) & (i<=709)) or ((i>=790) & (i<=799)) or ((i>=780) & (i<=784)) or (i==789):\n",
    "        Neoplasms_values.append(i)\n",
    "Neoplasms_index = df1[df1['diag_1'].isin(Neoplasms_values)].index\n",
    "\n",
    "for j in df1['diag_1']:\n",
    "    if ((j>=280) & (j<=389)) or ((j>=630) & (j<=679)) or ((j>=740) & (j<=759)) or (j==9999):\n",
    "        Other_values.append(j)\n",
    "Other_index = df1[df1['diag_1'].isin(Other_values)].index\n",
    "\n",
    "df1['diag_1'] = df1['diag_1'].replace([785.0,786.0,787.0,788.0],['Circulatory','Respiratory','Digestive','Genitourinary'])\n",
    "\n",
    "\n",
    "df1.loc[Circulatory_index,'diag_1'] = 'Circulatory'\n",
    "df1.loc[Respiratory_index,'diag_1'] = 'Respiratory'\n",
    "df1.loc[Digestive_index,'diag_1'] = 'Digestive'\n",
    "df1.loc[Diabetes_index,'diag_1'] = 'Diabetes'\n",
    "df1.loc[Injury_index,'diag_1'] = 'Injury'\n",
    "df1.loc[Musculoskeletal_index,'diag_1'] = 'Musculoskeletal'\n",
    "df1.loc[Genitourinary_index,'diag_1'] = 'Genitourinary'\n",
    "df1.loc[Neoplasms_index,'diag_1'] = 'Neoplasms'\n",
    "df1.loc[Other_index,'diag_1'] = 'Other'\n"
   ]
  },
  {
   "cell_type": "markdown",
   "metadata": {},
   "source": [
    "Treating Diagnosis 2:"
   ]
  },
  {
   "cell_type": "markdown",
   "metadata": {},
   "source": [
    "#Replacing E and V values in dataset first\n",
    "listi=df1[df1['diag_2'].str.startswith(\"V\",na=False)].index\n",
    "df1.loc[listi,'diag_2'] = \"9999\"\n",
    "listii=df1[df1['diag_2'].str.startswith(\"E\",na=False)].index\n",
    "df1.loc[listii,'diag_2'] = \"9999\"\n",
    "df1.diag_2 = df1.diag_2.fillna(-1)\n",
    "df1['diag_2'] = df1['diag_2'].astype('float64')\n",
    "\n",
    "Circulatory_index = []\n",
    "Respiratory_index = []\n",
    "Digestive_index = []\n",
    "Diabetes_index = []\n",
    "Injury_index = []\n",
    "Musculoskeletal_index = []\n",
    "Genitourinary_index = []\n",
    "Neoplasms_values = []\n",
    "Neoplasms_index = []\n",
    "Other_values = []\n",
    "Other_index = []\n",
    "\n",
    "Circulatory_index = df1[(df1['diag_2']>=390) & (df1['diag_2']<=459)].index\n",
    "\n",
    "Circulatory_index.append(df1[df1['diag_2']==785].index)\n",
    "\n",
    "Respiratory_index = df1[(df1['diag_2']>=460) & (df1['diag_2']<=519)].index\n",
    "\n",
    "Digestive_index = df1[(df1['diag_2']>=520) & (df1['diag_2']<=579)].index\n",
    "\n",
    "Diabetes_index = df1[(df1['diag_2']>=250.00) & (df1['diag_2']<251)].index\n",
    "Injury_index = df1[(df1['diag_2']>=800) & (df1['diag_2']<=999.00)].index\n",
    "Musculoskeletal_index = df1[(df1['diag_2']>=710) & (df1['diag_2']<=739)].index\n",
    "\n",
    "Genitourinary_index = df1[(df1['diag_2']>=580) & (df1['diag_2']<=629)].index\n",
    "\n",
    "for i in df1['diag_2']:\n",
    "    if ((i>=1) & (i<250)) or ((i>250) & (i<=279)) or ((i>=680) & (i<=709)) or ((i>=790) & (i<=799)) or ((i>=780) & (i<=784)) or (i==789):\n",
    "        Neoplasms_values.append(i)\n",
    "Neoplasms_index = df1[df1['diag_2'].isin(Neoplasms_values)].index\n",
    "\n",
    "for j in df1['diag_2']:\n",
    "    if ((j>=280) & (j<=389)) or ((j>=630) & (j<=679)) or ((j>=740) & (j<=759)) or (j==9999):\n",
    "        Other_values.append(j)\n",
    "Other_index = df1[df1['diag_2'].isin(Other_values)].index\n",
    "\n",
    "df1['diag_2'] = df1['diag_2'].replace([785.0,786.0,787.0,788.0],['Circulatory','Respiratory','Digestive','Genitourinary'])\n",
    "\n",
    "\n",
    "df1.loc[Circulatory_index,'diag_2'] = 'Circulatory'\n",
    "df1.loc[Respiratory_index,'diag_2'] = 'Respiratory'\n",
    "df1.loc[Digestive_index,'diag_2'] = 'Digestive'\n",
    "df1.loc[Diabetes_index,'diag_2'] = 'Diabetes'\n",
    "df1.loc[Injury_index,'diag_2'] = 'Injury'\n",
    "df1.loc[Musculoskeletal_index,'diag_2'] = 'Musculoskeletal'\n",
    "df1.loc[Genitourinary_index,'diag_2'] = 'Genitourinary'\n",
    "df1.loc[Neoplasms_index,'diag_2'] = 'Neoplasms'\n",
    "df1.loc[Other_index,'diag_2'] = 'Other'"
   ]
  },
  {
   "cell_type": "markdown",
   "metadata": {},
   "source": [
    "Treating Diagnosis 3:"
   ]
  },
  {
   "cell_type": "markdown",
   "metadata": {},
   "source": [
    "#Replacing E and V values in dataset first\n",
    "listi=df1[df1['diag_3'].str.startswith(\"V\",na=False)].index\n",
    "df1.loc[listi,'diag_3'] = \"9999\"\n",
    "listii=df1[df1['diag_3'].str.startswith(\"E\",na=False)].index\n",
    "df1.loc[listii,'diag_3'] = \"9999\"\n",
    "df1.diag_3 = df1.diag_3.fillna(-1)\n",
    "df1['diag_3'] = df1['diag_3'].astype('float64')\n",
    "\n",
    "Circulatory_index = []\n",
    "Respiratory_index = []\n",
    "Digestive_index = []\n",
    "Diabetes_index = []\n",
    "Injury_index = []\n",
    "Musculoskeletal_index = []\n",
    "Genitourinary_index = []\n",
    "Neoplasms_values = []\n",
    "Neoplasms_index = []\n",
    "Other_values = []\n",
    "Other_index = []\n",
    "\n",
    "Circulatory_index = df1[(df1['diag_3']>=390) & (df1['diag_3']<=459)].index\n",
    "\n",
    "Circulatory_index.append(df1[df1['diag_3']==785].index)\n",
    "\n",
    "Respiratory_index = df1[(df1['diag_3']>=460) & (df1['diag_3']<=519)].index\n",
    "\n",
    "Digestive_index = df1[(df1['diag_3']>=520) & (df1['diag_3']<=579)].index\n",
    "\n",
    "Diabetes_index = df1[(df1['diag_3']>=250.00) & (df1['diag_3']<251)].index\n",
    "Injury_index = df1[(df1['diag_3']>=800) & (df1['diag_3']<=999.00)].index\n",
    "Musculoskeletal_index = df1[(df1['diag_3']>=710) & (df1['diag_3']<=739)].index\n",
    "\n",
    "Genitourinary_index = df1[(df1['diag_3']>=580) & (df1['diag_3']<=629)].index\n",
    "\n",
    "for i in df1['diag_3']:\n",
    "    if ((i>=1) & (i<250)) or ((i>250) & (i<=279)) or ((i>=680) & (i<=709)) or ((i>=790) & (i<=799)) or ((i>=780) & (i<=784)) or (i==789):\n",
    "        Neoplasms_values.append(i)\n",
    "Neoplasms_index = df1[df1['diag_3'].isin(Neoplasms_values)].index\n",
    "\n",
    "for j in df1['diag_3']:\n",
    "    if ((j>=280) & (j<=389)) or ((j>=630) & (j<=679)) or ((j>=740) & (j<=759)) or (j==9999):\n",
    "        Other_values.append(j)\n",
    "Other_index = df1[df1['diag_3'].isin(Other_values)].index\n",
    "\n",
    "df1['diag_3'] = df1['diag_3'].replace([785.0,786.0,787.0,788.0],['Circulatory','Respiratory','Digestive','Genitourinary'])\n",
    "\n",
    "\n",
    "df1.loc[Circulatory_index,'diag_3'] = 'Circulatory'\n",
    "df1.loc[Respiratory_index,'diag_3'] = 'Respiratory'\n",
    "df1.loc[Digestive_index,'diag_3'] = 'Digestive'\n",
    "df1.loc[Diabetes_index,'diag_3'] = 'Diabetes'\n",
    "df1.loc[Injury_index,'diag_3'] = 'Injury'\n",
    "df1.loc[Musculoskeletal_index,'diag_3'] = 'Musculoskeletal'\n",
    "df1.loc[Genitourinary_index,'diag_3'] = 'Genitourinary'\n",
    "df1.loc[Neoplasms_index,'diag_3'] = 'Neoplasms'\n",
    "df1.loc[Other_index,'diag_3'] = 'Other'"
   ]
  },
  {
   "cell_type": "markdown",
   "metadata": {},
   "source": [
    "Dealing with Medical Speciality:\n",
    "\n",
    "Analyzing Medical_specialty column:\n",
    "After initial observation, it is clear that this column has a lot of missing values but instead of dropping the column, we decided to keep this column since this might help us in determining which department is contributing towards readmissions and corrective measures can be taken.\n",
    "There were multiple specialties with similar department types like, pediatrics, surgery and cardiology so they were grouped into their respective departments as one specialty.\n",
    "Later we calculated the % contribution of each specialty and those with less than 3% contribution were grouped together as ‘Grouped’ for better classification within this column."
   ]
  },
  {
   "cell_type": "markdown",
   "metadata": {},
   "source": [
    "## filling missing values with 'Missing'\n",
    "df1['medical_specialty'].fillna('Missing', inplace=True)\n",
    "## grouping all medical_specialities with surgery involved\n",
    "surg=df1[df1['medical_specialty'].str.startswith(\"Surg\",na=False)].index\n",
    "df1.loc[surg,'medical_specialty'] = \"Surgery\"\n",
    "## grouping all medical_specialities that are cardio related\n",
    "card=df1[df1['medical_specialty'].str.startswith(\"Cardiolo\",na=False)].index\n",
    "df1.loc[card,'medical_specialty'] = \"Cardiology\"\n",
    "## grouping all medical_specialities that are Pediatrics related\n",
    "ped=df1[df1['medical_specialty'].str.startswith(\"Pedia\",na=False)].index\n",
    "df1.loc[ped,'medical_specialty'] = \"Pediatrics\""
   ]
  },
  {
   "cell_type": "markdown",
   "metadata": {},
   "source": [
    "## Checking for each speciality %\n",
    "med_speciality=df1['medical_specialty'].unique()\n",
    "count=0\n",
    "a=[]\n",
    "p=[]\n",
    "for i in med_speciality:\n",
    "    for j in df1['medical_specialty']:\n",
    "        if j == i:\n",
    "            count=count+1\n",
    "    a.append(count)\n",
    "    p.append(round((count/len(df1['medical_specialty'])*100),2))\n",
    "    # print(i, count, round((count/len(df1['medical_specialty'])*100),2))\n",
    "    count=0\n",
    "data=pd.DataFrame({'med_speciality': med_speciality, 'Count':a, '%':p})\n",
    "data.sort_values('%', ascending=False)"
   ]
  },
  {
   "cell_type": "markdown",
   "metadata": {},
   "source": [
    "## grouping all the departments under 3%\n",
    "df1['medical_specialty'] = df1['medical_specialty'].apply(lambda x: 'Grouped' if x not in ['Missing', 'InternalMedicine', 'Emergency/Trauma', 'Family/GeneralPractice', 'Cardiology', 'Surgery'] else x)"
   ]
  },
  {
   "cell_type": "code",
   "execution_count": 29,
   "metadata": {},
   "outputs": [],
   "source": [
    "df1 = df1[~(df1['race'].isnull())]"
   ]
  },
  {
   "cell_type": "code",
   "execution_count": 30,
   "metadata": {},
   "outputs": [],
   "source": [
    "df1['diag_1'] = df1['diag_1'].replace(-1,'Missing_diag1')\n",
    "#df1['diag_2'] = df1['diag_2'].replace(-1,'Missing_diag2')\n",
    "#df1['diag_3'] = df1['diag_3'].replace(-1,'Missing_diag3')"
   ]
  },
  {
   "cell_type": "code",
   "execution_count": 31,
   "metadata": {},
   "outputs": [],
   "source": [
    "#We also reduced both A1C test result and Glucose serum test result into categories of Normal, None and Missing.\n",
    "    \n",
    "#df1.max_glu_serum = df1.max_glu_serum.apply(lambda x: -1 if x=='None' else 0 if x=='Norm' else 1)\n",
    "#df1.A1Cresult = df1.A1Cresult.apply(lambda x: -1 if x=='None' else 0 if x=='Norm' else 1)\n",
    "df1.max_glu_serum = df1.max_glu_serum.replace('None', 'Missing_max_glu_serum')\n",
    "df1.A1Cresult = df1.A1Cresult.replace('None','Missing_A1Cresult' )\n",
    "df1.max_glu_serum = df1.max_glu_serum.replace(['>300','>200'],'Not_Normal')\n",
    "df1.A1Cresult = df1.A1Cresult.replace(['>7','>8'],'Not_Normal')"
   ]
  },
  {
   "cell_type": "code",
   "execution_count": 32,
   "metadata": {
    "scrolled": true
   },
   "outputs": [
    {
     "name": "stdout",
     "output_type": "stream",
     "text": [
      "encounter_id  : \n",
      "97883\n",
      "[  2278392    149190     64410 ... 443854148 443857166 443867222]\n",
      "\n",
      "\n",
      "\n",
      "patient_nbr  : \n",
      "68618\n",
      "[  8222157  55629189  86047875 ... 140199494 120975314 175429310]\n",
      "\n",
      "\n",
      "\n",
      "race  : \n",
      "5\n",
      "['Caucasian' 'AfricanAmerican' 'Other' 'Asian' 'Hispanic']\n",
      "\n",
      "\n",
      "\n",
      "gender  : \n",
      "2\n",
      "['Female' 'Male']\n",
      "\n",
      "\n",
      "\n",
      "age  : \n",
      "10\n",
      "[ 5 15 25 35 45 55 65 75 85 95]\n",
      "\n",
      "\n",
      "\n",
      "admission_type_id  : \n",
      "4\n",
      "[5 1 3 4]\n",
      "\n",
      "\n",
      "\n",
      "discharge_disposition_id  : \n",
      "25\n",
      "[25  1  3  6  2  5  7 10  4 14 18  8 13 12 16 17 22 23  9 20 15 24 28 19\n",
      " 27]\n",
      "\n",
      "\n",
      "\n",
      "admission_source_id  : \n",
      "17\n",
      "[ 1  7  2  4  5 20  6  3 17  8  9 14 10 22 11 25 13]\n",
      "\n",
      "\n",
      "\n",
      "time_in_hospital  : \n",
      "14\n",
      "[ 1  3  2  4  5 13 12  9  7 10 11  6  8 14]\n",
      "\n",
      "\n",
      "\n",
      "num_lab_procedures  : \n",
      "118\n",
      "[ 41  59  11  44  51  31  70  73  68  33  47  62  60  55  49  75  45  29\n",
      "  35  42  19  64  25  53  52  87  27  37  28  36  48  10   2  65  67  40\n",
      "  58  57  32  83  34  39  69  38  22  96  46  72  78  56  61  88  66  43\n",
      "  50   1  18  82  54   9  63  24  71  77  81  76  90  93   3 103  13  80\n",
      "  85  16  15  12  30  23  17  21  79  26  95  97  84  14  74 105  86  98\n",
      "  20   5   6  94   8 102   7  89  91  92   4 101  99 100 114 113 111 129\n",
      " 107 108 106 104 109 120 132 121 126 118]\n",
      "\n",
      "\n",
      "\n",
      "num_procedures  : \n",
      "7\n",
      "[0 5 1 6 2 3 4]\n",
      "\n",
      "\n",
      "\n",
      "num_medications  : \n",
      "75\n",
      "[ 1 18 13 16  8 21 12 28 17 11 15 31  2 23 19  7 20 14 10 22  9 25  4 32\n",
      "  6 26 24 33  5 27 39  3 30 29 61 40 46 41 36 34 35 50 43 42 37 51 38 45\n",
      " 54 52 49 62 55 47 44 48 57 53 59 56 63 58 70 67 64 60 69 65 68 66 81 79\n",
      " 75 72 74]\n",
      "\n",
      "\n",
      "\n",
      "diag_1  : \n",
      "10\n",
      "['Neoplasms' 'Other' 'Circulatory' 'Respiratory' 'Injury' 'Genitourinary'\n",
      " 'Musculoskeletal' 'Digestive' 'Missing_diag1' 'Diabetes']\n",
      "\n",
      "\n",
      "\n",
      "number_diagnoses  : \n",
      "16\n",
      "[ 1  9  6  7  5  8  3  4  2 16 12 13 15 10 11 14]\n",
      "\n",
      "\n",
      "\n",
      "max_glu_serum  : \n",
      "3\n",
      "['Missing_max_glu_serum' 'Not_Normal' 'Norm']\n",
      "\n",
      "\n",
      "\n",
      "A1Cresult  : \n",
      "3\n",
      "['Missing_A1Cresult' 'Not_Normal' 'Norm']\n",
      "\n",
      "\n",
      "\n",
      "metformin  : \n",
      "4\n",
      "[0 1 3 2]\n",
      "\n",
      "\n",
      "\n",
      "repaglinide  : \n",
      "4\n",
      "[0 3 1 2]\n",
      "\n",
      "\n",
      "\n",
      "nateglinide  : \n",
      "4\n",
      "[0 1 2 3]\n",
      "\n",
      "\n",
      "\n",
      "chlorpropamide  : \n",
      "4\n",
      "[0 1 2 3]\n",
      "\n",
      "\n",
      "\n",
      "glimepiride  : \n",
      "4\n",
      "[0 1 2 3]\n",
      "\n",
      "\n",
      "\n",
      "acetohexamide  : \n",
      "2\n",
      "[0 1]\n",
      "\n",
      "\n",
      "\n",
      "glipizide  : \n",
      "4\n",
      "[0 1 3 2]\n",
      "\n",
      "\n",
      "\n",
      "glyburide  : \n",
      "4\n",
      "[0 1 3 2]\n",
      "\n",
      "\n",
      "\n",
      "tolbutamide  : \n",
      "2\n",
      "[0 1]\n",
      "\n",
      "\n",
      "\n",
      "pioglitazone  : \n",
      "4\n",
      "[0 1 3 2]\n",
      "\n",
      "\n",
      "\n",
      "rosiglitazone  : \n",
      "4\n",
      "[0 1 3 2]\n",
      "\n",
      "\n",
      "\n",
      "acarbose  : \n",
      "4\n",
      "[0 1 3 2]\n",
      "\n",
      "\n",
      "\n",
      "miglitol  : \n",
      "4\n",
      "[0 1 2 3]\n",
      "\n",
      "\n",
      "\n",
      "troglitazone  : \n",
      "2\n",
      "[0 1]\n",
      "\n",
      "\n",
      "\n",
      "tolazamide  : \n",
      "3\n",
      "[0 1 3]\n",
      "\n",
      "\n",
      "\n",
      "insulin  : \n",
      "4\n",
      "[0 3 1 2]\n",
      "\n",
      "\n",
      "\n",
      "glyburide-metformin  : \n",
      "4\n",
      "[0 1 2 3]\n",
      "\n",
      "\n",
      "\n",
      "glipizide-metformin  : \n",
      "2\n",
      "[0 1]\n",
      "\n",
      "\n",
      "\n",
      "glimepiride-pioglitazone  : \n",
      "2\n",
      "[0 1]\n",
      "\n",
      "\n",
      "\n",
      "metformin-rosiglitazone  : \n",
      "1\n",
      "[0]\n",
      "\n",
      "\n",
      "\n",
      "metformin-pioglitazone  : \n",
      "2\n",
      "[0 1]\n",
      "\n",
      "\n",
      "\n",
      "change  : \n",
      "2\n",
      "[0 1]\n",
      "\n",
      "\n",
      "\n",
      "diabetesMed  : \n",
      "2\n",
      "[0 1]\n",
      "\n",
      "\n",
      "\n",
      "readmitted  : \n",
      "2\n",
      "[0 1]\n",
      "\n",
      "\n",
      "\n",
      "service_utilization  : \n",
      "47\n",
      "[ 0  3  1  2  6  7 10  5  4 14 15  8 12  9 13 11 18 17 25 27 23 30 16 31\n",
      " 19 20 21 22 35 49 34 38 28 26 24 32 42 40 36 33 29 37 48 80 68 61 41]\n",
      "\n",
      "\n",
      "\n"
     ]
    }
   ],
   "source": [
    "# Finding unique values in all the columns\n",
    "for i in df1.columns:\n",
    "    print(i , ' : ')\n",
    "    print(len(df1[i].unique()))\n",
    "    print(df1[i].unique())\n",
    "    print('\\n\\n')"
   ]
  },
  {
   "cell_type": "code",
   "execution_count": 33,
   "metadata": {},
   "outputs": [
    {
     "data": {
      "text/plain": [
       "(68618, 41)"
      ]
     },
     "execution_count": 33,
     "metadata": {},
     "output_type": "execute_result"
    }
   ],
   "source": [
    "df1 = df1.drop_duplicates(subset= ['patient_nbr'], keep = 'first')\n",
    "df1.shape"
   ]
  },
  {
   "cell_type": "code",
   "execution_count": 34,
   "metadata": {},
   "outputs": [],
   "source": [
    "#df2 = df2.drop(['encounter_id','patient_nbr'], axis = 1)\n",
    "df1 = df1.drop(['encounter_id','patient_nbr'], axis = 1)"
   ]
  },
  {
   "cell_type": "markdown",
   "metadata": {},
   "source": [
    "#### Seperating Categorical and Numerical Variables"
   ]
  },
  {
   "cell_type": "code",
   "execution_count": 35,
   "metadata": {},
   "outputs": [],
   "source": [
    "df1_num = pd.DataFrame()\n",
    "df1_cat = pd.DataFrame()\n",
    "df1_num = df1[['num_lab_procedures', 'num_procedures' ,  'num_medications' , 'number_diagnoses' , 'service_utilization']].copy()\n",
    "#cat_col = set(df1.columns) - set(df1_num)\n",
    "#cat_col = list(cat_col)\n",
    "#df1_cat = df1[cat_col].copy()\n",
    "df1_num_copy = df1_num.copy()\n",
    "df1_num_copy = df1_num_copy.apply(lambda x: x + 1)\n",
    "df1_num_copy = np.log(df1_num_copy)\n",
    "\n",
    "def standardize(df1_num_copy):\n",
    "    return ((df1_num_copy - np.mean(df1_num_copy, axis = 0)) / np.std(df1_num_copy, axis = 0))\n",
    "# numerics is a list of all numeric features\n",
    "df1_num_copy_new = standardize(df1_num_copy)\n",
    "cat_col = set(df1.columns) - set(df1_num_copy_new)\n",
    "cat_col = list(cat_col)\n",
    "df1_cat = df1[cat_col].copy()\n",
    "df1_cat_dummies = pd.get_dummies(df1_cat, drop_first= True)\n",
    "df1_new = pd.concat([df1_num_copy_new, df1_cat_dummies], axis=1, join = 'inner')\n",
    "df1_num_copy_zscore = df1_new[(np.abs(stats.zscore(df1_num_copy_new)) < 3).all(axis=1)]\n"
   ]
  },
  {
   "cell_type": "code",
   "execution_count": 36,
   "metadata": {},
   "outputs": [],
   "source": [
    "#df1_new= pd.concat([df1_num_sd,df1_cat_dummies ], axis = 1)\n",
    "\n",
    "X = df1_new.drop('readmitted', axis = 1)\n",
    "y = df1_new.readmitted"
   ]
  },
  {
   "cell_type": "code",
   "execution_count": 37,
   "metadata": {
    "scrolled": true
   },
   "outputs": [
    {
     "data": {
      "image/png": "[encoded data removed]",
      "text/plain": [
       "<Figure size 432x288 with 1 Axes>"
      ]
     },
     "metadata": {
      "needs_background": "light"
     },
     "output_type": "display_data"
    },
    {
     "data": {
      "image/png": "[encoded data removed]",
      "text/plain": [
       "<Figure size 432x288 with 1 Axes>"
      ]
     },
     "metadata": {
      "needs_background": "light"
     },
     "output_type": "display_data"
    },
    {
     "data": {
      "image/png": "[encoded data removed]",
      "text/plain": [
       "<Figure size 432x288 with 1 Axes>"
      ]
     },
     "metadata": {
      "needs_background": "light"
     },
     "output_type": "display_data"
    },
    {
     "data": {
      "image/png": "[encoded data removed]",
      "text/plain": [
       "<Figure size 432x288 with 1 Axes>"
      ]
     },
     "metadata": {
      "needs_background": "light"
     },
     "output_type": "display_data"
    },
    {
     "data": {
      "image/png": "[encoded data removed]",
      "text/plain": [
       "<Figure size 432x288 with 1 Axes>"
      ]
     },
     "metadata": {
      "needs_background": "light"
     },
     "output_type": "display_data"
    }
   ],
   "source": [
    "for i in df1_num.columns:\n",
    "    sns.boxplot(df1.readmitted, df1_num_copy_new[i])\n",
    "    plt.show()"
   ]
  },
  {
   "cell_type": "code",
   "execution_count": 38,
   "metadata": {
    "scrolled": true
   },
   "outputs": [
    {
     "data": {
      "image/png": "[encoded data removed]",
      "text/plain": [
       "<Figure size 432x288 with 1 Axes>"
      ]
     },
     "metadata": {
      "needs_background": "light"
     },
     "output_type": "display_data"
    },
    {
     "data": {
      "image/png": "[encoded data removed]",
      "text/plain": [
       "<Figure size 432x288 with 1 Axes>"
      ]
     },
     "metadata": {
      "needs_background": "light"
     },
     "output_type": "display_data"
    },
    {
     "data": {
      "image/png": "[encoded data removed]",
      "text/plain": [
       "<Figure size 432x288 with 1 Axes>"
      ]
     },
     "metadata": {
      "needs_background": "light"
     },
     "output_type": "display_data"
    },
    {
     "data": {
      "image/png": "[encoded data removed]",
      "text/plain": [
       "<Figure size 432x288 with 1 Axes>"
      ]
     },
     "metadata": {
      "needs_background": "light"
     },
     "output_type": "display_data"
    },
    {
     "data": {
      "image/png": "[encoded data removed]",
      "text/plain": [
       "<Figure size 432x288 with 1 Axes>"
      ]
     },
     "metadata": {
      "needs_background": "light"
     },
     "output_type": "display_data"
    }
   ],
   "source": [
    "for i in df1_num.columns:\n",
    "    sns.distplot(df1_num_copy_new[i], kde = True)\n",
    "    plt.show()"
   ]
  },
  {
   "cell_type": "code",
   "execution_count": 39,
   "metadata": {
    "scrolled": true
   },
   "outputs": [
    {
     "data": {
      "image/png": "[encoded data removed]",
      "text/plain": [
       "<Figure size 432x288 with 1 Axes>"
      ]
     },
     "metadata": {
      "needs_background": "light"
     },
     "output_type": "display_data"
    },
    {
     "data": {
      "image/png": "[encoded data removed]",
      "text/plain": [
       "<Figure size 432x288 with 1 Axes>"
      ]
     },
     "metadata": {
      "needs_background": "light"
     },
     "output_type": "display_data"
    },
    {
     "data": {
      "image/png": "[encoded data removed]",
      "text/plain": [
       "<Figure size 432x288 with 1 Axes>"
      ]
     },
     "metadata": {
      "needs_background": "light"
     },
     "output_type": "display_data"
    },
    {
     "data": {
      "image/png": "[encoded data removed]",
      "text/plain": [
       "<Figure size 432x288 with 1 Axes>"
      ]
     },
     "metadata": {
      "needs_background": "light"
     },
     "output_type": "display_data"
    },
    {
     "data": {
      "image/png": "[encoded data removed]",
      "text/plain": [
       "<Figure size 432x288 with 1 Axes>"
      ]
     },
     "metadata": {
      "needs_background": "light"
     },
     "output_type": "display_data"
    },
    {
     "data": {
      "image/png": "[encoded data removed]",
      "text/plain": [
       "<Figure size 432x288 with 1 Axes>"
      ]
     },
     "metadata": {
      "needs_background": "light"
     },
     "output_type": "display_data"
    },
    {
     "data": {
      "image/png": "[encoded data removed]",
      "text/plain": [
       "<Figure size 432x288 with 1 Axes>"
      ]
     },
     "metadata": {
      "needs_background": "light"
     },
     "output_type": "display_data"
    },
    {
     "data": {
      "image/png": "[encoded data removed]",
      "text/plain": [
       "<Figure size 432x288 with 1 Axes>"
      ]
     },
     "metadata": {
      "needs_background": "light"
     },
     "output_type": "display_data"
    },
    {
     "data": {
      "image/png": "[encoded data removed]",
      "text/plain": [
       "<Figure size 432x288 with 1 Axes>"
      ]
     },
     "metadata": {
      "needs_background": "light"
     },
     "output_type": "display_data"
    },
    {
     "data": {
      "image/png": "[encoded data removed]",
      "text/plain": [
       "<Figure size 432x288 with 1 Axes>"
      ]
     },
     "metadata": {
      "needs_background": "light"
     },
     "output_type": "display_data"
    },
    {
     "data": {
      "image/png": "[encoded data removed]",
      "text/plain": [
       "<Figure size 432x288 with 1 Axes>"
      ]
     },
     "metadata": {
      "needs_background": "light"
     },
     "output_type": "display_data"
    },
    {
     "data": {
      "image/png": "[encoded data removed]",
      "text/plain": [
       "<Figure size 432x288 with 1 Axes>"
      ]
     },
     "metadata": {
      "needs_background": "light"
     },
     "output_type": "display_data"
    },
    {
     "data": {
      "image/png": "[encoded data removed]",
      "text/plain": [
       "<Figure size 432x288 with 1 Axes>"
      ]
     },
     "metadata": {
      "needs_background": "light"
     },
     "output_type": "display_data"
    },
    {
     "data": {
      "image/png": "[encoded data removed]",
      "text/plain": [
       "<Figure size 432x288 with 1 Axes>"
      ]
     },
     "metadata": {
      "needs_background": "light"
     },
     "output_type": "display_data"
    },
    {
     "data": {
      "image/png": "[encoded data removed]",
      "text/plain": [
       "<Figure size 432x288 with 1 Axes>"
      ]
     },
     "metadata": {
      "needs_background": "light"
     },
     "output_type": "display_data"
    },
    {
     "data": {
      "image/png": "[encoded data removed]",
      "text/plain": [
       "<Figure size 432x288 with 1 Axes>"
      ]
     },
     "metadata": {
      "needs_background": "light"
     },
     "output_type": "display_data"
    },
    {
     "data": {
      "image/png": "[encoded data removed]",
      "text/plain": [
       "<Figure size 432x288 with 1 Axes>"
      ]
     },
     "metadata": {
      "needs_background": "light"
     },
     "output_type": "display_data"
    },
    {
     "data": {
      "image/png": "[encoded data removed]",
      "text/plain": [
       "<Figure size 432x288 with 1 Axes>"
      ]
     },
     "metadata": {
      "needs_background": "light"
     },
     "output_type": "display_data"
    },
    {
     "data": {
      "image/png": "[encoded data removed]",
      "text/plain": [
       "<Figure size 432x288 with 1 Axes>"
      ]
     },
     "metadata": {
      "needs_background": "light"
     },
     "output_type": "display_data"
    },
    {
     "data": {
      "image/png": "[encoded data removed]",
      "text/plain": [
       "<Figure size 432x288 with 1 Axes>"
      ]
     },
     "metadata": {
      "needs_background": "light"
     },
     "output_type": "display_data"
    },
    {
     "data": {
      "image/png": "[encoded data removed]",
      "text/plain": [
       "<Figure size 432x288 with 1 Axes>"
      ]
     },
     "metadata": {
      "needs_background": "light"
     },
     "output_type": "display_data"
    },
    {
     "data": {
      "image/png": "[encoded data removed]",
      "text/plain": [
       "<Figure size 432x288 with 1 Axes>"
      ]
     },
     "metadata": {
      "needs_background": "light"
     },
     "output_type": "display_data"
    },
    {
     "data": {
      "image/png": "[encoded data removed]",
      "text/plain": [
       "<Figure size 432x288 with 1 Axes>"
      ]
     },
     "metadata": {
      "needs_background": "light"
     },
     "output_type": "display_data"
    },
    {
     "data": {
      "image/png": "[encoded data removed]",
      "text/plain": [
       "<Figure size 432x288 with 1 Axes>"
      ]
     },
     "metadata": {
      "needs_background": "light"
     },
     "output_type": "display_data"
    },
    {
     "data": {
      "image/png": "[encoded data removed]",
      "text/plain": [
       "<Figure size 432x288 with 1 Axes>"
      ]
     },
     "metadata": {
      "needs_background": "light"
     },
     "output_type": "display_data"
    },
    {
     "data": {
      "image/png": "[encoded data removed]",
      "text/plain": [
       "<Figure size 432x288 with 1 Axes>"
      ]
     },
     "metadata": {
      "needs_background": "light"
     },
     "output_type": "display_data"
    },
    {
     "data": {
      "image/png": "[encoded data removed]",
      "text/plain": [
       "<Figure size 432x288 with 1 Axes>"
      ]
     },
     "metadata": {
      "needs_background": "light"
     },
     "output_type": "display_data"
    },
    {
     "data": {
      "image/png": "[encoded data removed]",
      "text/plain": [
       "<Figure size 432x288 with 1 Axes>"
      ]
     },
     "metadata": {
      "needs_background": "light"
     },
     "output_type": "display_data"
    },
    {
     "data": {
      "image/png": "[encoded data removed]",
      "text/plain": [
       "<Figure size 432x288 with 1 Axes>"
      ]
     },
     "metadata": {
      "needs_background": "light"
     },
     "output_type": "display_data"
    },
    {
     "data": {
      "image/png": "[encoded data removed]",
      "text/plain": [
       "<Figure size 432x288 with 1 Axes>"
      ]
     },
     "metadata": {
      "needs_background": "light"
     },
     "output_type": "display_data"
    },
    {
     "data": {
      "image/png": "[encoded data removed]",
      "text/plain": [
       "<Figure size 432x288 with 1 Axes>"
      ]
     },
     "metadata": {
      "needs_background": "light"
     },
     "output_type": "display_data"
    },
    {
     "data": {
      "image/png": "[encoded data removed]",
      "text/plain": [
       "<Figure size 432x288 with 1 Axes>"
      ]
     },
     "metadata": {
      "needs_background": "light"
     },
     "output_type": "display_data"
    },
    {
     "data": {
      "image/png": "[encoded data removed]",
      "text/plain": [
       "<Figure size 432x288 with 1 Axes>"
      ]
     },
     "metadata": {
      "needs_background": "light"
     },
     "output_type": "display_data"
    },
    {
     "data": {
      "image/png": "[encoded data removed]",
      "text/plain": [
       "<Figure size 432x288 with 1 Axes>"
      ]
     },
     "metadata": {
      "needs_background": "light"
     },
     "output_type": "display_data"
    }
   ],
   "source": [
    "for i in df1_cat.columns:\n",
    "    sns.countplot(df1_cat[i], hue = df1.readmitted)\n",
    "    plt.show()"
   ]
  },
  {
   "cell_type": "code",
   "execution_count": 40,
   "metadata": {},
   "outputs": [],
   "source": [
    "from sklearn.decomposition import PCA\n",
    "pca  = PCA(n_components=0.99)\n",
    "X_pca = pca.fit_transform(X)\n",
    "X_pca = pd.DataFrame(X_pca)\n",
    "X_train, X_test, y_train, y_test = train_test_split(X_pca, y, test_size=0.30, random_state = 42)"
   ]
  },
  {
   "cell_type": "code",
   "execution_count": 41,
   "metadata": {},
   "outputs": [
    {
     "name": "stdout",
     "output_type": "stream",
     "text": [
      "(48032, 10)\n",
      "(20586, 10)\n"
     ]
    }
   ],
   "source": [
    "#X_train, X_test, y_train, y_test = train_test_split(X, y, test_size=0.30, random_state = 42)\n",
    "print(X_train.shape)\n",
    "print(X_test.shape)"
   ]
  },
  {
   "cell_type": "code",
   "execution_count": 42,
   "metadata": {},
   "outputs": [
    {
     "name": "stdout",
     "output_type": "stream",
     "text": [
      "Original dataset shape Counter({0: 62448, 1: 6170})\n",
      "New dataset shape Counter({0: 43742, 1: 30619})\n"
     ]
    }
   ],
   "source": [
    "from imblearn.over_sampling import SMOTE\n",
    "from collections import Counter\n",
    "sm = SMOTE(random_state=42, ratio= 0.7)\n",
    "print('Original dataset shape {}'.format(Counter(y)))\n",
    "New_X, New_y = sm.fit_sample(X_train,y_train)\n",
    "New_df_X = pd.DataFrame(New_X)\n",
    "print('New dataset shape {}'.format(Counter(New_y)))"
   ]
  },
  {
   "cell_type": "markdown",
   "metadata": {},
   "source": [
    "#### Applying Voting Classifier"
   ]
  },
  {
   "cell_type": "code",
   "execution_count": 5,
   "metadata": {},
   "outputs": [],
   "source": [
    "from sklearn.ensemble import RandomForestClassifier\n",
    "from sklearn.ensemble import AdaBoostClassifier\n",
    "from sklearn.ensemble import GradientBoostingClassifier\n",
    "from sklearn.ensemble import VotingClassifier\n",
    "from sklearn.linear_model import LogisticRegression\n",
    "from sklearn.linear_model import SGDClassifier\n",
    "from sklearn.svm import SVC\n",
    "from sklearn.ensemble import BaggingClassifier\n",
    "from sklearn.tree import DecisionTreeClassifier\n",
    "from sklearn.metrics import roc_auc_score"
   ]
  },
  {
   "cell_type": "code",
   "execution_count": 44,
   "metadata": {},
   "outputs": [],
   "source": [
    "#log_clf = LogisticRegression()\n",
    "#rnd_clf = RandomForestClassifier()\n",
    "#svm_clf = SVC(probability=True)\n",
    "bag_clf_log = BaggingClassifier(LogisticRegression(), n_estimators=500, max_samples=100, n_jobs=-1)\n",
    "bag_clf_dt = BaggingClassifier(DecisionTreeClassifier(), n_estimators=500, max_samples=100, n_jobs=-1)\n",
    "bag_clf_rnd = BaggingClassifier(RandomForestClassifier(), n_estimators=32, n_jobs=-1)\n",
    "bag_clf_ad = BaggingClassifier(AdaBoostClassifier(), n_estimators=32, n_jobs=-1)\n",
    "bag_clf_gd = BaggingClassifier(GradientBoostingClassifier(), n_estimators=32, n_jobs=-1)\n"
   ]
  },
  {
   "cell_type": "code",
   "execution_count": 45,
   "metadata": {},
   "outputs": [
    {
     "name": "stdout",
     "output_type": "stream",
     "text": [
      "\n",
      "\n",
      "BaggingClassifier : \n",
      "\n",
      "Accuracy is 0.78\n",
      "Roc is 0.55\n",
      "\n",
      "\n",
      "BaggingClassifier : \n",
      "\n",
      "Accuracy is 0.78\n",
      "Roc is 0.54\n",
      "\n",
      "\n",
      "BaggingClassifier : \n",
      "\n",
      "Accuracy is 0.85\n",
      "Roc is 0.52\n",
      "\n",
      "\n",
      "BaggingClassifier : \n",
      "\n",
      "Accuracy is 0.77\n",
      "Roc is 0.55\n",
      "\n",
      "\n",
      "BaggingClassifier : \n",
      "\n",
      "Accuracy is 0.78\n",
      "Roc is 0.55\n"
     ]
    }
   ],
   "source": [
    "from sklearn.metrics import accuracy_score, precision_score, recall_score\n",
    "for clf in (bag_clf_log,bag_clf_dt,bag_clf_rnd,bag_clf_ad, bag_clf_gd):\n",
    "    clf.fit(New_df_X, New_y)\n",
    "    ypred = clf.predict(X_test)\n",
    "    print('\\n')\n",
    "    print(clf.__class__.__name__, ': \\n')\n",
    "    print(\"Accuracy is {0:.2f}\".format(accuracy_score(y_test, ypred)))\n",
    "    print(\"Roc is {0:.2f}\".format(roc_auc_score(y_test, ypred)))\n",
    "    #print(\"Recall is {0:.2f}\".format(recall_score(y_test, ypred)))"
   ]
  },
  {
   "cell_type": "code",
   "execution_count": 46,
   "metadata": {},
   "outputs": [],
   "source": [
    "bag_clf_log = LogisticRegression()\n",
    "bag_clf_dt = DecisionTreeClassifier()\n",
    "bag_clf_rnd = RandomForestClassifier()\n",
    "bag_clf_ad = AdaBoostClassifier()\n",
    "bag_clf_gd = GradientBoostingClassifier()"
   ]
  },
  {
   "cell_type": "code",
   "execution_count": 47,
   "metadata": {},
   "outputs": [],
   "source": [
    "#voting_clf = VotingClassifier(estimators = [('lr', bag_clf_log), ('rf', bag_clf_rnd), ('svc', bag_clf_svc)], voting= 'soft')\n",
    "voting_clf = VotingClassifier(estimators = [('lr', bag_clf_log),('dt',bag_clf_dt ),('rnd', bag_clf_rnd), ('ad', bag_clf_ad), ('gf', bag_clf_gd)])"
   ]
  },
  {
   "cell_type": "code",
   "execution_count": 96,
   "metadata": {},
   "outputs": [
    {
     "name": "stderr",
     "output_type": "stream",
     "text": [
      "C:\\Users\\Animesh\\Anaconda3\\lib\\site-packages\\sklearn\\linear_model\\logistic.py:432: FutureWarning: Default solver will be changed to 'lbfgs' in 0.22. Specify a solver to silence this warning.\n",
      "  FutureWarning)\n",
      "C:\\Users\\Animesh\\Anaconda3\\lib\\site-packages\\sklearn\\ensemble\\forest.py:245: FutureWarning: The default value of n_estimators will change from 10 in version 0.20 to 100 in 0.22.\n",
      "  \"10 in version 0.20 to 100 in 0.22.\", FutureWarning)\n"
     ]
    },
    {
     "name": "stdout",
     "output_type": "stream",
     "text": [
      "Accuracy is 0.85\n",
      "Roc is 0.54\n"
     ]
    }
   ],
   "source": [
    "voting_clf.fit(New_df_X, New_y)\n",
    "ypred = voting_clf.predict(X_test)\n",
    "print(\"Accuracy is {0:.2f}\".format(accuracy_score(y_test, ypred)))\n",
    "print(\"Roc is {0:.2f}\".format(roc_auc_score(y_test, ypred)))"
   ]
  },
  {
   "cell_type": "markdown",
   "metadata": {},
   "source": [
    "from sklearn.metrics import accuracy_score, precision_score, recall_score\n",
    "for clf in (bag_clf_log,bag_clf_dt,bag_clf_rnd,bag_clf_ad, bag_clf_gd,voting_clf,):\n",
    "    clf.fit(New_df_X, New_y)\n",
    "    ypred = clf.predict(X_test)\n",
    "    print(clf.__class__.__name__, ': \\n')\n",
    "    print(\"Accuracy is {0:.2f}\".format(accuracy_score(y_test, ypred)))\n",
    "    print(\"Roc is {0:.2f}\".format(roc_auc_score(y_test, ypred)))\n",
    "    #print(\"Recall is {0:.2f}\".format(recall_score(y_test, ypred)))"
   ]
  },
  {
   "cell_type": "markdown",
   "metadata": {},
   "source": [
    "from sklearn.model_selection import StratifiedShuffleSplit\n",
    "\n",
    "ssplit = StratifiedShuffleSplit(n_splits=1, test_size=0.25, random_state= 42)\n",
    "    \n",
    "for train_index, test_index in ssplit.split(df2_dummies,df2_dummies['diag_1_Neoplasms_cat']):\n",
    "    strat_train_set = df2_dummies.loc[train_index]\n",
    "    strat_test_set = df2_dummies.loc[test_index]\n",
    "    strat_train_set = strat_train_set.dropna()\n",
    "    strat_test_set = strat_test_set.dropna()\n",
    "\n",
    "df2_dummies = df2_dummies.drop('diag_1_Neoplasms_cat', axis = 1)\n",
    "X_train = strat_train_set.drop('readmitted', axis = 1)\n",
    "X_test = strat_test_set.drop('readmitted', axis = 1)\n",
    "y_train = strat_train_set.readmitted\n",
    "y_test = strat_test_set.readmitted"
   ]
  },
  {
   "cell_type": "markdown",
   "metadata": {},
   "source": [
    "sm = SMOTE(random_state=l[i], ratio = 0.7, k_neighbors = 4)\n",
    "#print('Original dataset shape {}'.format(Counter(y)))\n",
    "New_X, New_y = sm.fit_sample(X_train,y_train)\n",
    "#New_df_X = pd.DataFrame(New_X,columns= X.columns)\n",
    "#print('New dataset shape {}'.format(Counter(New_y)))\n",
    "\n",
    "\n",
    "logit = LogisticRegression(fit_intercept=True, penalty='l1')\n",
    "logit.fit(New_X, New_y)\n",
    "\n",
    "logit_pred = logit.predict(X_test)\n",
    "\n",
    "\n",
    "from sklearn.metrics import accuracy_score, precision_score, recall_score\n",
    "#print('Random State : ', l[i])\n",
    "print(\"Accuracy is {0:.2f}\".format(accuracy_score(y_test, logit_pred)))\n",
    "print(\"Precision is {0:.2f}\".format(precision_score(y_test, logit_pred)))\n",
    "print(\"Recall is {0:.2f}\".format(recall_score(y_test, logit_pred)))"
   ]
  },
  {
   "cell_type": "markdown",
   "metadata": {},
   "source": [
    "l = np.random.randint(0,1000,25)\n",
    "\n",
    "for i in range(len(l)):\n",
    "\n",
    "    \n",
    "      \n",
    "    \n",
    "    sm = SMOTE(random_state=l[i], ratio = 0.7, k_neighbors = 3)\n",
    "    #print('Original dataset shape {}'.format(Counter(y)))\n",
    "    New_X, New_y = sm.fit_sample(X_train,y_train)\n",
    "    #New_df_X = pd.DataFrame(New_X,columns= X.columns)\n",
    "    #print('New dataset shape {}'.format(Counter(New_y)))\n",
    "\n",
    "\n",
    "    logit = LogisticRegression(fit_intercept=True, penalty='l1')\n",
    "    logit.fit(New_X, New_y)\n",
    "\n",
    "    logit_pred = logit.predict(X_test)\n",
    "\n",
    "\n",
    "    from sklearn.metrics import accuracy_score, precision_score, recall_score\n",
    "    print('Random State : ', l[i])\n",
    "    print(\"Accuracy is {0:.2f}\".format(accuracy_score(y_test, logit_pred)))\n",
    "    print(\"Precision is {0:.2f}\".format(precision_score(y_test, logit_pred)))\n",
    "    print(\"Recall is {0:.2f}\".format(recall_score(y_test, logit_pred)))\n"
   ]
  },
  {
   "cell_type": "code",
   "execution_count": null,
   "metadata": {},
   "outputs": [],
   "source": [
    "from imblearn.over_sampling import SMOTE\n",
    "from collections import Counter\n",
    "sm = SMOTE(random_state=42)\n",
    "print('Original dataset shape {}'.format(Counter(y)))\n",
    "New_X, New_y = sm.fit_sample(X_train,y_train)\n",
    "New_df_X = pd.DataFrame(New_X,columns= X.columns)\n",
    "print('New dataset shape {}'.format(Counter(New_y)))"
   ]
  },
  {
   "cell_type": "markdown",
   "metadata": {},
   "source": [
    "#### Applying SVM"
   ]
  },
  {
   "cell_type": "code",
   "execution_count": null,
   "metadata": {},
   "outputs": [],
   "source": [
    "from sklearn.pipeline import Pipeline\n",
    "from sklearn.preprocessing import StandardScaler\n",
    "from sklearn.svm import SVC"
   ]
  },
  {
   "cell_type": "code",
   "execution_count": null,
   "metadata": {},
   "outputs": [],
   "source": [
    "poly_kernel_svm_clf = Pipeline((('scaler', StandardScaler()), ('svm_clf', SVC(kernel = 'poly', degree = 5, C = 100, verbose= True))))"
   ]
  },
  {
   "cell_type": "code",
   "execution_count": null,
   "metadata": {},
   "outputs": [],
   "source": [
    "poly_kernel_svm_clf.fit(New_df_X,New_y)"
   ]
  },
  {
   "cell_type": "code",
   "execution_count": null,
   "metadata": {},
   "outputs": [],
   "source": [
    "scores = poly_kernel_svm_clf.predict(X_test)"
   ]
  },
  {
   "cell_type": "code",
   "execution_count": null,
   "metadata": {},
   "outputs": [],
   "source": [
    "from sklearn.metrics import accuracy_score, precision_score, recall_score\n",
    "print(\"Accuracy is {0:.2f}\".format(accuracy_score(y_test, scores)))\n",
    "print(\"Precision is {0:.2f}\".format(precision_score(y_test, scores)))\n",
    "print(\"Recall is {0:.2f}\".format(recall_score(y_test, scores)))\n",
    "\n",
    "accuracy_svc = accuracy_score(y_test, scores)\n",
    "precision_svc = precision_score(y_test, scores)\n",
    "recall_svc = recall_score(y_test, scores)"
   ]
  },
  {
   "cell_type": "code",
   "execution_count": null,
   "metadata": {},
   "outputs": [],
   "source": []
  },
  {
   "cell_type": "code",
   "execution_count": null,
   "metadata": {},
   "outputs": [],
   "source": []
  },
  {
   "cell_type": "code",
   "execution_count": null,
   "metadata": {},
   "outputs": [],
   "source": []
  },
  {
   "cell_type": "code",
   "execution_count": null,
   "metadata": {},
   "outputs": [],
   "source": []
  },
  {
   "cell_type": "code",
   "execution_count": null,
   "metadata": {},
   "outputs": [],
   "source": []
  },
  {
   "cell_type": "markdown",
   "metadata": {},
   "source": [
    "Logistic Regression"
   ]
  },
  {
   "cell_type": "code",
   "execution_count": null,
   "metadata": {},
   "outputs": [],
   "source": [
    "from sklearn.model_selection import train_test_split\n",
    "from sklearn.linear_model import LogisticRegression\n",
    "from sklearn.model_selection import cross_val_score\n",
    "logit = LogisticRegression(fit_intercept=True, penalty='l1')\n",
    "logit.fit(New_df_X, New_y)\n",
    "logit_pred = logit.predict(X_test)\n",
    "pd.crosstab(pd.Series(y_test, name = 'Actual'), pd.Series(logit_pred, name = 'Predict'), margins = True)"
   ]
  },
  {
   "cell_type": "code",
   "execution_count": null,
   "metadata": {},
   "outputs": [],
   "source": []
  },
  {
   "cell_type": "code",
   "execution_count": null,
   "metadata": {},
   "outputs": [],
   "source": []
  },
  {
   "cell_type": "code",
   "execution_count": null,
   "metadata": {},
   "outputs": [],
   "source": [
    "from sklearn.metrics import accuracy_score, precision_score, recall_score\n",
    "print(\"Accuracy is {0:.2f}\".format(accuracy_score(y_test, logit_pred)))\n",
    "print(\"Precision is {0:.2f}\".format(precision_score(y_test, logit_pred)))\n",
    "print(\"Recall is {0:.2f}\".format(recall_score(y_test, logit_pred)))\n",
    "\n",
    "accuracy_logit = accuracy_score(y_test, logit_pred)\n",
    "precision_logit = precision_score(y_test, logit_pred)\n",
    "recall_logit = recall_score(y_test, logit_pred)"
   ]
  },
  {
   "cell_type": "markdown",
   "metadata": {},
   "source": [
    "Decision Tree"
   ]
  },
  {
   "cell_type": "code",
   "execution_count": null,
   "metadata": {},
   "outputs": [],
   "source": [
    "from sklearn.tree import DecisionTreeClassifier\n",
    "dtree = DecisionTreeClassifier(max_depth=28, criterion = \"entropy\", min_samples_split=10)\n",
    "dtree.fit(New_df_X, New_y)"
   ]
  },
  {
   "cell_type": "code",
   "execution_count": null,
   "metadata": {},
   "outputs": [],
   "source": [
    "dtree_pred = dtree.predict(X_test)\n",
    "pd.crosstab(pd.Series(y_test, name = 'Actual'), pd.Series(dtree_pred, name = 'Predict'), margins = True)"
   ]
  },
  {
   "cell_type": "code",
   "execution_count": null,
   "metadata": {},
   "outputs": [],
   "source": [
    "print(\"Accuracy is {0:.2f}\".format(accuracy_score(y_test, dtree_pred)))\n",
    "print(\"Precision is {0:.2f}\".format(precision_score(y_test, dtree_pred)))\n",
    "print(\"Recall is {0:.2f}\".format(recall_score(y_test, dtree_pred)))\n",
    "\n",
    "accuracy_dtree = accuracy_score(y_test, dtree_pred)\n",
    "precision_dtree = precision_score(y_test, dtree_pred)\n",
    "recall_dtree = recall_score(y_test, dtree_pred)"
   ]
  },
  {
   "cell_type": "code",
   "execution_count": null,
   "metadata": {},
   "outputs": [],
   "source": [
    "# Create list of top most features based on importance\n",
    "feature_names = X_train.columns\n",
    "feature_imports = dtree.feature_importances_\n",
    "most_imp_features = pd.DataFrame([f for f in zip(feature_names,feature_imports)], columns=[\"Feature\", \"Importance\"]).nlargest(10, \"Importance\")\n",
    "most_imp_features.sort_values(by=\"Importance\", inplace=True)\n",
    "print(most_imp_features)\n",
    "plt.figure(figsize=(10,6))\n",
    "plt.barh(range(len(most_imp_features)), most_imp_features.Importance, align='center', alpha=0.8)\n",
    "plt.yticks(range(len(most_imp_features)), most_imp_features.Feature, fontsize=14)\n",
    "plt.xlabel('Importance')\n",
    "plt.title('Most important features - Decision Tree')\n",
    "plt.show()"
   ]
  },
  {
   "cell_type": "markdown",
   "metadata": {},
   "source": [
    "Random Forest"
   ]
  },
  {
   "cell_type": "code",
   "execution_count": null,
   "metadata": {},
   "outputs": [],
   "source": [
    "from sklearn.ensemble import RandomForestClassifier\n",
    "rm = RandomForestClassifier(n_estimators = 10, max_depth=25, criterion = \"gini\", min_samples_split=10)\n",
    "rm.fit(New_X, New_y)"
   ]
  },
  {
   "cell_type": "code",
   "execution_count": null,
   "metadata": {},
   "outputs": [],
   "source": [
    "rm_prd = rm.predict(X_test)\n",
    "pd.crosstab(pd.Series(y_test, name = 'Actual'), pd.Series(rm_prd, name = 'Predict'), margins = True)"
   ]
  },
  {
   "cell_type": "code",
   "execution_count": null,
   "metadata": {},
   "outputs": [],
   "source": [
    "print(\"Accuracy is {0:.2f}\".format(accuracy_score(y_test, rm_prd)))\n",
    "print(\"Precision is {0:.2f}\".format(precision_score(y_test, rm_prd)))\n",
    "print(\"Recall is {0:.2f}\".format(recall_score(y_test, rm_prd)))\n",
    "\n",
    "accuracy_rm = accuracy_score(y_test, rm_prd)\n",
    "precision_rm = precision_score(y_test, rm_prd)\n",
    "recall_rm = recall_score(y_test, rm_prd)"
   ]
  },
  {
   "cell_type": "code",
   "execution_count": null,
   "metadata": {},
   "outputs": [],
   "source": [
    "# Create list of top most features based on importance\n",
    "feature_names = X_train.columns\n",
    "feature_imports = rm.feature_importances_\n",
    "most_imp_features = pd.DataFrame([f for f in zip(feature_names,feature_imports)], columns=[\"Feature\", \"Importance\"]).nlargest(10, \"Importance\")\n",
    "most_imp_features.sort_values(by=\"Importance\", inplace=True)\n",
    "plt.figure(figsize=(10,6))\n",
    "plt.barh(range(len(most_imp_features)), most_imp_features.Importance, align='center', alpha=0.8)\n",
    "plt.yticks(range(len(most_imp_features)), most_imp_features.Feature, fontsize=14)\n",
    "plt.xlabel('Importance')\n",
    "plt.title('Most important features - Random Forest ')\n",
    "plt.show()"
   ]
  },
  {
   "cell_type": "code",
   "execution_count": null,
   "metadata": {},
   "outputs": [],
   "source": []
  },
  {
   "cell_type": "code",
   "execution_count": null,
   "metadata": {},
   "outputs": [],
   "source": [
    "X_new = New_df_X.loc[:,list(most_imp_features.Feature)]\n",
    "X_test_new = X_test.loc[:,list(most_imp_features.Feature)]"
   ]
  },
  {
   "cell_type": "code",
   "execution_count": null,
   "metadata": {},
   "outputs": [],
   "source": [
    "rm = RandomForestClassifier(n_estimators = 10, max_depth=25, criterion = \"gini\", min_samples_split=10)\n",
    "rm.fit(X_new, New_y)\n",
    "rm_prd = rm.predict(X_test_new)\n",
    "pd.crosstab(pd.Series(y_test, name = 'Actual'), pd.Series(rm_prd, name = 'Predict'), margins = True)\n",
    "print(\"Accuracy is {0:.2f}\".format(accuracy_score(y_test, rm_prd)))\n",
    "print(\"Precision is {0:.2f}\".format(precision_score(y_test, rm_prd)))\n",
    "print(\"Recall is {0:.2f}\".format(recall_score(y_test, rm_prd)))\n",
    "\n",
    "accuracy_rm = accuracy_score(y_test, rm_prd)\n",
    "precision_rm = precision_score(y_test, rm_prd)\n",
    "recall_rm = recall_score(y_test, rm_prd)"
   ]
  },
  {
   "cell_type": "code",
   "execution_count": null,
   "metadata": {},
   "outputs": [],
   "source": []
  },
  {
   "cell_type": "code",
   "execution_count": null,
   "metadata": {},
   "outputs": [],
   "source": []
  },
  {
   "cell_type": "code",
   "execution_count": null,
   "metadata": {},
   "outputs": [],
   "source": []
  },
  {
   "cell_type": "code",
   "execution_count": null,
   "metadata": {},
   "outputs": [],
   "source": []
  },
  {
   "cell_type": "markdown",
   "metadata": {},
   "source": [
    "Ada Boost Classifier"
   ]
  },
  {
   "cell_type": "code",
   "execution_count": null,
   "metadata": {},
   "outputs": [],
   "source": [
    "from sklearn.ensemble import AdaBoostClassifier\n",
    "ad = AdaBoostClassifier()\n",
    "ad.fit(New_df_X, New_y)"
   ]
  },
  {
   "cell_type": "code",
   "execution_count": null,
   "metadata": {},
   "outputs": [],
   "source": [
    "ad_prd = ad.predict(X_test)\n",
    "pd.crosstab(pd.Series(y_test, name = 'Actual'), pd.Series(ad_prd, name = 'Predict'), margins = True)"
   ]
  },
  {
   "cell_type": "code",
   "execution_count": null,
   "metadata": {},
   "outputs": [],
   "source": [
    "print(\"Accuracy is {0:.2f}\".format(accuracy_score(y_test, ad_prd)))\n",
    "print(\"Precision is {0:.2f}\".format(precision_score(y_test, ad_prd)))\n",
    "print(\"Recall is {0:.2f}\".format(recall_score(y_test, ad_prd)))\n",
    "\n",
    "accuracy_ad = accuracy_score(y_test, ad_prd)\n",
    "precision_ad = precision_score(y_test, ad_prd)\n",
    "recall_ad = recall_score(y_test, ad_prd)"
   ]
  },
  {
   "cell_type": "code",
   "execution_count": null,
   "metadata": {},
   "outputs": [],
   "source": [
    "# Create list of top most features based on importance\n",
    "feature_names = X_train.columns\n",
    "feature_imports = ad.feature_importances_\n",
    "most_imp_features = pd.DataFrame([f for f in zip(feature_names,feature_imports)], columns=[\"Feature\", \"Importance\"]).nlargest(10, \"Importance\")\n",
    "most_imp_features.sort_values(by=\"Importance\", inplace=True)\n",
    "plt.figure(figsize=(10,6))\n",
    "plt.barh(range(len(most_imp_features)), most_imp_features.Importance, align='center', alpha=0.8)\n",
    "plt.yticks(range(len(most_imp_features)), most_imp_features.Feature, fontsize=14)\n",
    "plt.xlabel('Importance')\n",
    "plt.title('Most important features - Random Forest ')\n",
    "plt.show()"
   ]
  },
  {
   "cell_type": "markdown",
   "metadata": {},
   "source": [
    "Gradient Boosting Classifier"
   ]
  },
  {
   "cell_type": "code",
   "execution_count": null,
   "metadata": {},
   "outputs": [],
   "source": [
    "from sklearn.ensemble import GradientBoostingClassifier\n",
    "gd = GradientBoostingClassifier()\n",
    "gd.fit(New_df_X, New_y)"
   ]
  },
  {
   "cell_type": "code",
   "execution_count": null,
   "metadata": {},
   "outputs": [],
   "source": [
    "gd_prd = gd.predict(X_test)\n",
    "pd.crosstab(pd.Series(y_test, name = 'Actual'), pd.Series(gd_prd, name = 'Predict'), margins = True)"
   ]
  },
  {
   "cell_type": "code",
   "execution_count": null,
   "metadata": {},
   "outputs": [],
   "source": [
    "print(\"Accuracy is {0:.2f}\".format(accuracy_score(y_test, gd_prd)))\n",
    "print(\"Precision is {0:.2f}\".format(precision_score(y_test, gd_prd)))\n",
    "print(\"Recall is {0:.2f}\".format(recall_score(y_test, gd_prd)))\n",
    "\n",
    "accuracy_gd = accuracy_score(y_test, gd_prd)\n",
    "precision_gd = precision_score(y_test, gd_prd)\n",
    "recall_gd = recall_score(y_test, gd_prd)"
   ]
  },
  {
   "cell_type": "code",
   "execution_count": null,
   "metadata": {},
   "outputs": [],
   "source": [
    "# Create list of top most features based on importance\n",
    "feature_names = X_train.columns\n",
    "feature_imports = gd.feature_importances_\n",
    "most_imp_features = pd.DataFrame([f for f in zip(feature_names,feature_imports)], columns=[\"Feature\", \"Importance\"]).nlargest(10, \"Importance\")\n",
    "most_imp_features.sort_values(by=\"Importance\", inplace=True)\n",
    "plt.figure(figsize=(10,6))\n",
    "plt.barh(range(len(most_imp_features)), most_imp_features.Importance, align='center', alpha=0.8)\n",
    "plt.yticks(range(len(most_imp_features)), most_imp_features.Feature, fontsize=14)\n",
    "plt.xlabel('Importance')\n",
    "plt.title('Most important features - Random Forest ')\n",
    "plt.show()"
   ]
  },
  {
   "cell_type": "markdown",
   "metadata": {},
   "source": [
    "Model Comparision"
   ]
  },
  {
   "cell_type": "code",
   "execution_count": null,
   "metadata": {},
   "outputs": [],
   "source": [
    "plt.figure(figsize=(14, 7))\n",
    "ax = plt.subplot(111)\n",
    "\n",
    "models = ['Logistic Regression', 'Decision Tree', 'Random Forests','AdaBoost', 'Gradient Boost']\n",
    "values = [accuracy_logit, accuracy_dtree, accuracy_rm,accuracy_ad, accuracy_gd]\n",
    "model = np.arange(len(models))\n",
    "\n",
    "plt.bar(model, values, align='center', width = 0.15, alpha=0.7, color = 'red', label= 'accuracy')\n",
    "plt.xticks(model, models)\n",
    "           \n",
    "\n",
    "           \n",
    "ax = plt.subplot(111)\n",
    "\n",
    "models = ['Logistic Regression', 'Decision Tree', 'Random Forests','AdaBoost', 'Gradient Boost']\n",
    "values = [precision_logit, precision_dtree, precision_rm,precision_ad,precision_gd]\n",
    "model = np.arange(len(models))\n",
    "\n",
    "plt.bar(model+0.15, values, align='center', width = 0.15, alpha=0.7, color = 'blue', label = 'precision')\n",
    "plt.xticks(model, models)\n",
    "\n",
    "\n",
    "\n",
    "ax = plt.subplot(111)\n",
    "\n",
    "models = ['Logistic Regression', 'Decision Tree', 'Random Forests' ,'AdaBoost', 'Gradient Boost']\n",
    "values = [recall_logit, recall_dtree, recall_rm,recall_ad,recall_gd ]\n",
    "model = np.arange(len(models))\n",
    "\n",
    "plt.bar(model+0.3, values, align='center', width = 0.15, alpha=0.7, color = 'green', label = 'recall')\n",
    "plt.xticks(model, models)\n",
    "\n",
    "\n",
    "\n",
    "plt.ylabel('Performance Metrics for Different models')\n",
    "plt.title('Model')\n",
    "    \n",
    "# removing the axis on the top and right of the plot window\n",
    "ax.spines['right'].set_visible(False)\n",
    "ax.spines['top'].set_visible(False)\n",
    "ax.legend()\n",
    "\n",
    "plt.show()          "
   ]
  },
  {
   "cell_type": "code",
   "execution_count": null,
   "metadata": {},
   "outputs": [],
   "source": [
    "Models_Accuracy = pd.DataFrame([accuracy_logit, accuracy_dtree, accuracy_rm,accuracy_ad, accuracy_gd], index = models, columns = ['Accuracy'])\n",
    "Models_Precision = pd.DataFrame([precision_logit, precision_dtree, precision_rm,precision_ad,precision_gd], index = models, columns = ['Precision'])\n",
    "Models_Recall = pd.DataFrame([recall_logit, recall_dtree, recall_rm,recall_ad,recall_gd ], index = models, columns = ['Recall'])\n",
    "Model_Comparision = pd.concat([Models_Accuracy,Models_Precision,Models_Recall] , axis = 1)\n",
    "Model_Comparision"
   ]
  },
  {
   "cell_type": "markdown",
   "metadata": {},
   "source": [
    "### Models after GridSearch CV"
   ]
  },
  {
   "cell_type": "code",
   "execution_count": null,
   "metadata": {},
   "outputs": [],
   "source": [
    "import pandas as pd\n",
    "import numpy as np\n",
    "\n",
    "from sklearn.model_selection import GridSearchCV\n",
    "\n",
    "class EstimatorSelectionHelper:\n",
    "\n",
    "    def __init__(self, models, params):\n",
    "        if not set(models.keys()).issubset(set(params.keys())):\n",
    "            missing_params = list(set(models.keys()) - set(params.keys()))\n",
    "            raise ValueError(\"Some estimators are missing parameters: %s\" % missing_params)\n",
    "        self.models = models\n",
    "        self.params = params\n",
    "        self.keys = models.keys()\n",
    "        self.grid_searches = {}\n",
    "\n",
    "    def fit(self, X, y, cv=3, n_jobs=3, verbose=1, scoring=None, refit=False):\n",
    "        for key in self.keys:\n",
    "            print(\"Running GridSearchCV for %s.\" % key)\n",
    "            model = self.models[key]\n",
    "            params = self.params[key]\n",
    "            gs = GridSearchCV(model, params, cv=cv, n_jobs=-1,\n",
    "                              verbose=verbose, scoring=scoring, refit=refit,\n",
    "                              return_train_score=True)\n",
    "            gs.fit(X,y)\n",
    "            self.grid_searches[key] = gs    \n",
    "\n",
    "    def score_summary(self, sort_by='mean_score'):\n",
    "        def row(key, scores, params):\n",
    "            d = {\n",
    "                 'estimator': key,\n",
    "                 'min_score': min(scores),\n",
    "                 'max_score': max(scores),\n",
    "                 'mean_score': np.mean(scores),\n",
    "                 'std_score': np.std(scores),\n",
    "            }\n",
    "            return pd.Series({**params,**d})\n",
    "\n",
    "        rows = []\n",
    "        for k in self.grid_searches:\n",
    "            print(k)\n",
    "            params = self.grid_searches[k].cv_results_['params']\n",
    "            scores = []\n",
    "            for i in range(self.grid_searches[k].cv):\n",
    "                key = \"split{}_test_score\".format(i)\n",
    "                r = self.grid_searches[k].cv_results_[key]        \n",
    "                scores.append(r.reshape(len(params),1))\n",
    "\n",
    "            all_scores = np.hstack(scores)\n",
    "            for p, s in zip(params,all_scores):\n",
    "                rows.append((row(k, s, p)))\n",
    "\n",
    "        df = pd.concat(rows, axis=1).T.sort_values([sort_by], ascending=False)\n",
    "\n",
    "        columns = ['estimator', 'min_score', 'mean_score', 'max_score', 'std_score']\n",
    "        columns = columns + [c for c in df.columns if c not in columns]\n",
    "\n",
    "        return df[columns]"
   ]
  },
  {
   "cell_type": "code",
   "execution_count": null,
   "metadata": {},
   "outputs": [],
   "source": [
    "from sklearn.ensemble import ExtraTreesClassifier\n",
    "from sklearn.ensemble import RandomForestClassifier\n",
    "from sklearn.ensemble import AdaBoostClassifier\n",
    "from sklearn.ensemble import GradientBoostingClassifier\n",
    "\n",
    "models1 = {\n",
    "    'RandomForestClassifier': RandomForestClassifier(),\n",
    "    'AdaBoostClassifier': AdaBoostClassifier(),\n",
    "    'GradientBoostingClassifier': GradientBoostingClassifier(),\n",
    "    \n",
    "}\n",
    "\n",
    "params1 = {\n",
    "    'RandomForestClassifier': { 'n_estimators': [16, 32] , 'max_depth': [15,30] },\n",
    "    'AdaBoostClassifier':  { 'n_estimators': [16, 32] },\n",
    "    'GradientBoostingClassifier': { 'n_estimators': [16, 32], 'learning_rate': [0.8, 1.0] },\n",
    "}"
   ]
  },
  {
   "cell_type": "code",
   "execution_count": null,
   "metadata": {},
   "outputs": [],
   "source": [
    "from sklearn.metrics import f1_score"
   ]
  },
  {
   "cell_type": "code",
   "execution_count": null,
   "metadata": {},
   "outputs": [],
   "source": [
    "helper1 = EstimatorSelectionHelper(models1, params1)\n",
    "helper1.fit(New_df_X, New_y, scoring='precision', n_jobs=2)"
   ]
  },
  {
   "cell_type": "code",
   "execution_count": null,
   "metadata": {},
   "outputs": [],
   "source": [
    "helper1.score_summary(sort_by='max_score')"
   ]
  },
  {
   "cell_type": "code",
   "execution_count": null,
   "metadata": {},
   "outputs": [],
   "source": []
  },
  {
   "cell_type": "code",
   "execution_count": null,
   "metadata": {},
   "outputs": [],
   "source": []
  },
  {
   "cell_type": "code",
   "execution_count": null,
   "metadata": {},
   "outputs": [],
   "source": []
  }
 ],
 "metadata": {
  "kernelspec": {
   "display_name": "Python 3",
   "language": "python",
   "name": "python3"
  },
  "language_info": {
   "codemirror_mode": {
    "name": "ipython",
    "version": 3
   },
   "file_extension": ".py",
   "mimetype": "text/x-python",
   "name": "python",
   "nbconvert_exporter": "python",
   "pygments_lexer": "ipython3",
   "version": "3.7.3"
  }
 },
 "nbformat": 4,
 "nbformat_minor": 2
}
