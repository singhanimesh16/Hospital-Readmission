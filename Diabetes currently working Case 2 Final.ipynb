{
 "cells": [
  {
   "cell_type": "markdown",
   "metadata": {},
   "source": [
    "https://archive.ics.uci.edu/ml/datasets/Diabetes+130-US+hospitals+for+years+1999-2008"
   ]
  },
  {
   "cell_type": "code",
   "execution_count": 1,
   "metadata": {},
   "outputs": [],
   "source": [
    "import numpy as np\n",
    "import pandas as pd\n",
    "import seaborn as sns\n",
    "import matplotlib.pyplot as plt\n",
    "pd.set_option('display.max_columns', 500)\n",
    "from sklearn.cluster import KMeans\n",
    "from sklearn.model_selection import train_test_split"
   ]
  },
  {
   "cell_type": "markdown",
   "metadata": {},
   "source": [
    "### Dealing with missing values\n",
    "First we have to see how many missing values are (which were coded as “?” for most variables in the data):"
   ]
  },
  {
   "cell_type": "code",
   "execution_count": 2,
   "metadata": {},
   "outputs": [],
   "source": [
    "df = pd.read_csv('diabetic_data.csv')\n",
    "df = df.replace(['?', 'Unknown/Invalid'], [np.nan,np.nan])"
   ]
  },
  {
   "cell_type": "code",
   "execution_count": 3,
   "metadata": {
    "scrolled": true
   },
   "outputs": [
    {
     "data": {
      "text/html": [
       "<div>\n",
       "<style scoped>\n",
       "    .dataframe tbody tr th:only-of-type {\n",
       "        vertical-align: middle;\n",
       "    }\n",
       "\n",
       "    .dataframe tbody tr th {\n",
       "        vertical-align: top;\n",
       "    }\n",
       "\n",
       "    .dataframe thead th {\n",
       "        text-align: right;\n",
       "    }\n",
       "</style>\n",
       "<table border=\"1\" class=\"dataframe\">\n",
       "  <thead>\n",
       "    <tr style=\"text-align: right;\">\n",
       "      <th></th>\n",
       "      <th>missing</th>\n",
       "      <th>percent_missing</th>\n",
       "    </tr>\n",
       "  </thead>\n",
       "  <tbody>\n",
       "    <tr>\n",
       "      <th>race</th>\n",
       "      <td>2273</td>\n",
       "      <td>2.234</td>\n",
       "    </tr>\n",
       "    <tr>\n",
       "      <th>gender</th>\n",
       "      <td>3</td>\n",
       "      <td>0.003</td>\n",
       "    </tr>\n",
       "    <tr>\n",
       "      <th>weight</th>\n",
       "      <td>98569</td>\n",
       "      <td>96.858</td>\n",
       "    </tr>\n",
       "    <tr>\n",
       "      <th>payer_code</th>\n",
       "      <td>40256</td>\n",
       "      <td>39.557</td>\n",
       "    </tr>\n",
       "    <tr>\n",
       "      <th>medical_specialty</th>\n",
       "      <td>49949</td>\n",
       "      <td>49.082</td>\n",
       "    </tr>\n",
       "    <tr>\n",
       "      <th>diag_1</th>\n",
       "      <td>21</td>\n",
       "      <td>0.021</td>\n",
       "    </tr>\n",
       "    <tr>\n",
       "      <th>diag_2</th>\n",
       "      <td>358</td>\n",
       "      <td>0.352</td>\n",
       "    </tr>\n",
       "    <tr>\n",
       "      <th>diag_3</th>\n",
       "      <td>1423</td>\n",
       "      <td>1.398</td>\n",
       "    </tr>\n",
       "  </tbody>\n",
       "</table>\n",
       "</div>"
      ],
      "text/plain": [
       "                   missing  percent_missing\n",
       "race                  2273            2.234\n",
       "gender                   3            0.003\n",
       "weight               98569           96.858\n",
       "payer_code           40256           39.557\n",
       "medical_specialty    49949           49.082\n",
       "diag_1                  21            0.021\n",
       "diag_2                 358            0.352\n",
       "diag_3                1423            1.398"
      ]
     },
     "execution_count": 3,
     "metadata": {},
     "output_type": "execute_result"
    }
   ],
   "source": [
    "#Total Missing vales and percentage respective percentage per column\n",
    "missing = df.isnull().sum()\n",
    "percent_missing = round((df.isnull().sum() * 100 / len(df)),3)\n",
    "missing_df = pd.DataFrame({'missing': missing,'percent_missing': percent_missing })\n",
    "missing_df[(missing_df['missing'] > 0) & (missing_df['percent_missing']>0)]"
   ]
  },
  {
   "cell_type": "markdown",
   "metadata": {},
   "source": [
    "#### Preprocessing"
   ]
  },
  {
   "cell_type": "markdown",
   "metadata": {},
   "source": [
    "1. Weight and payer code is missing in over 98% and 40% records. Owing to the poor interpretability of missing values and little predictive generalizability to other patients, best thing is to just drop it. We also noticed that for two variables (drugs named citoglipton and examide), all records have the same value. So essentially these cannot provide any interpretive or discriminatory information for predicting readmission, and we dropped these columns as well. \n",
    "2. We found that 3 values from gender is having 'Invalid/Unknown', so we only drop those records.\n",
    "3. Primary (diag_1), Secondary (diag_2) and Additional (diag_3) diagnoses were have very few missing values. Technically, if all three are missing, that’s bad data. So we only drop those records where all three diagnoses are missing.\n",
    "4. since we are trying to predict readmissions, those patients who died during this hospital admission, have zero probability of readmission. So we should remove those records (discharge_disposition = 11)."
   ]
  },
  {
   "cell_type": "code",
   "execution_count": 4,
   "metadata": {
    "scrolled": true
   },
   "outputs": [],
   "source": [
    "#1. Dropping ['weight',,'citoglipton','examide', payer_code ]\n",
    "df = df.drop(['weight','citoglipton' ,'examide', 'payer_code'], axis = 1)\n",
    "\n",
    "#2. Dropping 3 null valued rows from gender (where 'Invalid/Unknown')\n",
    "df = df[~(df['gender'].isnull())]\n",
    "\n",
    "#3. Taking only that rows which donot contained diag_1, diag_2,diag_3 all null(i.e. 1 row in total dropped)\n",
    "df1 = df[~(df['encounter_id']== 277875756)]\n",
    "\n",
    "#4. Dropping records where discharge_disposition_id is 11\n",
    "df1 = df1[~(df1['discharge_disposition_id'] == 11)]"
   ]
  },
  {
   "cell_type": "markdown",
   "metadata": {},
   "source": [
    "Dealing with age:\n",
    "\n",
    "The dataset only gives us age as 10 year categories, so we don’t know the exact age of each patient. The previous study on this dataset used age categories as nominal variables, but we wanted to be able to see the effect of increasing age on readmission, even if in a crude way. To do that, we assume that age of the patient on average lies at the midpoint of the age category. For example, if the patient’s age category is 20–30 years, then we assume the age = 25 years. So we converted age categories to midpoints, resulting in a numeric variable:"
   ]
  },
  {
   "cell_type": "code",
   "execution_count": 5,
   "metadata": {
    "scrolled": true
   },
   "outputs": [],
   "source": [
    "#changed age bins to their median\n",
    "l = [5,15,25,35,45,55,65,75,85,95]\n",
    "\n",
    "for i in range(len(df1.age.unique())):\n",
    "    df1.age.replace(df1.age.unique()[i],l[i], inplace = True)"
   ]
  },
  {
   "cell_type": "markdown",
   "metadata": {},
   "source": [
    "### Creating and/or Recoding New Features\n",
    "\n",
    "Service utilization: \n",
    "\n",
    "The data contains variables for number of inpatient (admissions), emergency room visits and outpatient visits for a given patient in the previous one year. These are (crude) measures of how much hospital/clinic services a person has used in the past year. We added these three to create a new variable called service utilization (see figure below). The idea was to see which version gives us better results. Granted, we did not apply any special weighting to the three ingredients of service utilization but we wanted to try something simple at this stage."
   ]
  },
  {
   "cell_type": "code",
   "execution_count": 6,
   "metadata": {},
   "outputs": [],
   "source": [
    "df1['service_utilization'] = df1['number_outpatient'] + df1['number_emergency'] + df1['number_inpatient']\n",
    "df1 = df1.drop(['number_outpatient','number_emergency','number_inpatient'], axis =1)"
   ]
  },
  {
   "cell_type": "markdown",
   "metadata": {},
   "source": [
    "Admission_type_id:\n",
    "\n",
    "1, 2 and 7 correspond to Emergency, Urgent Care and Trauma, and thus were combined into a single category as these are all non-elective situations."
   ]
  },
  {
   "cell_type": "code",
   "execution_count": 7,
   "metadata": {},
   "outputs": [],
   "source": [
    "df1['admission_type_id'] = df1['admission_type_id'].replace(2,1)\n",
    "df1['admission_type_id'] = df1['admission_type_id'].replace(7,1)\n",
    "df1['admission_type_id'] = df1['admission_type_id'].replace(6,5)\n",
    "df1['admission_type_id'] = df1['admission_type_id'].replace(8,5)"
   ]
  },
  {
   "cell_type": "markdown",
   "metadata": {},
   "source": [
    "Label Encoding some variables"
   ]
  },
  {
   "cell_type": "code",
   "execution_count": 8,
   "metadata": {},
   "outputs": [],
   "source": [
    "\n",
    "keys = ['metformin', 'repaglinide', 'nateglinide', 'chlorpropamide', 'glimepiride', 'glipizide', 'glyburide', 'pioglitazone', 'rosiglitazone', 'acarbose', 'miglitol', 'insulin', 'glyburide-metformin', 'tolazamide', 'metformin-pioglitazone','metformin-rosiglitazone', 'glimepiride-pioglitazone', 'glipizide-metformin', 'troglitazone', 'tolbutamide', 'acetohexamide']\n",
    "for col in keys:\n",
    "    df1[col] = df1[col].apply(lambda x: 0 if x == 'No' else 1 if x == 'Steady' else 2 if x == 'Down' else 3)\n",
    "\n",
    "df1.change = df1.change.apply(lambda x: 0 if x=='No' else 1)\n",
    "df1.diabetesMed = df1.diabetesMed.apply(lambda x: 0 if x=='No' else 1)\n",
    "    \n"
   ]
  },
  {
   "cell_type": "markdown",
   "metadata": {},
   "source": [
    "Recoding the outcome variable: \n",
    "\n",
    "The outcome we are looking at is whether the patient gets readmitted to the hospital within 30 days or not. The variable actually has < 30, > 30 and No Readmission categories. To reduce our problem to a binary classification, we combined the readmission after 30 days and no readmission into a single category:"
   ]
  },
  {
   "cell_type": "code",
   "execution_count": 9,
   "metadata": {},
   "outputs": [],
   "source": [
    "df1.readmitted = df1.readmitted.apply(lambda x: 1 if x=='<30' else 0)"
   ]
  },
  {
   "cell_type": "markdown",
   "metadata": {},
   "source": [
    "Categorization of diagnoses:\n",
    "\n",
    "The dataset contained upto three diagnoses for a given patient (primary, secondary and additional). However, each of these had 700–900 unique ICD codes and it is extremely difficult to include them in the model and interpret meaningfully. Therefore, we collapsed these diagnosis codes into 9 disease categories in an almost similar fashion to that done in the original publication using this dataset. These 9 categories include Circulatory, Respiratory, Digestive, Diabetes, Injury, Musculoskeletal, Genitourinary, Neoplasms, and Others.\n",
    "\n",
    "#Circulatory 390–459, 785 \n",
    "#Respiratory 460–519, 786 \n",
    "#Digestive 520–579, 787 \n",
    "#Diabetes 250.xx \n",
    "#Injury 800–999 \n",
    "#Musculoskeletal 710–739 \n",
    "#Genitourinary 580–629, 788 \n",
    "#Neoplasms 140–239 ,780, 781, 784, 790–799,240–279,680–709, 782\n",
    "#Others---: 001–139 ,290–319 ,E–V 918 ,280–289 ,320–359,630–679 ,360–389 ,740–759"
   ]
  },
  {
   "cell_type": "markdown",
   "metadata": {},
   "source": [
    "Treating Diagnosis 1:"
   ]
  },
  {
   "cell_type": "code",
   "execution_count": 10,
   "metadata": {},
   "outputs": [],
   "source": [
    "#Replacing E and V values in dataset first\n",
    "listi=df1[df1['diag_1'].str.startswith(\"V\",na=False)].index\n",
    "df1.loc[listi,'diag_1'] = \"9999\"\n",
    "listii=df1[df1['diag_1'].str.startswith(\"E\",na=False)].index\n",
    "df1.loc[listii,'diag_1'] = \"9999\"\n",
    "df1.diag_1 = df1.diag_1.fillna(-1)\n",
    "df1['diag_1'] = df1['diag_1'].astype('float64')\n",
    "\n",
    "Circulatory_index = []\n",
    "Respiratory_index = []\n",
    "Digestive_index = []\n",
    "Diabetes_index = []\n",
    "Injury_index = []\n",
    "Musculoskeletal_index = []\n",
    "Genitourinary_index = []\n",
    "Neoplasms_values = []\n",
    "Neoplasms_index = []\n",
    "Other_values = []\n",
    "Other_index = []\n",
    "\n",
    "Circulatory_index = df1[(df1['diag_1']>=390) & (df1['diag_1']<=459)].index\n",
    "\n",
    "Circulatory_index.append(df1[df1['diag_1']==785].index)\n",
    "\n",
    "Respiratory_index = df1[(df1['diag_1']>=460) & (df1['diag_1']<=519)].index\n",
    "\n",
    "Digestive_index = df1[(df1['diag_1']>=520) & (df1['diag_1']<=579)].index\n",
    "\n",
    "Diabetes_index = df1[(df1['diag_1']>=250.00) & (df1['diag_1']<251)].index\n",
    "Injury_index = df1[(df1['diag_1']>=800) & (df1['diag_1']<=999.00)].index\n",
    "Musculoskeletal_index = df1[(df1['diag_1']>=710) & (df1['diag_1']<=739)].index\n",
    "\n",
    "Genitourinary_index = df1[(df1['diag_1']>=580) & (df1['diag_1']<=629)].index\n",
    "\n",
    "for i in df1['diag_1']:\n",
    "    if ((i>=1) & (i<250)) or ((i>250) & (i<=279)) or ((i>=680) & (i<=709)) or ((i>=790) & (i<=799)) or ((i>=780) & (i<=784)) or (i==789):\n",
    "        Neoplasms_values.append(i)\n",
    "Neoplasms_index = df1[df1['diag_1'].isin(Neoplasms_values)].index\n",
    "\n",
    "for j in df1['diag_1']:\n",
    "    if ((j>=280) & (j<=389)) or ((j>=630) & (j<=679)) or ((j>=740) & (j<=759)) or (j==9999):\n",
    "        Other_values.append(j)\n",
    "Other_index = df1[df1['diag_1'].isin(Other_values)].index\n",
    "\n",
    "df1['diag_1'] = df1['diag_1'].replace([785.0,786.0,787.0,788.0],['Circulatory','Respiratory','Digestive','Genitourinary'])\n",
    "\n",
    "\n",
    "df1.loc[Circulatory_index,'diag_1'] = 'Circulatory'\n",
    "df1.loc[Respiratory_index,'diag_1'] = 'Respiratory'\n",
    "df1.loc[Digestive_index,'diag_1'] = 'Digestive'\n",
    "df1.loc[Diabetes_index,'diag_1'] = 'Diabetes'\n",
    "df1.loc[Injury_index,'diag_1'] = 'Injury'\n",
    "df1.loc[Musculoskeletal_index,'diag_1'] = 'Musculoskeletal'\n",
    "df1.loc[Genitourinary_index,'diag_1'] = 'Genitourinary'\n",
    "df1.loc[Neoplasms_index,'diag_1'] = 'Neoplasms'\n",
    "df1.loc[Other_index,'diag_1'] = 'Other'\n"
   ]
  },
  {
   "cell_type": "markdown",
   "metadata": {},
   "source": [
    "Treating Diagnosis 2:"
   ]
  },
  {
   "cell_type": "code",
   "execution_count": 11,
   "metadata": {},
   "outputs": [],
   "source": [
    "#Replacing E and V values in dataset first\n",
    "listi=df1[df1['diag_2'].str.startswith(\"V\",na=False)].index\n",
    "df1.loc[listi,'diag_2'] = \"9999\"\n",
    "listii=df1[df1['diag_2'].str.startswith(\"E\",na=False)].index\n",
    "df1.loc[listii,'diag_2'] = \"9999\"\n",
    "df1.diag_2 = df1.diag_2.fillna(-1)\n",
    "df1['diag_2'] = df1['diag_2'].astype('float64')\n",
    "\n",
    "Circulatory_index = []\n",
    "Respiratory_index = []\n",
    "Digestive_index = []\n",
    "Diabetes_index = []\n",
    "Injury_index = []\n",
    "Musculoskeletal_index = []\n",
    "Genitourinary_index = []\n",
    "Neoplasms_values = []\n",
    "Neoplasms_index = []\n",
    "Other_values = []\n",
    "Other_index = []\n",
    "\n",
    "Circulatory_index = df1[(df1['diag_2']>=390) & (df1['diag_2']<=459)].index\n",
    "\n",
    "Circulatory_index.append(df1[df1['diag_2']==785].index)\n",
    "\n",
    "Respiratory_index = df1[(df1['diag_2']>=460) & (df1['diag_2']<=519)].index\n",
    "\n",
    "Digestive_index = df1[(df1['diag_2']>=520) & (df1['diag_2']<=579)].index\n",
    "\n",
    "Diabetes_index = df1[(df1['diag_2']>=250.00) & (df1['diag_2']<251)].index\n",
    "Injury_index = df1[(df1['diag_2']>=800) & (df1['diag_2']<=999.00)].index\n",
    "Musculoskeletal_index = df1[(df1['diag_2']>=710) & (df1['diag_2']<=739)].index\n",
    "\n",
    "Genitourinary_index = df1[(df1['diag_2']>=580) & (df1['diag_2']<=629)].index\n",
    "\n",
    "for i in df1['diag_2']:\n",
    "    if ((i>=1) & (i<250)) or ((i>250) & (i<=279)) or ((i>=680) & (i<=709)) or ((i>=790) & (i<=799)) or ((i>=780) & (i<=784)) or (i==789):\n",
    "        Neoplasms_values.append(i)\n",
    "Neoplasms_index = df1[df1['diag_2'].isin(Neoplasms_values)].index\n",
    "\n",
    "for j in df1['diag_2']:\n",
    "    if ((j>=280) & (j<=389)) or ((j>=630) & (j<=679)) or ((j>=740) & (j<=759)) or (j==9999):\n",
    "        Other_values.append(j)\n",
    "Other_index = df1[df1['diag_2'].isin(Other_values)].index\n",
    "\n",
    "df1['diag_2'] = df1['diag_2'].replace([785.0,786.0,787.0,788.0],['Circulatory','Respiratory','Digestive','Genitourinary'])\n",
    "\n",
    "\n",
    "df1.loc[Circulatory_index,'diag_2'] = 'Circulatory'\n",
    "df1.loc[Respiratory_index,'diag_2'] = 'Respiratory'\n",
    "df1.loc[Digestive_index,'diag_2'] = 'Digestive'\n",
    "df1.loc[Diabetes_index,'diag_2'] = 'Diabetes'\n",
    "df1.loc[Injury_index,'diag_2'] = 'Injury'\n",
    "df1.loc[Musculoskeletal_index,'diag_2'] = 'Musculoskeletal'\n",
    "df1.loc[Genitourinary_index,'diag_2'] = 'Genitourinary'\n",
    "df1.loc[Neoplasms_index,'diag_2'] = 'Neoplasms'\n",
    "df1.loc[Other_index,'diag_2'] = 'Other'"
   ]
  },
  {
   "cell_type": "markdown",
   "metadata": {},
   "source": [
    "Treating Diagnosis 3:"
   ]
  },
  {
   "cell_type": "code",
   "execution_count": 12,
   "metadata": {},
   "outputs": [],
   "source": [
    "#Replacing E and V values in dataset first\n",
    "listi=df1[df1['diag_3'].str.startswith(\"V\",na=False)].index\n",
    "df1.loc[listi,'diag_3'] = \"9999\"\n",
    "listii=df1[df1['diag_3'].str.startswith(\"E\",na=False)].index\n",
    "df1.loc[listii,'diag_3'] = \"9999\"\n",
    "df1.diag_3 = df1.diag_3.fillna(-1)\n",
    "df1['diag_3'] = df1['diag_3'].astype('float64')\n",
    "\n",
    "Circulatory_index = []\n",
    "Respiratory_index = []\n",
    "Digestive_index = []\n",
    "Diabetes_index = []\n",
    "Injury_index = []\n",
    "Musculoskeletal_index = []\n",
    "Genitourinary_index = []\n",
    "Neoplasms_values = []\n",
    "Neoplasms_index = []\n",
    "Other_values = []\n",
    "Other_index = []\n",
    "\n",
    "Circulatory_index = df1[(df1['diag_3']>=390) & (df1['diag_3']<=459)].index\n",
    "\n",
    "Circulatory_index.append(df1[df1['diag_3']==785].index)\n",
    "\n",
    "Respiratory_index = df1[(df1['diag_3']>=460) & (df1['diag_3']<=519)].index\n",
    "\n",
    "Digestive_index = df1[(df1['diag_3']>=520) & (df1['diag_3']<=579)].index\n",
    "\n",
    "Diabetes_index = df1[(df1['diag_3']>=250.00) & (df1['diag_3']<251)].index\n",
    "Injury_index = df1[(df1['diag_3']>=800) & (df1['diag_3']<=999.00)].index\n",
    "Musculoskeletal_index = df1[(df1['diag_3']>=710) & (df1['diag_3']<=739)].index\n",
    "\n",
    "Genitourinary_index = df1[(df1['diag_3']>=580) & (df1['diag_3']<=629)].index\n",
    "\n",
    "for i in df1['diag_3']:\n",
    "    if ((i>=1) & (i<250)) or ((i>250) & (i<=279)) or ((i>=680) & (i<=709)) or ((i>=790) & (i<=799)) or ((i>=780) & (i<=784)) or (i==789):\n",
    "        Neoplasms_values.append(i)\n",
    "Neoplasms_index = df1[df1['diag_3'].isin(Neoplasms_values)].index\n",
    "\n",
    "for j in df1['diag_3']:\n",
    "    if ((j>=280) & (j<=389)) or ((j>=630) & (j<=679)) or ((j>=740) & (j<=759)) or (j==9999):\n",
    "        Other_values.append(j)\n",
    "Other_index = df1[df1['diag_3'].isin(Other_values)].index\n",
    "\n",
    "df1['diag_3'] = df1['diag_3'].replace([785.0,786.0,787.0,788.0],['Circulatory','Respiratory','Digestive','Genitourinary'])\n",
    "\n",
    "\n",
    "df1.loc[Circulatory_index,'diag_3'] = 'Circulatory'\n",
    "df1.loc[Respiratory_index,'diag_3'] = 'Respiratory'\n",
    "df1.loc[Digestive_index,'diag_3'] = 'Digestive'\n",
    "df1.loc[Diabetes_index,'diag_3'] = 'Diabetes'\n",
    "df1.loc[Injury_index,'diag_3'] = 'Injury'\n",
    "df1.loc[Musculoskeletal_index,'diag_3'] = 'Musculoskeletal'\n",
    "df1.loc[Genitourinary_index,'diag_3'] = 'Genitourinary'\n",
    "df1.loc[Neoplasms_index,'diag_3'] = 'Neoplasms'\n",
    "df1.loc[Other_index,'diag_3'] = 'Other'"
   ]
  },
  {
   "cell_type": "markdown",
   "metadata": {},
   "source": [
    "Dealing with Medical Speciality:\n",
    "\n",
    "Analyzing Medical_specialty column:\n",
    "After initial observation, it is clear that this column has a lot of missing values but instead of dropping the column, we decided to keep this column since this might help us in determining which department is contributing towards readmissions and corrective measures can be taken.\n",
    "There were multiple specialties with similar department types like, pediatrics, surgery and cardiology so they were grouped into their respective departments as one specialty.\n",
    "Later we calculated the % contribution of each specialty and those with less than 3% contribution were grouped together as ‘Grouped’ for better classification within this column."
   ]
  },
  {
   "cell_type": "code",
   "execution_count": 13,
   "metadata": {},
   "outputs": [],
   "source": [
    "## filling missing values with 'Missing'\n",
    "df1['medical_specialty'].fillna('Missing', inplace=True)\n",
    "## grouping all medical_specialities with surgery involved\n",
    "surg=df1[df1['medical_specialty'].str.startswith(\"Surg\",na=False)].index\n",
    "df1.loc[surg,'medical_specialty'] = \"Surgery\"\n",
    "## grouping all medical_specialities that are cardio related\n",
    "card=df1[df1['medical_specialty'].str.startswith(\"Cardiolo\",na=False)].index\n",
    "df1.loc[card,'medical_specialty'] = \"Cardiology\"\n",
    "## grouping all medical_specialities that are Pediatrics related\n",
    "ped=df1[df1['medical_specialty'].str.startswith(\"Pedia\",na=False)].index\n",
    "df1.loc[ped,'medical_specialty'] = \"Pediatrics\""
   ]
  },
  {
   "cell_type": "code",
   "execution_count": 14,
   "metadata": {},
   "outputs": [
    {
     "data": {
      "text/html": [
       "<div>\n",
       "<style scoped>\n",
       "    .dataframe tbody tr th:only-of-type {\n",
       "        vertical-align: middle;\n",
       "    }\n",
       "\n",
       "    .dataframe tbody tr th {\n",
       "        vertical-align: top;\n",
       "    }\n",
       "\n",
       "    .dataframe thead th {\n",
       "        text-align: right;\n",
       "    }\n",
       "</style>\n",
       "<table border=\"1\" class=\"dataframe\">\n",
       "  <thead>\n",
       "    <tr style=\"text-align: right;\">\n",
       "      <th></th>\n",
       "      <th>med_speciality</th>\n",
       "      <th>Count</th>\n",
       "      <th>%</th>\n",
       "    </tr>\n",
       "  </thead>\n",
       "  <tbody>\n",
       "    <tr>\n",
       "      <th>1</th>\n",
       "      <td>Missing</td>\n",
       "      <td>49128</td>\n",
       "      <td>49.07</td>\n",
       "    </tr>\n",
       "    <tr>\n",
       "      <th>2</th>\n",
       "      <td>InternalMedicine</td>\n",
       "      <td>14327</td>\n",
       "      <td>14.31</td>\n",
       "    </tr>\n",
       "    <tr>\n",
       "      <th>11</th>\n",
       "      <td>Emergency/Trauma</td>\n",
       "      <td>7457</td>\n",
       "      <td>7.45</td>\n",
       "    </tr>\n",
       "    <tr>\n",
       "      <th>3</th>\n",
       "      <td>Family/GeneralPractice</td>\n",
       "      <td>7302</td>\n",
       "      <td>7.29</td>\n",
       "    </tr>\n",
       "    <tr>\n",
       "      <th>4</th>\n",
       "      <td>Cardiology</td>\n",
       "      <td>5302</td>\n",
       "      <td>5.30</td>\n",
       "    </tr>\n",
       "    <tr>\n",
       "      <th>5</th>\n",
       "      <td>Surgery</td>\n",
       "      <td>5054</td>\n",
       "      <td>5.05</td>\n",
       "    </tr>\n",
       "    <tr>\n",
       "      <th>8</th>\n",
       "      <td>Nephrology</td>\n",
       "      <td>1544</td>\n",
       "      <td>1.54</td>\n",
       "    </tr>\n",
       "    <tr>\n",
       "      <th>6</th>\n",
       "      <td>Orthopedics</td>\n",
       "      <td>1394</td>\n",
       "      <td>1.39</td>\n",
       "    </tr>\n",
       "    <tr>\n",
       "      <th>9</th>\n",
       "      <td>Orthopedics-Reconstructive</td>\n",
       "      <td>1231</td>\n",
       "      <td>1.23</td>\n",
       "    </tr>\n",
       "    <tr>\n",
       "      <th>40</th>\n",
       "      <td>Radiologist</td>\n",
       "      <td>1130</td>\n",
       "      <td>1.13</td>\n",
       "    </tr>\n",
       "    <tr>\n",
       "      <th>10</th>\n",
       "      <td>Psychiatry</td>\n",
       "      <td>853</td>\n",
       "      <td>0.85</td>\n",
       "    </tr>\n",
       "    <tr>\n",
       "      <th>12</th>\n",
       "      <td>Pulmonology</td>\n",
       "      <td>856</td>\n",
       "      <td>0.85</td>\n",
       "    </tr>\n",
       "    <tr>\n",
       "      <th>18</th>\n",
       "      <td>Urology</td>\n",
       "      <td>684</td>\n",
       "      <td>0.68</td>\n",
       "    </tr>\n",
       "    <tr>\n",
       "      <th>14</th>\n",
       "      <td>ObstetricsandGynecology</td>\n",
       "      <td>669</td>\n",
       "      <td>0.67</td>\n",
       "    </tr>\n",
       "    <tr>\n",
       "      <th>7</th>\n",
       "      <td>Gastroenterology</td>\n",
       "      <td>550</td>\n",
       "      <td>0.55</td>\n",
       "    </tr>\n",
       "    <tr>\n",
       "      <th>0</th>\n",
       "      <td>Pediatrics</td>\n",
       "      <td>545</td>\n",
       "      <td>0.54</td>\n",
       "    </tr>\n",
       "    <tr>\n",
       "      <th>28</th>\n",
       "      <td>PhysicalMedicineandRehabilitation</td>\n",
       "      <td>391</td>\n",
       "      <td>0.39</td>\n",
       "    </tr>\n",
       "    <tr>\n",
       "      <th>26</th>\n",
       "      <td>Oncology</td>\n",
       "      <td>327</td>\n",
       "      <td>0.33</td>\n",
       "    </tr>\n",
       "    <tr>\n",
       "      <th>20</th>\n",
       "      <td>Neurology</td>\n",
       "      <td>202</td>\n",
       "      <td>0.20</td>\n",
       "    </tr>\n",
       "    <tr>\n",
       "      <th>15</th>\n",
       "      <td>Hematology/Oncology</td>\n",
       "      <td>200</td>\n",
       "      <td>0.20</td>\n",
       "    </tr>\n",
       "    <tr>\n",
       "      <th>17</th>\n",
       "      <td>Endocrinology</td>\n",
       "      <td>119</td>\n",
       "      <td>0.12</td>\n",
       "    </tr>\n",
       "    <tr>\n",
       "      <th>16</th>\n",
       "      <td>Otolaryngology</td>\n",
       "      <td>125</td>\n",
       "      <td>0.12</td>\n",
       "    </tr>\n",
       "    <tr>\n",
       "      <th>23</th>\n",
       "      <td>Psychology</td>\n",
       "      <td>101</td>\n",
       "      <td>0.10</td>\n",
       "    </tr>\n",
       "    <tr>\n",
       "      <th>24</th>\n",
       "      <td>Podiatry</td>\n",
       "      <td>100</td>\n",
       "      <td>0.10</td>\n",
       "    </tr>\n",
       "    <tr>\n",
       "      <th>37</th>\n",
       "      <td>Hematology</td>\n",
       "      <td>78</td>\n",
       "      <td>0.08</td>\n",
       "    </tr>\n",
       "    <tr>\n",
       "      <th>25</th>\n",
       "      <td>Gynecology</td>\n",
       "      <td>58</td>\n",
       "      <td>0.06</td>\n",
       "    </tr>\n",
       "    <tr>\n",
       "      <th>45</th>\n",
       "      <td>Hospitalist</td>\n",
       "      <td>57</td>\n",
       "      <td>0.06</td>\n",
       "    </tr>\n",
       "    <tr>\n",
       "      <th>22</th>\n",
       "      <td>Radiology</td>\n",
       "      <td>53</td>\n",
       "      <td>0.05</td>\n",
       "    </tr>\n",
       "    <tr>\n",
       "      <th>34</th>\n",
       "      <td>Osteopath</td>\n",
       "      <td>38</td>\n",
       "      <td>0.04</td>\n",
       "    </tr>\n",
       "    <tr>\n",
       "      <th>27</th>\n",
       "      <td>Ophthalmology</td>\n",
       "      <td>38</td>\n",
       "      <td>0.04</td>\n",
       "    </tr>\n",
       "    <tr>\n",
       "      <th>29</th>\n",
       "      <td>InfectiousDiseases</td>\n",
       "      <td>37</td>\n",
       "      <td>0.04</td>\n",
       "    </tr>\n",
       "    <tr>\n",
       "      <th>41</th>\n",
       "      <td>Pathology</td>\n",
       "      <td>16</td>\n",
       "      <td>0.02</td>\n",
       "    </tr>\n",
       "    <tr>\n",
       "      <th>13</th>\n",
       "      <td>Obsterics&amp;Gynecology-GynecologicOnco</td>\n",
       "      <td>25</td>\n",
       "      <td>0.02</td>\n",
       "    </tr>\n",
       "    <tr>\n",
       "      <th>39</th>\n",
       "      <td>Obstetrics</td>\n",
       "      <td>19</td>\n",
       "      <td>0.02</td>\n",
       "    </tr>\n",
       "    <tr>\n",
       "      <th>31</th>\n",
       "      <td>Rheumatology</td>\n",
       "      <td>17</td>\n",
       "      <td>0.02</td>\n",
       "    </tr>\n",
       "    <tr>\n",
       "      <th>21</th>\n",
       "      <td>Anesthesiology-Pediatric</td>\n",
       "      <td>19</td>\n",
       "      <td>0.02</td>\n",
       "    </tr>\n",
       "    <tr>\n",
       "      <th>19</th>\n",
       "      <td>Psychiatry-Child/Adolescent</td>\n",
       "      <td>7</td>\n",
       "      <td>0.01</td>\n",
       "    </tr>\n",
       "    <tr>\n",
       "      <th>36</th>\n",
       "      <td>PhysicianNotFound</td>\n",
       "      <td>10</td>\n",
       "      <td>0.01</td>\n",
       "    </tr>\n",
       "    <tr>\n",
       "      <th>49</th>\n",
       "      <td>Endocrinology-Metabolism</td>\n",
       "      <td>8</td>\n",
       "      <td>0.01</td>\n",
       "    </tr>\n",
       "    <tr>\n",
       "      <th>32</th>\n",
       "      <td>AllergyandImmunology</td>\n",
       "      <td>7</td>\n",
       "      <td>0.01</td>\n",
       "    </tr>\n",
       "    <tr>\n",
       "      <th>30</th>\n",
       "      <td>Anesthesiology</td>\n",
       "      <td>12</td>\n",
       "      <td>0.01</td>\n",
       "    </tr>\n",
       "    <tr>\n",
       "      <th>46</th>\n",
       "      <td>OutreachServices</td>\n",
       "      <td>12</td>\n",
       "      <td>0.01</td>\n",
       "    </tr>\n",
       "    <tr>\n",
       "      <th>50</th>\n",
       "      <td>DCPTEAM</td>\n",
       "      <td>5</td>\n",
       "      <td>0.00</td>\n",
       "    </tr>\n",
       "    <tr>\n",
       "      <th>48</th>\n",
       "      <td>Neurophysiology</td>\n",
       "      <td>1</td>\n",
       "      <td>0.00</td>\n",
       "    </tr>\n",
       "    <tr>\n",
       "      <th>47</th>\n",
       "      <td>Perinatology</td>\n",
       "      <td>1</td>\n",
       "      <td>0.00</td>\n",
       "    </tr>\n",
       "    <tr>\n",
       "      <th>35</th>\n",
       "      <td>Psychiatry-Addictive</td>\n",
       "      <td>1</td>\n",
       "      <td>0.00</td>\n",
       "    </tr>\n",
       "    <tr>\n",
       "      <th>44</th>\n",
       "      <td>Speech</td>\n",
       "      <td>1</td>\n",
       "      <td>0.00</td>\n",
       "    </tr>\n",
       "    <tr>\n",
       "      <th>43</th>\n",
       "      <td>SportsMedicine</td>\n",
       "      <td>1</td>\n",
       "      <td>0.00</td>\n",
       "    </tr>\n",
       "    <tr>\n",
       "      <th>42</th>\n",
       "      <td>Dermatology</td>\n",
       "      <td>1</td>\n",
       "      <td>0.00</td>\n",
       "    </tr>\n",
       "    <tr>\n",
       "      <th>38</th>\n",
       "      <td>Proctology</td>\n",
       "      <td>1</td>\n",
       "      <td>0.00</td>\n",
       "    </tr>\n",
       "    <tr>\n",
       "      <th>33</th>\n",
       "      <td>Dentistry</td>\n",
       "      <td>4</td>\n",
       "      <td>0.00</td>\n",
       "    </tr>\n",
       "    <tr>\n",
       "      <th>51</th>\n",
       "      <td>Resident</td>\n",
       "      <td>2</td>\n",
       "      <td>0.00</td>\n",
       "    </tr>\n",
       "  </tbody>\n",
       "</table>\n",
       "</div>"
      ],
      "text/plain": [
       "                          med_speciality  Count      %\n",
       "1                                Missing  49128  49.07\n",
       "2                       InternalMedicine  14327  14.31\n",
       "11                      Emergency/Trauma   7457   7.45\n",
       "3                 Family/GeneralPractice   7302   7.29\n",
       "4                             Cardiology   5302   5.30\n",
       "5                                Surgery   5054   5.05\n",
       "8                             Nephrology   1544   1.54\n",
       "6                            Orthopedics   1394   1.39\n",
       "9             Orthopedics-Reconstructive   1231   1.23\n",
       "40                           Radiologist   1130   1.13\n",
       "10                            Psychiatry    853   0.85\n",
       "12                           Pulmonology    856   0.85\n",
       "18                               Urology    684   0.68\n",
       "14               ObstetricsandGynecology    669   0.67\n",
       "7                       Gastroenterology    550   0.55\n",
       "0                             Pediatrics    545   0.54\n",
       "28     PhysicalMedicineandRehabilitation    391   0.39\n",
       "26                              Oncology    327   0.33\n",
       "20                             Neurology    202   0.20\n",
       "15                   Hematology/Oncology    200   0.20\n",
       "17                         Endocrinology    119   0.12\n",
       "16                        Otolaryngology    125   0.12\n",
       "23                            Psychology    101   0.10\n",
       "24                              Podiatry    100   0.10\n",
       "37                            Hematology     78   0.08\n",
       "25                            Gynecology     58   0.06\n",
       "45                           Hospitalist     57   0.06\n",
       "22                             Radiology     53   0.05\n",
       "34                             Osteopath     38   0.04\n",
       "27                         Ophthalmology     38   0.04\n",
       "29                    InfectiousDiseases     37   0.04\n",
       "41                             Pathology     16   0.02\n",
       "13  Obsterics&Gynecology-GynecologicOnco     25   0.02\n",
       "39                            Obstetrics     19   0.02\n",
       "31                          Rheumatology     17   0.02\n",
       "21              Anesthesiology-Pediatric     19   0.02\n",
       "19           Psychiatry-Child/Adolescent      7   0.01\n",
       "36                     PhysicianNotFound     10   0.01\n",
       "49              Endocrinology-Metabolism      8   0.01\n",
       "32                  AllergyandImmunology      7   0.01\n",
       "30                        Anesthesiology     12   0.01\n",
       "46                      OutreachServices     12   0.01\n",
       "50                               DCPTEAM      5   0.00\n",
       "48                       Neurophysiology      1   0.00\n",
       "47                          Perinatology      1   0.00\n",
       "35                  Psychiatry-Addictive      1   0.00\n",
       "44                                Speech      1   0.00\n",
       "43                        SportsMedicine      1   0.00\n",
       "42                           Dermatology      1   0.00\n",
       "38                            Proctology      1   0.00\n",
       "33                             Dentistry      4   0.00\n",
       "51                              Resident      2   0.00"
      ]
     },
     "execution_count": 14,
     "metadata": {},
     "output_type": "execute_result"
    }
   ],
   "source": [
    "## Checking for each speciality %\n",
    "med_speciality=df1['medical_specialty'].unique()\n",
    "count=0\n",
    "a=[]\n",
    "p=[]\n",
    "for i in med_speciality:\n",
    "    for j in df1['medical_specialty']:\n",
    "        if j == i:\n",
    "            count=count+1\n",
    "    a.append(count)\n",
    "    p.append(round((count/len(df1['medical_specialty'])*100),2))\n",
    "    # print(i, count, round((count/len(df1['medical_specialty'])*100),2))\n",
    "    count=0\n",
    "data=pd.DataFrame({'med_speciality': med_speciality, 'Count':a, '%':p})\n",
    "data.sort_values('%', ascending=False)"
   ]
  },
  {
   "cell_type": "code",
   "execution_count": 15,
   "metadata": {},
   "outputs": [],
   "source": [
    "## grouping all the departments under 3%\n",
    "df1['medical_specialty'] = df1['medical_specialty'].apply(lambda x: 'Grouped' if x not in ['Missing', 'InternalMedicine', 'Emergency/Trauma', 'Family/GeneralPractice', 'Cardiology', 'Surgery'] else x)"
   ]
  },
  {
   "cell_type": "code",
   "execution_count": 16,
   "metadata": {},
   "outputs": [],
   "source": [
    "df1['race'] = df1['race'].fillna('Missing_race')\n",
    "df1['diag_1'] = df1['diag_1'].replace(-1,'Missing_diag1')\n",
    "df1['diag_2'] = df1['diag_2'].replace(-1,'Missing_diag2')\n",
    "df1['diag_3'] = df1['diag_3'].replace(-1,'Missing_diag3')"
   ]
  },
  {
   "cell_type": "code",
   "execution_count": 17,
   "metadata": {},
   "outputs": [],
   "source": [
    "#We also reduced both A1C test result and Glucose serum test result into categories of Normal, None and Missing.\n",
    "    \n",
    "#df1.max_glu_serum = df1.max_glu_serum.apply(lambda x: -1 if x=='None' else 0 if x=='Norm' else 1)\n",
    "#df1.A1Cresult = df1.A1Cresult.apply(lambda x: -1 if x=='None' else 0 if x=='Norm' else 1)\n",
    "df1.max_glu_serum = df1.max_glu_serum.replace('None', 'Missing_max_glu_serum')\n",
    "df1.A1Cresult = df1.A1Cresult.replace('None','Missing_A1Cresult' )\n",
    "df1.max_glu_serum = df1.max_glu_serum.replace(['>300','>200'],'Not_Normal')\n",
    "df1.A1Cresult = df1.A1Cresult.replace(['>7','>8'],'Not_Normal')"
   ]
  },
  {
   "cell_type": "code",
   "execution_count": 18,
   "metadata": {
    "scrolled": true
   },
   "outputs": [
    {
     "name": "stdout",
     "output_type": "stream",
     "text": [
      "encounter_id  : \n",
      "100120\n",
      "[  2278392    149190     64410 ... 443854148 443857166 443867222]\n",
      "\n",
      "\n",
      "\n",
      "patient_nbr  : \n",
      "70442\n",
      "[  8222157  55629189  86047875 ... 140199494 120975314 175429310]\n",
      "\n",
      "\n",
      "\n",
      "race  : \n",
      "6\n",
      "['Caucasian' 'AfricanAmerican' 'Missing_race' 'Other' 'Asian' 'Hispanic']\n",
      "\n",
      "\n",
      "\n",
      "gender  : \n",
      "2\n",
      "['Female' 'Male']\n",
      "\n",
      "\n",
      "\n",
      "age  : \n",
      "10\n",
      "[ 5 15 25 35 45 55 65 75 85 95]\n",
      "\n",
      "\n",
      "\n",
      "admission_type_id  : \n",
      "4\n",
      "[5 1 3 4]\n",
      "\n",
      "\n",
      "\n",
      "discharge_disposition_id  : \n",
      "25\n",
      "[25  1  3  6  2  5  7 10  4 14 18  8 13 12 16 17 22 23  9 20 15 24 28 19\n",
      " 27]\n",
      "\n",
      "\n",
      "\n",
      "admission_source_id  : \n",
      "17\n",
      "[ 1  7  2  4  5 20  6  3 17  8  9 14 10 22 11 25 13]\n",
      "\n",
      "\n",
      "\n",
      "time_in_hospital  : \n",
      "14\n",
      "[ 1  3  2  4  5 13 12  9  7 10  6 11  8 14]\n",
      "\n",
      "\n",
      "\n",
      "medical_specialty  : \n",
      "7\n",
      "['Grouped' 'Missing' 'InternalMedicine' 'Family/GeneralPractice'\n",
      " 'Cardiology' 'Surgery' 'Emergency/Trauma']\n",
      "\n",
      "\n",
      "\n",
      "num_lab_procedures  : \n",
      "118\n",
      "[ 41  59  11  44  51  31  70  73  68  33  47  62  60  55  49  75  45  29\n",
      "  35  42  66  36  19  64  25  53  52  87  27  37  28  48  10   2  65  67\n",
      "  40  54  58  57  43  32  83  34  39  69  38  72  22  96  46  78  56  61\n",
      "  88  50   1  18  82   9  63  24  71  77  81  76  90  93   3 103  13  80\n",
      "  85  16  15  12  30  23  17  21  79  26   5  95  97  84  14  74 105  86\n",
      "  98  20   6  94   8 102   7  89  91  92   4 101  99 100 114 113 111 129\n",
      " 107 108 106 104 109 120 132 121 126 118]\n",
      "\n",
      "\n",
      "\n",
      "num_procedures  : \n",
      "7\n",
      "[0 5 1 6 2 3 4]\n",
      "\n",
      "\n",
      "\n",
      "num_medications  : \n",
      "75\n",
      "[ 1 18 13 16  8 21 12 28 17 11 15 31  2 23 19  7 20 14 10 22  9 25  4 32\n",
      "  6 26 24 33  5 27 39  3 30 29 61 40 46 41 36 34 35 50 43 42 37 51 38 45\n",
      " 54 52 49 62 55 47 44 53 48 57 59 56 60 63 58 70 67 64 69 65 68 66 81 79\n",
      " 75 72 74]\n",
      "\n",
      "\n",
      "\n",
      "diag_1  : \n",
      "10\n",
      "['Neoplasms' 'Other' 'Circulatory' 'Respiratory' 'Injury'\n",
      " 'Musculoskeletal' 'Digestive' 'Genitourinary' 'Missing_diag1' 'Diabetes']\n",
      "\n",
      "\n",
      "\n",
      "diag_2  : \n",
      "10\n",
      "['Missing_diag2' 'Neoplasms' 'Diabetes' 'Circulatory' 'Respiratory'\n",
      " 'Other' 'Injury' 'Musculoskeletal' 'Genitourinary' 'Digestive']\n",
      "\n",
      "\n",
      "\n",
      "diag_3  : \n",
      "10\n",
      "['Missing_diag3' 'Neoplasms' 'Other' 'Circulatory' 'Diabetes'\n",
      " 'Respiratory' 'Injury' 'Genitourinary' 'Musculoskeletal' 'Digestive']\n",
      "\n",
      "\n",
      "\n",
      "number_diagnoses  : \n",
      "16\n",
      "[ 1  9  6  7  5  8  3  4  2 16 12 13 15 10 11 14]\n",
      "\n",
      "\n",
      "\n",
      "max_glu_serum  : \n",
      "3\n",
      "['Missing_max_glu_serum' 'Not_Normal' 'Norm']\n",
      "\n",
      "\n",
      "\n",
      "A1Cresult  : \n",
      "3\n",
      "['Missing_A1Cresult' 'Not_Normal' 'Norm']\n",
      "\n",
      "\n",
      "\n",
      "metformin  : \n",
      "4\n",
      "[0 1 3 2]\n",
      "\n",
      "\n",
      "\n",
      "repaglinide  : \n",
      "4\n",
      "[0 3 1 2]\n",
      "\n",
      "\n",
      "\n",
      "nateglinide  : \n",
      "4\n",
      "[0 1 2 3]\n",
      "\n",
      "\n",
      "\n",
      "chlorpropamide  : \n",
      "4\n",
      "[0 1 2 3]\n",
      "\n",
      "\n",
      "\n",
      "glimepiride  : \n",
      "4\n",
      "[0 1 2 3]\n",
      "\n",
      "\n",
      "\n",
      "acetohexamide  : \n",
      "2\n",
      "[0 1]\n",
      "\n",
      "\n",
      "\n",
      "glipizide  : \n",
      "4\n",
      "[0 1 3 2]\n",
      "\n",
      "\n",
      "\n",
      "glyburide  : \n",
      "4\n",
      "[0 1 3 2]\n",
      "\n",
      "\n",
      "\n",
      "tolbutamide  : \n",
      "2\n",
      "[0 1]\n",
      "\n",
      "\n",
      "\n",
      "pioglitazone  : \n",
      "4\n",
      "[0 1 3 2]\n",
      "\n",
      "\n",
      "\n",
      "rosiglitazone  : \n",
      "4\n",
      "[0 1 3 2]\n",
      "\n",
      "\n",
      "\n",
      "acarbose  : \n",
      "4\n",
      "[0 1 3 2]\n",
      "\n",
      "\n",
      "\n",
      "miglitol  : \n",
      "4\n",
      "[0 1 2 3]\n",
      "\n",
      "\n",
      "\n",
      "troglitazone  : \n",
      "2\n",
      "[0 1]\n",
      "\n",
      "\n",
      "\n",
      "tolazamide  : \n",
      "3\n",
      "[0 1 3]\n",
      "\n",
      "\n",
      "\n",
      "insulin  : \n",
      "4\n",
      "[0 3 1 2]\n",
      "\n",
      "\n",
      "\n",
      "glyburide-metformin  : \n",
      "4\n",
      "[0 1 2 3]\n",
      "\n",
      "\n",
      "\n",
      "glipizide-metformin  : \n",
      "2\n",
      "[0 1]\n",
      "\n",
      "\n",
      "\n",
      "glimepiride-pioglitazone  : \n",
      "2\n",
      "[0 1]\n",
      "\n",
      "\n",
      "\n",
      "metformin-rosiglitazone  : \n",
      "2\n",
      "[0 1]\n",
      "\n",
      "\n",
      "\n",
      "metformin-pioglitazone  : \n",
      "2\n",
      "[0 1]\n",
      "\n",
      "\n",
      "\n",
      "change  : \n",
      "2\n",
      "[0 1]\n",
      "\n",
      "\n",
      "\n",
      "diabetesMed  : \n",
      "2\n",
      "[0 1]\n",
      "\n",
      "\n",
      "\n",
      "readmitted  : \n",
      "2\n",
      "[0 1]\n",
      "\n",
      "\n",
      "\n",
      "service_utilization  : \n",
      "47\n",
      "[ 0  3  1  2  6  7 10  5  4 14 15  8 12  9 13 11 18 17 25 27 23 30 16 31\n",
      " 19 20 21 22 35 49 34 38 28 26 24 32 42 40 36 33 29 37 48 80 68 61 41]\n",
      "\n",
      "\n",
      "\n"
     ]
    }
   ],
   "source": [
    "# Finding unique values in all the columns\n",
    "for i in df1.columns:\n",
    "    print(i , ' : ')\n",
    "    print(len(df1[i].unique()))\n",
    "    print(df1[i].unique())\n",
    "    print('\\n\\n')"
   ]
  },
  {
   "cell_type": "code",
   "execution_count": 19,
   "metadata": {},
   "outputs": [
    {
     "data": {
      "text/plain": [
       "(70442, 44)"
      ]
     },
     "execution_count": 19,
     "metadata": {},
     "output_type": "execute_result"
    }
   ],
   "source": [
    "df2 = df1.drop_duplicates(subset= ['patient_nbr'], keep = 'first')\n",
    "df2.shape"
   ]
  },
  {
   "cell_type": "markdown",
   "metadata": {},
   "source": [
    "### Seperating Dependent and Independent Variable/Features"
   ]
  },
  {
   "cell_type": "code",
   "execution_count": 20,
   "metadata": {},
   "outputs": [],
   "source": [
    "df2 = df2.drop(['encounter_id','patient_nbr'], axis = 1)"
   ]
  },
  {
   "cell_type": "code",
   "execution_count": 50,
   "metadata": {},
   "outputs": [],
   "source": [
    "df2_dummies = pd.get_dummies(df2, drop_first= True)"
   ]
  },
  {
   "cell_type": "code",
   "execution_count": 51,
   "metadata": {},
   "outputs": [],
   "source": [
    "X = df2_dummies.drop('readmitted', axis = 1)\n",
    "y = df2_dummies.readmitted"
   ]
  },
  {
   "cell_type": "code",
   "execution_count": 52,
   "metadata": {},
   "outputs": [
    {
     "name": "stdout",
     "output_type": "stream",
     "text": [
      "Original dataset shape Counter({0: 64146, 1: 6296})\n",
      "New dataset shape Counter({0: 64146, 1: 48109})\n"
     ]
    }
   ],
   "source": [
    "from imblearn.over_sampling import SMOTE\n",
    "from collections import Counter\n",
    "sm = SMOTE(random_state=42, ratio = 0.75)\n",
    "print('Original dataset shape {}'.format(Counter(y)))\n",
    "New_X, New_y = sm.fit_sample(X,y)\n",
    "New_df_X = pd.DataFrame(New_X,columns= X.columns)\n",
    "print('New dataset shape {}'.format(Counter(New_y)))"
   ]
  },
  {
   "cell_type": "code",
   "execution_count": 53,
   "metadata": {},
   "outputs": [],
   "source": [
    "X_train, X_test, y_train, y_test = train_test_split(New_df_X, New_y, test_size=0.30, random_state=42)"
   ]
  },
  {
   "cell_type": "markdown",
   "metadata": {},
   "source": [
    "Logistic Regression"
   ]
  },
  {
   "cell_type": "code",
   "execution_count": 54,
   "metadata": {},
   "outputs": [
    {
     "name": "stderr",
     "output_type": "stream",
     "text": [
      "C:\\Users\\Animesh\\Anaconda3\\lib\\site-packages\\sklearn\\linear_model\\logistic.py:432: FutureWarning: Default solver will be changed to 'lbfgs' in 0.22. Specify a solver to silence this warning.\n",
      "  FutureWarning)\n"
     ]
    },
    {
     "data": {
      "text/plain": [
       "LogisticRegression(C=1.0, class_weight=None, dual=False, fit_intercept=True,\n",
       "                   intercept_scaling=1, l1_ratio=None, max_iter=100,\n",
       "                   multi_class='warn', n_jobs=None, penalty='l1',\n",
       "                   random_state=None, solver='warn', tol=0.0001, verbose=0,\n",
       "                   warm_start=False)"
      ]
     },
     "execution_count": 54,
     "metadata": {},
     "output_type": "execute_result"
    }
   ],
   "source": [
    "from sklearn.model_selection import train_test_split\n",
    "from sklearn.linear_model import LogisticRegression\n",
    "from sklearn.model_selection import cross_val_score\n",
    "logit = LogisticRegression(fit_intercept=True, penalty='l1')\n",
    "logit.fit(New_df_X, New_y)"
   ]
  },
  {
   "cell_type": "code",
   "execution_count": 55,
   "metadata": {},
   "outputs": [
    {
     "data": {
      "text/html": [
       "<div>\n",
       "<style scoped>\n",
       "    .dataframe tbody tr th:only-of-type {\n",
       "        vertical-align: middle;\n",
       "    }\n",
       "\n",
       "    .dataframe tbody tr th {\n",
       "        vertical-align: top;\n",
       "    }\n",
       "\n",
       "    .dataframe thead th {\n",
       "        text-align: right;\n",
       "    }\n",
       "</style>\n",
       "<table border=\"1\" class=\"dataframe\">\n",
       "  <thead>\n",
       "    <tr style=\"text-align: right;\">\n",
       "      <th>Predict</th>\n",
       "      <th>0</th>\n",
       "      <th>1</th>\n",
       "      <th>All</th>\n",
       "    </tr>\n",
       "    <tr>\n",
       "      <th>Actual</th>\n",
       "      <th></th>\n",
       "      <th></th>\n",
       "      <th></th>\n",
       "    </tr>\n",
       "  </thead>\n",
       "  <tbody>\n",
       "    <tr>\n",
       "      <th>0</th>\n",
       "      <td>17610</td>\n",
       "      <td>1795</td>\n",
       "      <td>19405</td>\n",
       "    </tr>\n",
       "    <tr>\n",
       "      <th>1</th>\n",
       "      <td>2393</td>\n",
       "      <td>11879</td>\n",
       "      <td>14272</td>\n",
       "    </tr>\n",
       "    <tr>\n",
       "      <th>All</th>\n",
       "      <td>20003</td>\n",
       "      <td>13674</td>\n",
       "      <td>33677</td>\n",
       "    </tr>\n",
       "  </tbody>\n",
       "</table>\n",
       "</div>"
      ],
      "text/plain": [
       "Predict      0      1    All\n",
       "Actual                      \n",
       "0        17610   1795  19405\n",
       "1         2393  11879  14272\n",
       "All      20003  13674  33677"
      ]
     },
     "execution_count": 55,
     "metadata": {},
     "output_type": "execute_result"
    }
   ],
   "source": [
    "logit_pred = logit.predict(X_test)\n",
    "pd.crosstab(pd.Series(y_test, name = 'Actual'), pd.Series(logit_pred, name = 'Predict'), margins = True)"
   ]
  },
  {
   "cell_type": "code",
   "execution_count": 56,
   "metadata": {},
   "outputs": [
    {
     "name": "stdout",
     "output_type": "stream",
     "text": [
      "Accuracy is 0.88\n",
      "Precision is 0.87\n",
      "Recall is 0.83\n"
     ]
    }
   ],
   "source": [
    "from sklearn.metrics import accuracy_score, precision_score, recall_score\n",
    "print(\"Accuracy is {0:.2f}\".format(accuracy_score(y_test, logit_pred)))\n",
    "print(\"Precision is {0:.2f}\".format(precision_score(y_test, logit_pred)))\n",
    "print(\"Recall is {0:.2f}\".format(recall_score(y_test, logit_pred)))\n",
    "\n",
    "accuracy_logit = accuracy_score(y_test, logit_pred)\n",
    "precision_logit = precision_score(y_test, logit_pred)\n",
    "recall_logit = recall_score(y_test, logit_pred)"
   ]
  },
  {
   "cell_type": "markdown",
   "metadata": {},
   "source": [
    "Decision Tree"
   ]
  },
  {
   "cell_type": "code",
   "execution_count": 57,
   "metadata": {},
   "outputs": [
    {
     "data": {
      "text/plain": [
       "DecisionTreeClassifier(class_weight=None, criterion='entropy', max_depth=28,\n",
       "                       max_features=None, max_leaf_nodes=None,\n",
       "                       min_impurity_decrease=0.0, min_impurity_split=None,\n",
       "                       min_samples_leaf=1, min_samples_split=10,\n",
       "                       min_weight_fraction_leaf=0.0, presort=False,\n",
       "                       random_state=None, splitter='best')"
      ]
     },
     "execution_count": 57,
     "metadata": {},
     "output_type": "execute_result"
    }
   ],
   "source": [
    "from sklearn.tree import DecisionTreeClassifier\n",
    "dtree = DecisionTreeClassifier(max_depth=28, criterion = \"entropy\", min_samples_split=10)\n",
    "dtree.fit(New_df_X, New_y)"
   ]
  },
  {
   "cell_type": "code",
   "execution_count": 58,
   "metadata": {},
   "outputs": [
    {
     "data": {
      "text/html": [
       "<div>\n",
       "<style scoped>\n",
       "    .dataframe tbody tr th:only-of-type {\n",
       "        vertical-align: middle;\n",
       "    }\n",
       "\n",
       "    .dataframe tbody tr th {\n",
       "        vertical-align: top;\n",
       "    }\n",
       "\n",
       "    .dataframe thead th {\n",
       "        text-align: right;\n",
       "    }\n",
       "</style>\n",
       "<table border=\"1\" class=\"dataframe\">\n",
       "  <thead>\n",
       "    <tr style=\"text-align: right;\">\n",
       "      <th>Predict</th>\n",
       "      <th>0</th>\n",
       "      <th>1</th>\n",
       "      <th>All</th>\n",
       "    </tr>\n",
       "    <tr>\n",
       "      <th>Actual</th>\n",
       "      <th></th>\n",
       "      <th></th>\n",
       "      <th></th>\n",
       "    </tr>\n",
       "  </thead>\n",
       "  <tbody>\n",
       "    <tr>\n",
       "      <th>0</th>\n",
       "      <td>18366</td>\n",
       "      <td>1039</td>\n",
       "      <td>19405</td>\n",
       "    </tr>\n",
       "    <tr>\n",
       "      <th>1</th>\n",
       "      <td>836</td>\n",
       "      <td>13436</td>\n",
       "      <td>14272</td>\n",
       "    </tr>\n",
       "    <tr>\n",
       "      <th>All</th>\n",
       "      <td>19202</td>\n",
       "      <td>14475</td>\n",
       "      <td>33677</td>\n",
       "    </tr>\n",
       "  </tbody>\n",
       "</table>\n",
       "</div>"
      ],
      "text/plain": [
       "Predict      0      1    All\n",
       "Actual                      \n",
       "0        18366   1039  19405\n",
       "1          836  13436  14272\n",
       "All      19202  14475  33677"
      ]
     },
     "execution_count": 58,
     "metadata": {},
     "output_type": "execute_result"
    }
   ],
   "source": [
    "dtree_pred = dtree.predict(X_test)\n",
    "pd.crosstab(pd.Series(y_test, name = 'Actual'), pd.Series(dtree_pred, name = 'Predict'), margins = True)"
   ]
  },
  {
   "cell_type": "code",
   "execution_count": 59,
   "metadata": {},
   "outputs": [
    {
     "name": "stdout",
     "output_type": "stream",
     "text": [
      "Accuracy is 0.94\n",
      "Precision is 0.93\n",
      "Recall is 0.94\n"
     ]
    }
   ],
   "source": [
    "print(\"Accuracy is {0:.2f}\".format(accuracy_score(y_test, dtree_pred)))\n",
    "print(\"Precision is {0:.2f}\".format(precision_score(y_test, dtree_pred)))\n",
    "print(\"Recall is {0:.2f}\".format(recall_score(y_test, dtree_pred)))\n",
    "\n",
    "accuracy_dtree = accuracy_score(y_test, dtree_pred)\n",
    "precision_dtree = precision_score(y_test, dtree_pred)\n",
    "recall_dtree = recall_score(y_test, dtree_pred)"
   ]
  },
  {
   "cell_type": "code",
   "execution_count": 60,
   "metadata": {},
   "outputs": [
    {
     "name": "stdout",
     "output_type": "stream",
     "text": [
      "                     Feature  Importance\n",
      "0                        age    0.030611\n",
      "4           time_in_hospital    0.031446\n",
      "46          diag_1_Digestive    0.032480\n",
      "2   discharge_disposition_id    0.034849\n",
      "51          diag_1_Neoplasms    0.038364\n",
      "53        diag_1_Respiratory    0.039033\n",
      "38               gender_Male    0.042414\n",
      "6             num_procedures    0.045433\n",
      "7            num_medications    0.052066\n",
      "5         num_lab_procedures    0.070876\n"
     ]
    },
    {
     "data": {
      "image/png": "[encoded data removed]",
      "text/plain": [
       "<Figure size 720x432 with 1 Axes>"
      ]
     },
     "metadata": {
      "needs_background": "light"
     },
     "output_type": "display_data"
    }
   ],
   "source": [
    "# Create list of top most features based on importance\n",
    "feature_names = X_train.columns\n",
    "feature_imports = dtree.feature_importances_\n",
    "most_imp_features = pd.DataFrame([f for f in zip(feature_names,feature_imports)], columns=[\"Feature\", \"Importance\"]).nlargest(10, \"Importance\")\n",
    "most_imp_features.sort_values(by=\"Importance\", inplace=True)\n",
    "print(most_imp_features)\n",
    "plt.figure(figsize=(10,6))\n",
    "plt.barh(range(len(most_imp_features)), most_imp_features.Importance, align='center', alpha=0.8)\n",
    "plt.yticks(range(len(most_imp_features)), most_imp_features.Feature, fontsize=14)\n",
    "plt.xlabel('Importance')\n",
    "plt.title('Most important features - Decision Tree')\n",
    "plt.show()"
   ]
  },
  {
   "cell_type": "markdown",
   "metadata": {},
   "source": [
    "Random Forest"
   ]
  },
  {
   "cell_type": "code",
   "execution_count": 61,
   "metadata": {},
   "outputs": [
    {
     "data": {
      "text/plain": [
       "RandomForestClassifier(bootstrap=True, class_weight=None, criterion='gini',\n",
       "                       max_depth=25, max_features='auto', max_leaf_nodes=None,\n",
       "                       min_impurity_decrease=0.0, min_impurity_split=None,\n",
       "                       min_samples_leaf=1, min_samples_split=10,\n",
       "                       min_weight_fraction_leaf=0.0, n_estimators=10,\n",
       "                       n_jobs=None, oob_score=False, random_state=None,\n",
       "                       verbose=0, warm_start=False)"
      ]
     },
     "execution_count": 61,
     "metadata": {},
     "output_type": "execute_result"
    }
   ],
   "source": [
    "from sklearn.ensemble import RandomForestClassifier\n",
    "rm = RandomForestClassifier(n_estimators = 10, max_depth=25, criterion = \"gini\", min_samples_split=10)\n",
    "rm.fit(New_df_X, New_y)"
   ]
  },
  {
   "cell_type": "code",
   "execution_count": 62,
   "metadata": {},
   "outputs": [
    {
     "data": {
      "text/html": [
       "<div>\n",
       "<style scoped>\n",
       "    .dataframe tbody tr th:only-of-type {\n",
       "        vertical-align: middle;\n",
       "    }\n",
       "\n",
       "    .dataframe tbody tr th {\n",
       "        vertical-align: top;\n",
       "    }\n",
       "\n",
       "    .dataframe thead th {\n",
       "        text-align: right;\n",
       "    }\n",
       "</style>\n",
       "<table border=\"1\" class=\"dataframe\">\n",
       "  <thead>\n",
       "    <tr style=\"text-align: right;\">\n",
       "      <th>Predict</th>\n",
       "      <th>0</th>\n",
       "      <th>1</th>\n",
       "      <th>All</th>\n",
       "    </tr>\n",
       "    <tr>\n",
       "      <th>Actual</th>\n",
       "      <th></th>\n",
       "      <th></th>\n",
       "      <th></th>\n",
       "    </tr>\n",
       "  </thead>\n",
       "  <tbody>\n",
       "    <tr>\n",
       "      <th>0</th>\n",
       "      <td>18489</td>\n",
       "      <td>916</td>\n",
       "      <td>19405</td>\n",
       "    </tr>\n",
       "    <tr>\n",
       "      <th>1</th>\n",
       "      <td>1601</td>\n",
       "      <td>12671</td>\n",
       "      <td>14272</td>\n",
       "    </tr>\n",
       "    <tr>\n",
       "      <th>All</th>\n",
       "      <td>20090</td>\n",
       "      <td>13587</td>\n",
       "      <td>33677</td>\n",
       "    </tr>\n",
       "  </tbody>\n",
       "</table>\n",
       "</div>"
      ],
      "text/plain": [
       "Predict      0      1    All\n",
       "Actual                      \n",
       "0        18489    916  19405\n",
       "1         1601  12671  14272\n",
       "All      20090  13587  33677"
      ]
     },
     "execution_count": 62,
     "metadata": {},
     "output_type": "execute_result"
    }
   ],
   "source": [
    "rm_prd = rm.predict(X_test)\n",
    "pd.crosstab(pd.Series(y_test, name = 'Actual'), pd.Series(rm_prd, name = 'Predict'), margins = True)"
   ]
  },
  {
   "cell_type": "code",
   "execution_count": 63,
   "metadata": {},
   "outputs": [
    {
     "name": "stdout",
     "output_type": "stream",
     "text": [
      "Accuracy is 0.93\n",
      "Precision is 0.93\n",
      "Recall is 0.89\n"
     ]
    }
   ],
   "source": [
    "print(\"Accuracy is {0:.2f}\".format(accuracy_score(y_test, rm_prd)))\n",
    "print(\"Precision is {0:.2f}\".format(precision_score(y_test, rm_prd)))\n",
    "print(\"Recall is {0:.2f}\".format(recall_score(y_test, rm_prd)))\n",
    "\n",
    "accuracy_rm = accuracy_score(y_test, rm_prd)\n",
    "precision_rm = precision_score(y_test, rm_prd)\n",
    "recall_rm = recall_score(y_test, rm_prd)"
   ]
  },
  {
   "cell_type": "code",
   "execution_count": 64,
   "metadata": {},
   "outputs": [
    {
     "data": {
      "image/png": "[encoded data removed]",
      "text/plain": [
       "<Figure size 720x432 with 1 Axes>"
      ]
     },
     "metadata": {
      "needs_background": "light"
     },
     "output_type": "display_data"
    }
   ],
   "source": [
    "# Create list of top most features based on importance\n",
    "feature_names = X_train.columns\n",
    "feature_imports = rm.feature_importances_\n",
    "most_imp_features = pd.DataFrame([f for f in zip(feature_names,feature_imports)], columns=[\"Feature\", \"Importance\"]).nlargest(10, \"Importance\")\n",
    "most_imp_features.sort_values(by=\"Importance\", inplace=True)\n",
    "plt.figure(figsize=(10,6))\n",
    "plt.barh(range(len(most_imp_features)), most_imp_features.Importance, align='center', alpha=0.8)\n",
    "plt.yticks(range(len(most_imp_features)), most_imp_features.Feature, fontsize=14)\n",
    "plt.xlabel('Importance')\n",
    "plt.title('Most important features - Random Forest ')\n",
    "plt.show()"
   ]
  },
  {
   "cell_type": "markdown",
   "metadata": {},
   "source": [
    "Ada Boost Classifier"
   ]
  },
  {
   "cell_type": "code",
   "execution_count": 65,
   "metadata": {},
   "outputs": [
    {
     "data": {
      "text/plain": [
       "AdaBoostClassifier(algorithm='SAMME.R', base_estimator=None, learning_rate=1.0,\n",
       "                   n_estimators=50, random_state=None)"
      ]
     },
     "execution_count": 65,
     "metadata": {},
     "output_type": "execute_result"
    }
   ],
   "source": [
    "from sklearn.ensemble import AdaBoostClassifier\n",
    "ad = AdaBoostClassifier()\n",
    "ad.fit(New_df_X, New_y)"
   ]
  },
  {
   "cell_type": "code",
   "execution_count": 66,
   "metadata": {},
   "outputs": [
    {
     "data": {
      "text/html": [
       "<div>\n",
       "<style scoped>\n",
       "    .dataframe tbody tr th:only-of-type {\n",
       "        vertical-align: middle;\n",
       "    }\n",
       "\n",
       "    .dataframe tbody tr th {\n",
       "        vertical-align: top;\n",
       "    }\n",
       "\n",
       "    .dataframe thead th {\n",
       "        text-align: right;\n",
       "    }\n",
       "</style>\n",
       "<table border=\"1\" class=\"dataframe\">\n",
       "  <thead>\n",
       "    <tr style=\"text-align: right;\">\n",
       "      <th>Predict</th>\n",
       "      <th>0</th>\n",
       "      <th>1</th>\n",
       "      <th>All</th>\n",
       "    </tr>\n",
       "    <tr>\n",
       "      <th>Actual</th>\n",
       "      <th></th>\n",
       "      <th></th>\n",
       "      <th></th>\n",
       "    </tr>\n",
       "  </thead>\n",
       "  <tbody>\n",
       "    <tr>\n",
       "      <th>0</th>\n",
       "      <td>17131</td>\n",
       "      <td>2274</td>\n",
       "      <td>19405</td>\n",
       "    </tr>\n",
       "    <tr>\n",
       "      <th>1</th>\n",
       "      <td>2262</td>\n",
       "      <td>12010</td>\n",
       "      <td>14272</td>\n",
       "    </tr>\n",
       "    <tr>\n",
       "      <th>All</th>\n",
       "      <td>19393</td>\n",
       "      <td>14284</td>\n",
       "      <td>33677</td>\n",
       "    </tr>\n",
       "  </tbody>\n",
       "</table>\n",
       "</div>"
      ],
      "text/plain": [
       "Predict      0      1    All\n",
       "Actual                      \n",
       "0        17131   2274  19405\n",
       "1         2262  12010  14272\n",
       "All      19393  14284  33677"
      ]
     },
     "execution_count": 66,
     "metadata": {},
     "output_type": "execute_result"
    }
   ],
   "source": [
    "ad_prd = ad.predict(X_test)\n",
    "pd.crosstab(pd.Series(y_test, name = 'Actual'), pd.Series(ad_prd, name = 'Predict'), margins = True)"
   ]
  },
  {
   "cell_type": "code",
   "execution_count": 68,
   "metadata": {},
   "outputs": [
    {
     "name": "stdout",
     "output_type": "stream",
     "text": [
      "Accuracy is 0.87\n",
      "Precision is 0.84\n",
      "Recall is 0.84\n"
     ]
    }
   ],
   "source": [
    "print(\"Accuracy is {0:.2f}\".format(accuracy_score(y_test, ad_prd)))\n",
    "print(\"Precision is {0:.2f}\".format(precision_score(y_test, ad_prd)))\n",
    "print(\"Recall is {0:.2f}\".format(recall_score(y_test, ad_prd)))\n",
    "\n",
    "accuracy_ad = accuracy_score(y_test, ad_prd)\n",
    "precision_ad = precision_score(y_test, ad_prd)\n",
    "recall_ad = recall_score(y_test, ad_prd)"
   ]
  },
  {
   "cell_type": "code",
   "execution_count": 69,
   "metadata": {},
   "outputs": [
    {
     "data": {
      "image/png": "[encoded data removed]",
      "text/plain": [
       "<Figure size 720x432 with 1 Axes>"
      ]
     },
     "metadata": {
      "needs_background": "light"
     },
     "output_type": "display_data"
    }
   ],
   "source": [
    "# Create list of top most features based on importance\n",
    "feature_names = X_train.columns\n",
    "feature_imports = ad.feature_importances_\n",
    "most_imp_features = pd.DataFrame([f for f in zip(feature_names,feature_imports)], columns=[\"Feature\", \"Importance\"]).nlargest(10, \"Importance\")\n",
    "most_imp_features.sort_values(by=\"Importance\", inplace=True)\n",
    "plt.figure(figsize=(10,6))\n",
    "plt.barh(range(len(most_imp_features)), most_imp_features.Importance, align='center', alpha=0.8)\n",
    "plt.yticks(range(len(most_imp_features)), most_imp_features.Feature, fontsize=14)\n",
    "plt.xlabel('Importance')\n",
    "plt.title('Most important features - Random Forest ')\n",
    "plt.show()"
   ]
  },
  {
   "cell_type": "markdown",
   "metadata": {},
   "source": [
    "Gradient Boosting Classifier"
   ]
  },
  {
   "cell_type": "code",
   "execution_count": 70,
   "metadata": {},
   "outputs": [
    {
     "data": {
      "text/plain": [
       "GradientBoostingClassifier(criterion='friedman_mse', init=None,\n",
       "                           learning_rate=0.1, loss='deviance', max_depth=3,\n",
       "                           max_features=None, max_leaf_nodes=None,\n",
       "                           min_impurity_decrease=0.0, min_impurity_split=None,\n",
       "                           min_samples_leaf=1, min_samples_split=2,\n",
       "                           min_weight_fraction_leaf=0.0, n_estimators=100,\n",
       "                           n_iter_no_change=None, presort='auto',\n",
       "                           random_state=None, subsample=1.0, tol=0.0001,\n",
       "                           validation_fraction=0.1, verbose=0,\n",
       "                           warm_start=False)"
      ]
     },
     "execution_count": 70,
     "metadata": {},
     "output_type": "execute_result"
    }
   ],
   "source": [
    "from sklearn.ensemble import GradientBoostingClassifier\n",
    "gd = GradientBoostingClassifier()\n",
    "gd.fit(New_df_X, New_y)"
   ]
  },
  {
   "cell_type": "code",
   "execution_count": 72,
   "metadata": {},
   "outputs": [
    {
     "data": {
      "text/html": [
       "<div>\n",
       "<style scoped>\n",
       "    .dataframe tbody tr th:only-of-type {\n",
       "        vertical-align: middle;\n",
       "    }\n",
       "\n",
       "    .dataframe tbody tr th {\n",
       "        vertical-align: top;\n",
       "    }\n",
       "\n",
       "    .dataframe thead th {\n",
       "        text-align: right;\n",
       "    }\n",
       "</style>\n",
       "<table border=\"1\" class=\"dataframe\">\n",
       "  <thead>\n",
       "    <tr style=\"text-align: right;\">\n",
       "      <th>Predict</th>\n",
       "      <th>0</th>\n",
       "      <th>1</th>\n",
       "      <th>All</th>\n",
       "    </tr>\n",
       "    <tr>\n",
       "      <th>Actual</th>\n",
       "      <th></th>\n",
       "      <th></th>\n",
       "      <th></th>\n",
       "    </tr>\n",
       "  </thead>\n",
       "  <tbody>\n",
       "    <tr>\n",
       "      <th>0</th>\n",
       "      <td>18032</td>\n",
       "      <td>1373</td>\n",
       "      <td>19405</td>\n",
       "    </tr>\n",
       "    <tr>\n",
       "      <th>1</th>\n",
       "      <td>2712</td>\n",
       "      <td>11560</td>\n",
       "      <td>14272</td>\n",
       "    </tr>\n",
       "    <tr>\n",
       "      <th>All</th>\n",
       "      <td>20744</td>\n",
       "      <td>12933</td>\n",
       "      <td>33677</td>\n",
       "    </tr>\n",
       "  </tbody>\n",
       "</table>\n",
       "</div>"
      ],
      "text/plain": [
       "Predict      0      1    All\n",
       "Actual                      \n",
       "0        18032   1373  19405\n",
       "1         2712  11560  14272\n",
       "All      20744  12933  33677"
      ]
     },
     "execution_count": 72,
     "metadata": {},
     "output_type": "execute_result"
    }
   ],
   "source": [
    "gd_prd = gd.predict(X_test)\n",
    "pd.crosstab(pd.Series(y_test, name = 'Actual'), pd.Series(gd_prd, name = 'Predict'), margins = True)"
   ]
  },
  {
   "cell_type": "code",
   "execution_count": 75,
   "metadata": {},
   "outputs": [
    {
     "name": "stdout",
     "output_type": "stream",
     "text": [
      "Accuracy is 0.88\n",
      "Precision is 0.89\n",
      "Recall is 0.81\n"
     ]
    }
   ],
   "source": [
    "print(\"Accuracy is {0:.2f}\".format(accuracy_score(y_test, gd_prd)))\n",
    "print(\"Precision is {0:.2f}\".format(precision_score(y_test, gd_prd)))\n",
    "print(\"Recall is {0:.2f}\".format(recall_score(y_test, gd_prd)))\n",
    "\n",
    "accuracy_gd = accuracy_score(y_test, gd_prd)\n",
    "precision_gd = precision_score(y_test, gd_prd)\n",
    "recall_gd = recall_score(y_test, gd_prd)"
   ]
  },
  {
   "cell_type": "code",
   "execution_count": 76,
   "metadata": {},
   "outputs": [
    {
     "data": {
      "image/png": "[encoded data removed]",
      "text/plain": [
       "<Figure size 720x432 with 1 Axes>"
      ]
     },
     "metadata": {
      "needs_background": "light"
     },
     "output_type": "display_data"
    }
   ],
   "source": [
    "# Create list of top most features based on importance\n",
    "feature_names = X_train.columns\n",
    "feature_imports = gd.feature_importances_\n",
    "most_imp_features = pd.DataFrame([f for f in zip(feature_names,feature_imports)], columns=[\"Feature\", \"Importance\"]).nlargest(10, \"Importance\")\n",
    "most_imp_features.sort_values(by=\"Importance\", inplace=True)\n",
    "plt.figure(figsize=(10,6))\n",
    "plt.barh(range(len(most_imp_features)), most_imp_features.Importance, align='center', alpha=0.8)\n",
    "plt.yticks(range(len(most_imp_features)), most_imp_features.Feature, fontsize=14)\n",
    "plt.xlabel('Importance')\n",
    "plt.title('Most important features - Random Forest ')\n",
    "plt.show()"
   ]
  },
  {
   "cell_type": "markdown",
   "metadata": {},
   "source": [
    "Model Comparision"
   ]
  },
  {
   "cell_type": "code",
   "execution_count": 77,
   "metadata": {},
   "outputs": [
    {
     "name": "stderr",
     "output_type": "stream",
     "text": [
      "C:\\Users\\Animesh\\Anaconda3\\lib\\site-packages\\ipykernel_launcher.py:13: MatplotlibDeprecationWarning: Adding an axes using the same arguments as a previous axes currently reuses the earlier instance.  In a future version, a new instance will always be created and returned.  Meanwhile, this warning can be suppressed, and the future behavior ensured, by passing a unique label to each axes instance.\n",
      "  del sys.path[0]\n",
      "C:\\Users\\Animesh\\Anaconda3\\lib\\site-packages\\ipykernel_launcher.py:24: MatplotlibDeprecationWarning: Adding an axes using the same arguments as a previous axes currently reuses the earlier instance.  In a future version, a new instance will always be created and returned.  Meanwhile, this warning can be suppressed, and the future behavior ensured, by passing a unique label to each axes instance.\n"
     ]
    },
    {
     "data": {
      "image/png": "[encoded data removed]",
      "text/plain": [
       "<Figure size 1008x504 with 1 Axes>"
      ]
     },
     "metadata": {
      "needs_background": "light"
     },
     "output_type": "display_data"
    }
   ],
   "source": [
    "plt.figure(figsize=(14, 7))\n",
    "ax = plt.subplot(111)\n",
    "\n",
    "models = ['Logistic Regression', 'Decision Tree', 'Random Forests','AdaBoost', 'Gradient Boost']\n",
    "values = [accuracy_logit, accuracy_dtree, accuracy_rm,accuracy_ad, accuracy_gd]\n",
    "model = np.arange(len(models))\n",
    "\n",
    "plt.bar(model, values, align='center', width = 0.15, alpha=0.7, color = 'red', label= 'accuracy')\n",
    "plt.xticks(model, models)\n",
    "           \n",
    "\n",
    "           \n",
    "ax = plt.subplot(111)\n",
    "\n",
    "models = ['Logistic Regression', 'Decision Tree', 'Random Forests','AdaBoost', 'Gradient Boost']\n",
    "values = [precision_logit, precision_dtree, precision_rm,precision_ad,precision_gd]\n",
    "model = np.arange(len(models))\n",
    "\n",
    "plt.bar(model+0.15, values, align='center', width = 0.15, alpha=0.7, color = 'blue', label = 'precision')\n",
    "plt.xticks(model, models)\n",
    "\n",
    "\n",
    "\n",
    "ax = plt.subplot(111)\n",
    "\n",
    "models = ['Logistic Regression', 'Decision Tree', 'Random Forests' ,'AdaBoost', 'Gradient Boost']\n",
    "values = [recall_logit, recall_dtree, recall_rm,recall_ad,recall_gd ]\n",
    "model = np.arange(len(models))\n",
    "\n",
    "plt.bar(model+0.3, values, align='center', width = 0.15, alpha=0.7, color = 'green', label = 'recall')\n",
    "plt.xticks(model, models)\n",
    "\n",
    "\n",
    "\n",
    "plt.ylabel('Performance Metrics for Different models')\n",
    "plt.title('Model')\n",
    "    \n",
    "# removing the axis on the top and right of the plot window\n",
    "ax.spines['right'].set_visible(False)\n",
    "ax.spines['top'].set_visible(False)\n",
    "ax.legend()\n",
    "\n",
    "plt.show()          "
   ]
  },
  {
   "cell_type": "code",
   "execution_count": 78,
   "metadata": {},
   "outputs": [
    {
     "data": {
      "text/html": [
       "<div>\n",
       "<style scoped>\n",
       "    .dataframe tbody tr th:only-of-type {\n",
       "        vertical-align: middle;\n",
       "    }\n",
       "\n",
       "    .dataframe tbody tr th {\n",
       "        vertical-align: top;\n",
       "    }\n",
       "\n",
       "    .dataframe thead th {\n",
       "        text-align: right;\n",
       "    }\n",
       "</style>\n",
       "<table border=\"1\" class=\"dataframe\">\n",
       "  <thead>\n",
       "    <tr style=\"text-align: right;\">\n",
       "      <th></th>\n",
       "      <th>Accuracy</th>\n",
       "      <th>Precision</th>\n",
       "      <th>Recall</th>\n",
       "    </tr>\n",
       "  </thead>\n",
       "  <tbody>\n",
       "    <tr>\n",
       "      <th>Logistic Regression</th>\n",
       "      <td>0.875642</td>\n",
       "      <td>0.868729</td>\n",
       "      <td>0.832329</td>\n",
       "    </tr>\n",
       "    <tr>\n",
       "      <th>Decision Tree</th>\n",
       "      <td>0.944324</td>\n",
       "      <td>0.928221</td>\n",
       "      <td>0.941424</td>\n",
       "    </tr>\n",
       "    <tr>\n",
       "      <th>Random Forests</th>\n",
       "      <td>0.865309</td>\n",
       "      <td>0.840801</td>\n",
       "      <td>0.841508</td>\n",
       "    </tr>\n",
       "    <tr>\n",
       "      <th>AdaBoost</th>\n",
       "      <td>0.878701</td>\n",
       "      <td>0.893837</td>\n",
       "      <td>0.809978</td>\n",
       "    </tr>\n",
       "    <tr>\n",
       "      <th>Gradient Boost</th>\n",
       "      <td>0.878701</td>\n",
       "      <td>0.893837</td>\n",
       "      <td>0.809978</td>\n",
       "    </tr>\n",
       "  </tbody>\n",
       "</table>\n",
       "</div>"
      ],
      "text/plain": [
       "                     Accuracy  Precision    Recall\n",
       "Logistic Regression  0.875642   0.868729  0.832329\n",
       "Decision Tree        0.944324   0.928221  0.941424\n",
       "Random Forests       0.865309   0.840801  0.841508\n",
       "AdaBoost             0.878701   0.893837  0.809978\n",
       "Gradient Boost       0.878701   0.893837  0.809978"
      ]
     },
     "execution_count": 78,
     "metadata": {},
     "output_type": "execute_result"
    }
   ],
   "source": [
    "Models_Accuracy = pd.DataFrame([accuracy_logit, accuracy_dtree, accuracy_rm,accuracy_ad, accuracy_gd], index = models, columns = ['Accuracy'])\n",
    "Models_Precision = pd.DataFrame([precision_logit, precision_dtree, precision_rm,precision_ad,precision_gd], index = models, columns = ['Precision'])\n",
    "Models_Recall = pd.DataFrame([recall_logit, recall_dtree, recall_rm,recall_ad,recall_gd ], index = models, columns = ['Recall'])\n",
    "Model_Comparision = pd.concat([Models_Accuracy,Models_Precision,Models_Recall] , axis = 1)\n",
    "Model_Comparision"
   ]
  },
  {
   "cell_type": "markdown",
   "metadata": {},
   "source": [
    "### Models after GridSearch CV"
   ]
  },
  {
   "cell_type": "code",
   "execution_count": 44,
   "metadata": {},
   "outputs": [],
   "source": [
    "import pandas as pd\n",
    "import numpy as np\n",
    "\n",
    "from sklearn.model_selection import GridSearchCV\n",
    "\n",
    "class EstimatorSelectionHelper:\n",
    "\n",
    "    def __init__(self, models, params):\n",
    "        if not set(models.keys()).issubset(set(params.keys())):\n",
    "            missing_params = list(set(models.keys()) - set(params.keys()))\n",
    "            raise ValueError(\"Some estimators are missing parameters: %s\" % missing_params)\n",
    "        self.models = models\n",
    "        self.params = params\n",
    "        self.keys = models.keys()\n",
    "        self.grid_searches = {}\n",
    "\n",
    "    def fit(self, X, y, cv=3, n_jobs=3, verbose=1, scoring=None, refit=False):\n",
    "        for key in self.keys:\n",
    "            print(\"Running GridSearchCV for %s.\" % key)\n",
    "            model = self.models[key]\n",
    "            params = self.params[key]\n",
    "            gs = GridSearchCV(model, params, cv=cv, n_jobs=n_jobs,\n",
    "                              verbose=verbose, scoring=scoring, refit=refit,\n",
    "                              return_train_score=True)\n",
    "            gs.fit(X,y)\n",
    "            self.grid_searches[key] = gs    \n",
    "\n",
    "    def score_summary(self, sort_by='mean_score'):\n",
    "        def row(key, scores, params):\n",
    "            d = {\n",
    "                 'estimator': key,\n",
    "                 'min_score': min(scores),\n",
    "                 'max_score': max(scores),\n",
    "                 'mean_score': np.mean(scores),\n",
    "                 'std_score': np.std(scores),\n",
    "            }\n",
    "            return pd.Series({**params,**d})\n",
    "\n",
    "        rows = []\n",
    "        for k in self.grid_searches:\n",
    "            print(k)\n",
    "            params = self.grid_searches[k].cv_results_['params']\n",
    "            scores = []\n",
    "            for i in range(self.grid_searches[k].cv):\n",
    "                key = \"split{}_test_score\".format(i)\n",
    "                r = self.grid_searches[k].cv_results_[key]        \n",
    "                scores.append(r.reshape(len(params),1))\n",
    "\n",
    "            all_scores = np.hstack(scores)\n",
    "            for p, s in zip(params,all_scores):\n",
    "                rows.append((row(k, s, p)))\n",
    "\n",
    "        df = pd.concat(rows, axis=1).T.sort_values([sort_by], ascending=False)\n",
    "\n",
    "        columns = ['estimator', 'min_score', 'mean_score', 'max_score', 'std_score']\n",
    "        columns = columns + [c for c in df.columns if c not in columns]\n",
    "\n",
    "        return df[columns]"
   ]
  },
  {
   "cell_type": "code",
   "execution_count": 79,
   "metadata": {},
   "outputs": [],
   "source": [
    "from sklearn.ensemble import ExtraTreesClassifier\n",
    "from sklearn.ensemble import RandomForestClassifier\n",
    "from sklearn.ensemble import AdaBoostClassifier\n",
    "from sklearn.ensemble import GradientBoostingClassifier\n",
    "\n",
    "models1 = {\n",
    "    'RandomForestClassifier': RandomForestClassifier(),\n",
    "    'AdaBoostClassifier': AdaBoostClassifier(),\n",
    "    'GradientBoostingClassifier': GradientBoostingClassifier(),\n",
    "    \n",
    "}\n",
    "\n",
    "params1 = {\n",
    "    'RandomForestClassifier': { 'n_estimators': [16, 32] , 'max_depth': [15,30] ,  },\n",
    "    'AdaBoostClassifier':  { 'n_estimators': [16, 32] },\n",
    "    'GradientBoostingClassifier': { 'n_estimators': [16, 32], 'learning_rate': [0.8, 1.0] },\n",
    "}"
   ]
  },
  {
   "cell_type": "code",
   "execution_count": null,
   "metadata": {},
   "outputs": [],
   "source": []
  },
  {
   "cell_type": "code",
   "execution_count": 46,
   "metadata": {},
   "outputs": [
    {
     "name": "stdout",
     "output_type": "stream",
     "text": [
      "Running GridSearchCV for ExtraTreesClassifier.\n",
      "Fitting 3 folds for each of 2 candidates, totalling 6 fits\n"
     ]
    },
    {
     "name": "stderr",
     "output_type": "stream",
     "text": [
      "[Parallel(n_jobs=2)]: Using backend LokyBackend with 2 concurrent workers.\n",
      "[Parallel(n_jobs=2)]: Done   6 out of   6 | elapsed:   21.9s finished\n",
      "[Parallel(n_jobs=2)]: Using backend LokyBackend with 2 concurrent workers.\n"
     ]
    },
    {
     "name": "stdout",
     "output_type": "stream",
     "text": [
      "Running GridSearchCV for RandomForestClassifier.\n",
      "Fitting 3 folds for each of 4 candidates, totalling 12 fits\n"
     ]
    },
    {
     "name": "stderr",
     "output_type": "stream",
     "text": [
      "[Parallel(n_jobs=2)]: Done  12 out of  12 | elapsed:   21.7s finished\n",
      "[Parallel(n_jobs=2)]: Using backend LokyBackend with 2 concurrent workers.\n"
     ]
    },
    {
     "name": "stdout",
     "output_type": "stream",
     "text": [
      "Running GridSearchCV for AdaBoostClassifier.\n",
      "Fitting 3 folds for each of 2 candidates, totalling 6 fits\n"
     ]
    },
    {
     "name": "stderr",
     "output_type": "stream",
     "text": [
      "[Parallel(n_jobs=2)]: Done   6 out of   6 | elapsed:   21.6s finished\n",
      "[Parallel(n_jobs=2)]: Using backend LokyBackend with 2 concurrent workers.\n"
     ]
    },
    {
     "name": "stdout",
     "output_type": "stream",
     "text": [
      "Running GridSearchCV for GradientBoostingClassifier.\n",
      "Fitting 3 folds for each of 4 candidates, totalling 12 fits\n"
     ]
    },
    {
     "name": "stderr",
     "output_type": "stream",
     "text": [
      "[Parallel(n_jobs=2)]: Done  12 out of  12 | elapsed:  1.3min finished\n"
     ]
    }
   ],
   "source": [
    "helper1 = EstimatorSelectionHelper(models1, params1)\n",
    "helper1.fit(New_df_X, New_y, scoring='roc_', n_jobs=2)"
   ]
  },
  {
   "cell_type": "code",
   "execution_count": 47,
   "metadata": {},
   "outputs": [
    {
     "name": "stdout",
     "output_type": "stream",
     "text": [
      "ExtraTreesClassifier\n",
      "RandomForestClassifier\n",
      "AdaBoostClassifier\n",
      "GradientBoostingClassifier\n"
     ]
    },
    {
     "name": "stderr",
     "output_type": "stream",
     "text": [
      "C:\\Users\\Animesh\\Anaconda3\\lib\\site-packages\\ipykernel_launcher.py:53: FutureWarning: Sorting because non-concatenation axis is not aligned. A future version\n",
      "of pandas will change to not sort by default.\n",
      "\n",
      "To accept the future behavior, pass 'sort=False'.\n",
      "\n",
      "To retain the current behavior and silence the warning, pass 'sort=True'.\n",
      "\n"
     ]
    },
    {
     "data": {
      "text/html": [
       "<div>\n",
       "<style scoped>\n",
       "    .dataframe tbody tr th:only-of-type {\n",
       "        vertical-align: middle;\n",
       "    }\n",
       "\n",
       "    .dataframe tbody tr th {\n",
       "        vertical-align: top;\n",
       "    }\n",
       "\n",
       "    .dataframe thead th {\n",
       "        text-align: right;\n",
       "    }\n",
       "</style>\n",
       "<table border=\"1\" class=\"dataframe\">\n",
       "  <thead>\n",
       "    <tr style=\"text-align: right;\">\n",
       "      <th></th>\n",
       "      <th>estimator</th>\n",
       "      <th>min_score</th>\n",
       "      <th>mean_score</th>\n",
       "      <th>max_score</th>\n",
       "      <th>std_score</th>\n",
       "      <th>learning_rate</th>\n",
       "      <th>max_depth</th>\n",
       "      <th>n_estimators</th>\n",
       "    </tr>\n",
       "  </thead>\n",
       "  <tbody>\n",
       "    <tr>\n",
       "      <th>1</th>\n",
       "      <td>ExtraTreesClassifier</td>\n",
       "      <td>0.999132</td>\n",
       "      <td>0.999188</td>\n",
       "      <td>0.999266</td>\n",
       "      <td>5.66896e-05</td>\n",
       "      <td>NaN</td>\n",
       "      <td>NaN</td>\n",
       "      <td>32</td>\n",
       "    </tr>\n",
       "    <tr>\n",
       "      <th>0</th>\n",
       "      <td>ExtraTreesClassifier</td>\n",
       "      <td>0.998799</td>\n",
       "      <td>0.998821</td>\n",
       "      <td>0.998865</td>\n",
       "      <td>3.13345e-05</td>\n",
       "      <td>NaN</td>\n",
       "      <td>NaN</td>\n",
       "      <td>16</td>\n",
       "    </tr>\n",
       "    <tr>\n",
       "      <th>5</th>\n",
       "      <td>RandomForestClassifier</td>\n",
       "      <td>0.995078</td>\n",
       "      <td>0.995675</td>\n",
       "      <td>0.996073</td>\n",
       "      <td>0.000429671</td>\n",
       "      <td>NaN</td>\n",
       "      <td>30</td>\n",
       "      <td>32</td>\n",
       "    </tr>\n",
       "    <tr>\n",
       "      <th>4</th>\n",
       "      <td>RandomForestClassifier</td>\n",
       "      <td>0.989062</td>\n",
       "      <td>0.990161</td>\n",
       "      <td>0.991058</td>\n",
       "      <td>0.000827589</td>\n",
       "      <td>NaN</td>\n",
       "      <td>30</td>\n",
       "      <td>16</td>\n",
       "    </tr>\n",
       "    <tr>\n",
       "      <th>3</th>\n",
       "      <td>RandomForestClassifier</td>\n",
       "      <td>0.863575</td>\n",
       "      <td>0.871624</td>\n",
       "      <td>0.877387</td>\n",
       "      <td>0.00586606</td>\n",
       "      <td>NaN</td>\n",
       "      <td>15</td>\n",
       "      <td>32</td>\n",
       "    </tr>\n",
       "    <tr>\n",
       "      <th>2</th>\n",
       "      <td>RandomForestClassifier</td>\n",
       "      <td>0.840147</td>\n",
       "      <td>0.857024</td>\n",
       "      <td>0.867705</td>\n",
       "      <td>0.0120732</td>\n",
       "      <td>NaN</td>\n",
       "      <td>15</td>\n",
       "      <td>16</td>\n",
       "    </tr>\n",
       "    <tr>\n",
       "      <th>11</th>\n",
       "      <td>GradientBoostingClassifier</td>\n",
       "      <td>0.631685</td>\n",
       "      <td>0.63485</td>\n",
       "      <td>0.636943</td>\n",
       "      <td>0.00227681</td>\n",
       "      <td>1</td>\n",
       "      <td>NaN</td>\n",
       "      <td>32</td>\n",
       "    </tr>\n",
       "    <tr>\n",
       "      <th>9</th>\n",
       "      <td>GradientBoostingClassifier</td>\n",
       "      <td>0.61971</td>\n",
       "      <td>0.629846</td>\n",
       "      <td>0.635898</td>\n",
       "      <td>0.00721226</td>\n",
       "      <td>0.8</td>\n",
       "      <td>NaN</td>\n",
       "      <td>32</td>\n",
       "    </tr>\n",
       "    <tr>\n",
       "      <th>8</th>\n",
       "      <td>GradientBoostingClassifier</td>\n",
       "      <td>0.602303</td>\n",
       "      <td>0.613904</td>\n",
       "      <td>0.626968</td>\n",
       "      <td>0.0101226</td>\n",
       "      <td>0.8</td>\n",
       "      <td>NaN</td>\n",
       "      <td>16</td>\n",
       "    </tr>\n",
       "    <tr>\n",
       "      <th>10</th>\n",
       "      <td>GradientBoostingClassifier</td>\n",
       "      <td>0.606482</td>\n",
       "      <td>0.613792</td>\n",
       "      <td>0.617514</td>\n",
       "      <td>0.00516972</td>\n",
       "      <td>1</td>\n",
       "      <td>NaN</td>\n",
       "      <td>16</td>\n",
       "    </tr>\n",
       "    <tr>\n",
       "      <th>7</th>\n",
       "      <td>AdaBoostClassifier</td>\n",
       "      <td>0.579402</td>\n",
       "      <td>0.58597</td>\n",
       "      <td>0.59092</td>\n",
       "      <td>0.00483948</td>\n",
       "      <td>NaN</td>\n",
       "      <td>NaN</td>\n",
       "      <td>32</td>\n",
       "    </tr>\n",
       "    <tr>\n",
       "      <th>6</th>\n",
       "      <td>AdaBoostClassifier</td>\n",
       "      <td>0.564347</td>\n",
       "      <td>0.576022</td>\n",
       "      <td>0.582111</td>\n",
       "      <td>0.00825802</td>\n",
       "      <td>NaN</td>\n",
       "      <td>NaN</td>\n",
       "      <td>16</td>\n",
       "    </tr>\n",
       "  </tbody>\n",
       "</table>\n",
       "</div>"
      ],
      "text/plain": [
       "                     estimator min_score mean_score max_score    std_score  \\\n",
       "1         ExtraTreesClassifier  0.999132   0.999188  0.999266  5.66896e-05   \n",
       "0         ExtraTreesClassifier  0.998799   0.998821  0.998865  3.13345e-05   \n",
       "5       RandomForestClassifier  0.995078   0.995675  0.996073  0.000429671   \n",
       "4       RandomForestClassifier  0.989062   0.990161  0.991058  0.000827589   \n",
       "3       RandomForestClassifier  0.863575   0.871624  0.877387   0.00586606   \n",
       "2       RandomForestClassifier  0.840147   0.857024  0.867705    0.0120732   \n",
       "11  GradientBoostingClassifier  0.631685    0.63485  0.636943   0.00227681   \n",
       "9   GradientBoostingClassifier   0.61971   0.629846  0.635898   0.00721226   \n",
       "8   GradientBoostingClassifier  0.602303   0.613904  0.626968    0.0101226   \n",
       "10  GradientBoostingClassifier  0.606482   0.613792  0.617514   0.00516972   \n",
       "7           AdaBoostClassifier  0.579402    0.58597   0.59092   0.00483948   \n",
       "6           AdaBoostClassifier  0.564347   0.576022  0.582111   0.00825802   \n",
       "\n",
       "   learning_rate max_depth n_estimators  \n",
       "1            NaN       NaN           32  \n",
       "0            NaN       NaN           16  \n",
       "5            NaN        30           32  \n",
       "4            NaN        30           16  \n",
       "3            NaN        15           32  \n",
       "2            NaN        15           16  \n",
       "11             1       NaN           32  \n",
       "9            0.8       NaN           32  \n",
       "8            0.8       NaN           16  \n",
       "10             1       NaN           16  \n",
       "7            NaN       NaN           32  \n",
       "6            NaN       NaN           16  "
      ]
     },
     "execution_count": 47,
     "metadata": {},
     "output_type": "execute_result"
    }
   ],
   "source": [
    "helper1.score_summary(sort_by='max_score')"
   ]
  },
  {
   "cell_type": "code",
   "execution_count": null,
   "metadata": {},
   "outputs": [],
   "source": []
  },
  {
   "cell_type": "code",
   "execution_count": null,
   "metadata": {},
   "outputs": [],
   "source": []
  },
  {
   "cell_type": "code",
   "execution_count": null,
   "metadata": {},
   "outputs": [],
   "source": []
  }
 ],
 "metadata": {
  "kernelspec": {
   "display_name": "Python 3",
   "language": "python",
   "name": "python3"
  },
  "language_info": {
   "codemirror_mode": {
    "name": "ipython",
    "version": 3
   },
   "file_extension": ".py",
   "mimetype": "text/x-python",
   "name": "python",
   "nbconvert_exporter": "python",
   "pygments_lexer": "ipython3",
   "version": "3.7.3"
  }
 },
 "nbformat": 4,
 "nbformat_minor": 2
}
